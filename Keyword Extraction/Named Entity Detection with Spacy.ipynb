{
 "cells": [
  {
   "cell_type": "code",
   "execution_count": 1,
   "metadata": {},
   "outputs": [],
   "source": [
    "import os\n",
    "import pandas as pd\n",
    "\n",
    "import spacy\n",
    "from spacy import displacy\n",
    "from docx import Document"
   ]
  },
  {
   "cell_type": "code",
   "execution_count": 3,
   "metadata": {},
   "outputs": [],
   "source": [
    "nlp = spacy.load('en_core_web_sm')\n",
    "f_path = './5138964-v5-Brazil_2013_Article_IV_Consultation_-_Policy_Note.DOCX'"
   ]
  },
  {
   "cell_type": "code",
   "execution_count": 5,
   "metadata": {},
   "outputs": [],
   "source": [
    "def Read_Doc(f_path,word_length_filter=20):\n",
    "    if os.path.isfile(f_path):\n",
    "        doc = Document(f_path)\n",
    "        text_list = [p.text for p in doc.paragraphs if len(p.text)>10]#[3:]\n",
    "        text_list = [p.replace('\\xa0',' ') for p in text_list] # some clean up \n",
    "        text_list = [p for p in text_list if len(p.split()) > word_length_filter]\n",
    "    else:\n",
    "        raise Exception('File does not exist: {}'.format(f_path))\n",
    "\n",
    "    return text_list"
   ]
  },
  {
   "cell_type": "code",
   "execution_count": 6,
   "metadata": {},
   "outputs": [],
   "source": [
    "docs = Read_Doc(f_path)\n",
    "docs = ' '.join(docs)\n",
    "doc = nlp(docs)\n",
    "\n",
    "result = pd.DataFrame(data = [ent.text for ent in doc.ents if ent.label_ == 'GPE'], columns = ['Country'])\n",
    "result.Country.value_counts().index[0]"
   ]
  }
 ],
 "metadata": {
  "kernelspec": {
   "display_name": "Python 3",
   "language": "python",
   "name": "python3"
  },
  "language_info": {
   "codemirror_mode": {
    "name": "ipython",
    "version": 3
   },
   "file_extension": ".py",
   "mimetype": "text/x-python",
   "name": "python",
   "nbconvert_exporter": "python",
   "pygments_lexer": "ipython3",
   "version": "3.6.7"
  }
 },
 "nbformat": 4,
 "nbformat_minor": 2
}
