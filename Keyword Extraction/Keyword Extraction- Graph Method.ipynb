{
 "cells": [
  {
   "cell_type": "markdown",
   "metadata": {},
   "source": [
    "### Apply Keyword Extraction using Graphical Models"
   ]
  },
  {
   "cell_type": "code",
   "execution_count": 1,
   "metadata": {
    "scrolled": true
   },
   "outputs": [
    {
     "name": "stderr",
     "output_type": "stream",
     "text": [
      "[nltk_data] Downloading package stopwords to /home/ubuntu/nltk_data...\n",
      "[nltk_data]   Unzipping corpora/stopwords.zip.\n"
     ]
    },
    {
     "data": {
      "text/plain": [
       "'/mnt/Model'"
      ]
     },
     "execution_count": 1,
     "metadata": {},
     "output_type": "execute_result"
    }
   ],
   "source": [
    "import os\n",
    "import pandas as pd\n",
    "import numpy as np\n",
    "import string\n",
    "\n",
    "import pke\n",
    "\n",
    "import spacy\n",
    "from spacy import displacy\n",
    "\n",
    "from nltk import download\n",
    "download('stopwords')\n",
    "from nltk.corpus import stopwords\n",
    "\n",
    "nlp = spacy.load('en')\n",
    "os.getcwd()"
   ]
  },
  {
   "cell_type": "markdown",
   "metadata": {},
   "source": [
    "#### Built stoplist"
   ]
  },
  {
   "cell_type": "code",
   "execution_count": 2,
   "metadata": {
    "collapsed": true
   },
   "outputs": [],
   "source": [
    "stoplist = list(string.punctuation)\n",
    "stoplist += ['-lrb-', '-rrb-', '-lcb-', '-rcb-', '-lsb-', '-rsb-']\n",
    "stoplist += stopwords.words('english')"
   ]
  },
  {
   "cell_type": "code",
   "execution_count": 3,
   "metadata": {
    "collapsed": true
   },
   "outputs": [],
   "source": [
    "def extract_key_words(text, method, n_word = 10):\n",
    "    '''\n",
    "    input: text- string, method: string key for extractor_list\n",
    "    output: list of top key words extracted\n",
    "    '''\n",
    "    extractor_dict = {\n",
    "        ## graph-based methods:\n",
    "        'text rank': pke.unsupervised.TextRank(),\n",
    "        'single rank': pke.unsupervised.SingleRank(),\n",
    "        'position rank': pke.unsupervised.PositionRank(),\n",
    "        'topic rank': pke.unsupervised.TopicRank(),\n",
    "        'topical page rank': pke.unsupervised.TopicalPageRank()\n",
    "    }\n",
    "    \n",
    "    extractor = extractor_dict[method]\n",
    "    extractor.load_document(input= text, language='en', normalization='stemming')\n",
    "    # keyphrase candidate selection\n",
    "    extractor.candidate_selection()\n",
    "    # candidate weighting, in the case of TopicRank: using a random walk algorithm  \n",
    "    if (method == 'topical page rank'):      \n",
    "        extractor.candidate_weighting(window=10, lda_model='../Output/lda_model')\n",
    "    else:\n",
    "        extractor.candidate_weighting() #in the case of TopicRank: sequences of nouns and adjectives (i.e. `(Noun|Adj)*`)    \n",
    "\n",
    "    keyphrases = extractor.get_n_best(n= n_word) # get key phrases\n",
    "    \n",
    "    return keyphrases"
   ]
  },
  {
   "cell_type": "markdown",
   "metadata": {},
   "source": [
    "#### Load Data"
   ]
  },
  {
   "cell_type": "code",
   "execution_count": 4,
   "metadata": {
    "collapsed": true
   },
   "outputs": [],
   "source": [
    "submissions = pd.read_excel('../Output/Submissions_test.xls')"
   ]
  },
  {
   "cell_type": "code",
   "execution_count": 5,
   "metadata": {
    "collapsed": true
   },
   "outputs": [],
   "source": [
    "import warnings\n",
    "warnings.filterwarnings('ignore')"
   ]
  },
  {
   "cell_type": "code",
   "execution_count": 6,
   "metadata": {},
   "outputs": [
    {
     "data": {
      "text/plain": [
       "5"
      ]
     },
     "execution_count": 6,
     "metadata": {},
     "output_type": "execute_result"
    }
   ],
   "source": [
    "min(submissions.Description.apply(len))"
   ]
  },
  {
   "cell_type": "code",
   "execution_count": 9,
   "metadata": {
    "collapsed": true
   },
   "outputs": [],
   "source": [
    "method = 'single rank' ## choose from ['text rank', 'single rank', 'position rank', 'topic rank', 'topical page rank']:"
   ]
  },
  {
   "cell_type": "code",
   "execution_count": 8,
   "metadata": {},
   "outputs": [
    {
     "name": "stdout",
     "output_type": "stream",
     "text": [
      "Keyword extraction using key:  single rank ...\n"
     ]
    },
    {
     "name": "stderr",
     "output_type": "stream",
     "text": [
      "WARNING:root:Not enough candidates to choose from (5 requested, 3 given)\n",
      "WARNING:root:Not enough candidates to choose from (5 requested, 0 given)\n",
      "WARNING:root:Not enough candidates to choose from (5 requested, 1 given)\n",
      "WARNING:root:Not enough candidates to choose from (5 requested, 3 given)\n",
      "WARNING:root:Not enough candidates to choose from (5 requested, 4 given)\n",
      "WARNING:root:Not enough candidates to choose from (5 requested, 4 given)\n",
      "WARNING:root:Not enough candidates to choose from (5 requested, 2 given)\n",
      "WARNING:root:Not enough candidates to choose from (5 requested, 3 given)\n",
      "WARNING:root:Not enough candidates to choose from (5 requested, 3 given)\n",
      "WARNING:root:Not enough candidates to choose from (5 requested, 4 given)\n",
      "WARNING:root:Not enough candidates to choose from (5 requested, 3 given)\n",
      "WARNING:root:Not enough candidates to choose from (5 requested, 4 given)\n",
      "WARNING:root:Not enough candidates to choose from (5 requested, 3 given)\n",
      "WARNING:root:Not enough candidates to choose from (5 requested, 3 given)\n",
      "WARNING:root:Not enough candidates to choose from (5 requested, 3 given)\n",
      "WARNING:root:Not enough candidates to choose from (5 requested, 4 given)\n",
      "WARNING:root:Not enough candidates to choose from (5 requested, 4 given)\n",
      "WARNING:root:Not enough candidates to choose from (5 requested, 2 given)\n",
      "WARNING:root:Not enough candidates to choose from (5 requested, 4 given)\n",
      "WARNING:root:Not enough candidates to choose from (5 requested, 3 given)\n",
      "WARNING:root:Not enough candidates to choose from (5 requested, 4 given)\n",
      "WARNING:root:Not enough candidates to choose from (5 requested, 1 given)\n",
      "WARNING:root:Not enough candidates to choose from (5 requested, 1 given)\n",
      "WARNING:root:Not enough candidates to choose from (5 requested, 3 given)\n",
      "WARNING:root:Not enough candidates to choose from (5 requested, 1 given)\n",
      "WARNING:root:Not enough candidates to choose from (5 requested, 3 given)\n",
      "WARNING:root:Not enough candidates to choose from (5 requested, 4 given)\n",
      "WARNING:root:Not enough candidates to choose from (5 requested, 3 given)\n",
      "WARNING:root:Not enough candidates to choose from (5 requested, 3 given)\n",
      "WARNING:root:Not enough candidates to choose from (5 requested, 2 given)\n",
      "WARNING:root:Not enough candidates to choose from (5 requested, 3 given)\n",
      "WARNING:root:Not enough candidates to choose from (5 requested, 3 given)\n",
      "WARNING:root:Not enough candidates to choose from (5 requested, 3 given)\n",
      "WARNING:root:Not enough candidates to choose from (5 requested, 4 given)\n",
      "WARNING:root:Not enough candidates to choose from (5 requested, 3 given)\n",
      "WARNING:root:Not enough candidates to choose from (5 requested, 3 given)\n",
      "WARNING:root:Not enough candidates to choose from (5 requested, 0 given)\n",
      "WARNING:root:Not enough candidates to choose from (5 requested, 3 given)\n",
      "WARNING:root:Not enough candidates to choose from (5 requested, 3 given)\n",
      "WARNING:root:Not enough candidates to choose from (5 requested, 4 given)\n",
      "WARNING:root:Not enough candidates to choose from (5 requested, 2 given)\n",
      "WARNING:root:Not enough candidates to choose from (5 requested, 4 given)\n",
      "WARNING:root:Not enough candidates to choose from (5 requested, 4 given)\n",
      "WARNING:root:Not enough candidates to choose from (5 requested, 3 given)\n"
     ]
    }
   ],
   "source": [
    "\n",
    "for key in method:\n",
    "    print('Keyword extraction using key: ', key, r'...')\n",
    "    submissions[key] = submissions.Description.apply(lambda x: extract_key_words(x, key, n_word= 5) if len(x)>20 else None)\n",
    "## For topic rank and topical page rank, perhaps make sense to build on the entire corpus instead of individual descriptions.\n",
    "\n"
   ]
  },
  {
   "cell_type": "code",
   "execution_count": 10,
   "metadata": {
    "collapsed": true
   },
   "outputs": [],
   "source": [
    "submissions.to_csv('../Output/Submissions_with_Keyword_Extraction_Graphical_{}.csv'.format(method))"
   ]
  },
  {
   "cell_type": "code",
   "execution_count": 11,
   "metadata": {},
   "outputs": [
    {
     "data": {
      "text/html": [
       "<div>\n",
       "<style>\n",
       "    .dataframe thead tr:only-child th {\n",
       "        text-align: right;\n",
       "    }\n",
       "\n",
       "    .dataframe thead th {\n",
       "        text-align: left;\n",
       "    }\n",
       "\n",
       "    .dataframe tbody tr th {\n",
       "        vertical-align: top;\n",
       "    }\n",
       "</style>\n",
       "<table border=\"1\" class=\"dataframe\">\n",
       "  <thead>\n",
       "    <tr style=\"text-align: right;\">\n",
       "      <th></th>\n",
       "      <th>Webstorm</th>\n",
       "      <th>Webstorm ID</th>\n",
       "      <th>Code</th>\n",
       "      <th>Category</th>\n",
       "      <th>Submitted</th>\n",
       "      <th>Submitter</th>\n",
       "      <th>Submitter email</th>\n",
       "      <th>Title</th>\n",
       "      <th>Description</th>\n",
       "      <th>Status</th>\n",
       "      <th>...</th>\n",
       "      <th>Position</th>\n",
       "      <th>Work History</th>\n",
       "      <th>Expert Skills</th>\n",
       "      <th>Photo</th>\n",
       "      <th>Submitted From</th>\n",
       "      <th>External ID</th>\n",
       "      <th>Internal_External</th>\n",
       "      <th>Title_modified</th>\n",
       "      <th>Team_Submission</th>\n",
       "      <th>single rank</th>\n",
       "    </tr>\n",
       "  </thead>\n",
       "  <tbody>\n",
       "    <tr>\n",
       "      <th>0</th>\n",
       "      <td>IMF Knowledge Sharing Challenge</td>\n",
       "      <td>DC8A2946-5EFF-481B-949B-91D314A100EB</td>\n",
       "      <td>D194</td>\n",
       "      <td>Visualization</td>\n",
       "      <td>11/11/2017 02:20</td>\n",
       "      <td>Team - Damon Hanlan</td>\n",
       "      <td>DHanlan@imf.org</td>\n",
       "      <td>IMF Explained</td>\n",
       "      <td>This project aims to promote wider education a...</td>\n",
       "      <td>Under Review</td>\n",
       "      <td>...</td>\n",
       "      <td>NaN</td>\n",
       "      <td>NaN</td>\n",
       "      <td>NaN</td>\n",
       "      <td>NaN</td>\n",
       "      <td>WebStorm</td>\n",
       "      <td>DHanlan@imf.org</td>\n",
       "      <td>External</td>\n",
       "      <td>explain imf</td>\n",
       "      <td>No</td>\n",
       "      <td>[(imf knowledge material, 0.07005838508891428)...</td>\n",
       "    </tr>\n",
       "    <tr>\n",
       "      <th>1</th>\n",
       "      <td>IMF Knowledge Sharing Challenge</td>\n",
       "      <td>DC8A2946-5EFF-481B-949B-91D314A100EB</td>\n",
       "      <td>D193</td>\n",
       "      <td>Visualization</td>\n",
       "      <td>11/11/2017 00:30</td>\n",
       "      <td>Reem Disu</td>\n",
       "      <td>RDisu@imf.org</td>\n",
       "      <td>iCreativity  Bubble - A visual space to explor...</td>\n",
       "      <td>\\tiCreativity Bubble\\n\\nThis idea is an engagi...</td>\n",
       "      <td>Under Review</td>\n",
       "      <td>...</td>\n",
       "      <td>NaN</td>\n",
       "      <td>NaN</td>\n",
       "      <td>NaN</td>\n",
       "      <td>NaN</td>\n",
       "      <td>WebStorm</td>\n",
       "      <td>RDisu@imf.org</td>\n",
       "      <td>External</td>\n",
       "      <td>bubbl explor icr share space visual</td>\n",
       "      <td>Yes</td>\n",
       "      <td>[(their own bubbles, 0.18881243038625825), (th...</td>\n",
       "    </tr>\n",
       "    <tr>\n",
       "      <th>2</th>\n",
       "      <td>IMF Knowledge Sharing Challenge</td>\n",
       "      <td>DC8A2946-5EFF-481B-949B-91D314A100EB</td>\n",
       "      <td>D191</td>\n",
       "      <td>Other</td>\n",
       "      <td>11/10/2017 20:26</td>\n",
       "      <td>Team - Sue Hopkins</td>\n",
       "      <td>SHopkins@imf.org</td>\n",
       "      <td>QR Codes for Fund-wide Document Management and...</td>\n",
       "      <td>The Office of the Managing Director is uniquel...</td>\n",
       "      <td>Under Review</td>\n",
       "      <td>...</td>\n",
       "      <td>NaN</td>\n",
       "      <td>NaN</td>\n",
       "      <td>NaN</td>\n",
       "      <td>NaN</td>\n",
       "      <td>WebStorm</td>\n",
       "      <td>SHopkins@imf.org</td>\n",
       "      <td>External</td>\n",
       "      <td>analyt code document fundwid manag qr</td>\n",
       "      <td>No</td>\n",
       "      <td>[(wide document management, 0.1149812780104402...</td>\n",
       "    </tr>\n",
       "    <tr>\n",
       "      <th>3</th>\n",
       "      <td>IMF Knowledge Sharing Challenge</td>\n",
       "      <td>DC8A2946-5EFF-481B-949B-91D314A100EB</td>\n",
       "      <td>D190</td>\n",
       "      <td>Other</td>\n",
       "      <td>11/10/2017 18:39</td>\n",
       "      <td>Team - Cosette Wong</td>\n",
       "      <td>CWong@imf.org</td>\n",
       "      <td>Knowledge librarians</td>\n",
       "      <td>We propose the creation of a knowledge librari...</td>\n",
       "      <td>Under Review</td>\n",
       "      <td>...</td>\n",
       "      <td>NaN</td>\n",
       "      <td>NaN</td>\n",
       "      <td>NaN</td>\n",
       "      <td>NaN</td>\n",
       "      <td>WebStorm</td>\n",
       "      <td>CWong@imf.org</td>\n",
       "      <td>External</td>\n",
       "      <td>knowledg librarian</td>\n",
       "      <td>No</td>\n",
       "      <td>[(knowledge management unit, 0.190070333511578...</td>\n",
       "    </tr>\n",
       "    <tr>\n",
       "      <th>4</th>\n",
       "      <td>IMF Knowledge Sharing Challenge</td>\n",
       "      <td>DC8A2946-5EFF-481B-949B-91D314A100EB</td>\n",
       "      <td>D189</td>\n",
       "      <td>Other</td>\n",
       "      <td>11/10/2017 18:35</td>\n",
       "      <td>Chenju Chakravarthy</td>\n",
       "      <td>CChakravarthy@imf.org</td>\n",
       "      <td>Intranet Data portal</td>\n",
       "      <td>Recently worked on a project to mine fungible ...</td>\n",
       "      <td>Under Review</td>\n",
       "      <td>...</td>\n",
       "      <td>NaN</td>\n",
       "      <td>NaN</td>\n",
       "      <td>NaN</td>\n",
       "      <td>NaN</td>\n",
       "      <td>WebStorm</td>\n",
       "      <td>CChakravarthy@imf.org</td>\n",
       "      <td>External</td>\n",
       "      <td>data intranet portal</td>\n",
       "      <td>Yes</td>\n",
       "      <td>[(fungible economist skills data, 0.1806118050...</td>\n",
       "    </tr>\n",
       "  </tbody>\n",
       "</table>\n",
       "<p>5 rows × 47 columns</p>\n",
       "</div>"
      ],
      "text/plain": [
       "                          Webstorm                           Webstorm ID  \\\n",
       "0  IMF Knowledge Sharing Challenge  DC8A2946-5EFF-481B-949B-91D314A100EB   \n",
       "1  IMF Knowledge Sharing Challenge  DC8A2946-5EFF-481B-949B-91D314A100EB   \n",
       "2  IMF Knowledge Sharing Challenge  DC8A2946-5EFF-481B-949B-91D314A100EB   \n",
       "3  IMF Knowledge Sharing Challenge  DC8A2946-5EFF-481B-949B-91D314A100EB   \n",
       "4  IMF Knowledge Sharing Challenge  DC8A2946-5EFF-481B-949B-91D314A100EB   \n",
       "\n",
       "   Code       Category         Submitted            Submitter  \\\n",
       "0  D194  Visualization  11/11/2017 02:20  Team - Damon Hanlan   \n",
       "1  D193  Visualization  11/11/2017 00:30            Reem Disu   \n",
       "2  D191          Other  11/10/2017 20:26   Team - Sue Hopkins   \n",
       "3  D190          Other  11/10/2017 18:39  Team - Cosette Wong   \n",
       "4  D189          Other  11/10/2017 18:35  Chenju Chakravarthy   \n",
       "\n",
       "         Submitter email                                              Title  \\\n",
       "0        DHanlan@imf.org                                      IMF Explained   \n",
       "1          RDisu@imf.org  iCreativity  Bubble - A visual space to explor...   \n",
       "2       SHopkins@imf.org  QR Codes for Fund-wide Document Management and...   \n",
       "3          CWong@imf.org                               Knowledge librarians   \n",
       "4  CChakravarthy@imf.org                              Intranet Data portal    \n",
       "\n",
       "                                         Description        Status  \\\n",
       "0  This project aims to promote wider education a...  Under Review   \n",
       "1  \\tiCreativity Bubble\\n\\nThis idea is an engagi...  Under Review   \n",
       "2  The Office of the Managing Director is uniquel...  Under Review   \n",
       "3  We propose the creation of a knowledge librari...  Under Review   \n",
       "4  Recently worked on a project to mine fungible ...  Under Review   \n",
       "\n",
       "                         ...                         Position Work History  \\\n",
       "0                        ...                              NaN          NaN   \n",
       "1                        ...                              NaN          NaN   \n",
       "2                        ...                              NaN          NaN   \n",
       "3                        ...                              NaN          NaN   \n",
       "4                        ...                              NaN          NaN   \n",
       "\n",
       "   Expert Skills  Photo  Submitted From            External ID  \\\n",
       "0            NaN    NaN        WebStorm        DHanlan@imf.org   \n",
       "1            NaN    NaN        WebStorm          RDisu@imf.org   \n",
       "2            NaN    NaN        WebStorm       SHopkins@imf.org   \n",
       "3            NaN    NaN        WebStorm          CWong@imf.org   \n",
       "4            NaN    NaN        WebStorm  CChakravarthy@imf.org   \n",
       "\n",
       "   Internal_External                         Title_modified Team_Submission  \\\n",
       "0           External                            explain imf              No   \n",
       "1           External    bubbl explor icr share space visual             Yes   \n",
       "2           External  analyt code document fundwid manag qr              No   \n",
       "3           External                     knowledg librarian              No   \n",
       "4           External                   data intranet portal             Yes   \n",
       "\n",
       "                                         single rank  \n",
       "0  [(imf knowledge material, 0.07005838508891428)...  \n",
       "1  [(their own bubbles, 0.18881243038625825), (th...  \n",
       "2  [(wide document management, 0.1149812780104402...  \n",
       "3  [(knowledge management unit, 0.190070333511578...  \n",
       "4  [(fungible economist skills data, 0.1806118050...  \n",
       "\n",
       "[5 rows x 47 columns]"
      ]
     },
     "execution_count": 11,
     "metadata": {},
     "output_type": "execute_result"
    }
   ],
   "source": [
    "submissions.head()"
   ]
  },
  {
   "cell_type": "markdown",
   "metadata": {},
   "source": [
    "#### Pick one for example"
   ]
  },
  {
   "cell_type": "code",
   "execution_count": null,
   "metadata": {},
   "outputs": [],
   "source": [
    "i = 16\n",
    "print(str.title(submissions.loc[i,'Title']))\n",
    "text = submissions.loc[i, 'Description']\n",
    "\n",
    "#### Visuzliae Named-Entity\n",
    "doc = nlp(text)\n",
    "displacy.render(doc, style='ent', jupyter= True)\n",
    "\n",
    "#### Print out keywords Extracted\n",
    "for key in ['text rank', 'single rank', 'position rank', 'topic rank', 'topical page rank']:\n",
    "    print('Keyword extraction using key: ', key, r'...')\n",
    "    print(extract_key_words(text, key, n_word= 6), '\\n')"
   ]
  }
 ],
 "metadata": {
  "kernelspec": {
   "display_name": "Python 3",
   "language": "python",
   "name": "python3"
  },
  "language_info": {
   "codemirror_mode": {
    "name": "ipython",
    "version": 3
   },
   "file_extension": ".py",
   "mimetype": "text/x-python",
   "name": "python",
   "nbconvert_exporter": "python",
   "pygments_lexer": "ipython3",
   "version": "3.6.3"
  }
 },
 "nbformat": 4,
 "nbformat_minor": 2
}
