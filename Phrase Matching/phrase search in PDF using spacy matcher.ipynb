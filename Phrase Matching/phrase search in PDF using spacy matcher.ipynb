{
 "cells": [
  {
   "cell_type": "markdown",
   "metadata": {},
   "source": [
    "### This file searches for keywords among pdf files and return the surrounding sentences around it\n",
    "#### ***implemented using spacy***"
   ]
  },
  {
   "cell_type": "code",
   "execution_count": 1,
   "metadata": {},
   "outputs": [],
   "source": [
    "import pandas as pd\n",
    "import numpy as np\n",
    "import os\n",
    "import io\n",
    "\n",
    "from pdfminer.converter import TextConverter\n",
    "from pdfminer.pdfinterp import PDFPageInterpreter\n",
    "from pdfminer.pdfinterp import PDFResourceManager\n",
    "from pdfminer.pdfpage import PDFPage\n",
    "\n",
    "import spacy"
   ]
  },
  {
   "cell_type": "markdown",
   "metadata": {},
   "source": [
    "#### load search word and documents as list"
   ]
  },
  {
   "cell_type": "code",
   "execution_count": 2,
   "metadata": {},
   "outputs": [],
   "source": [
    "searchList = ['FinTech','TechFin','digital','technology','Blockchain',\n",
    "              'distributed','Bitcoin','ICO','cryptocurrency','mobile','online',\n",
    "              'cyber','InsurTech','RegTech','micro']\n",
    "\n",
    "searchList = [x.lower() for x in searchList]"
   ]
  },
  {
   "cell_type": "code",
   "execution_count": 3,
   "metadata": {},
   "outputs": [
    {
     "name": "stdout",
     "output_type": "stream",
     "text": [
      "27\n"
     ]
    }
   ],
   "source": [
    "input_folder = r'U:\\\\My Documents\\\\Python\\\\Text Mining\\\\_archive\\PDF Extraction\\files'\n",
    "\n",
    "file_name = os.listdir(input_folder)\n",
    "file_path = [os.path.join(input_folder, x) for x in file_name]\n",
    "\n",
    "def extract_text_from_pdf(pdf_path):\n",
    "    resource_manager = PDFResourceManager()\n",
    "    fake_file_handle = io.StringIO()\n",
    "    converter = TextConverter(resource_manager, fake_file_handle)\n",
    "    page_interpreter = PDFPageInterpreter(resource_manager, converter)\n",
    " \n",
    "    with open(pdf_path, 'rb') as fh:\n",
    "        for page in PDFPage.get_pages(fh, \n",
    "                                      caching=True,\n",
    "                                      check_extractable=True):\n",
    "            page_interpreter.process_page(page)\n",
    " \n",
    "        text = fake_file_handle.getvalue()\n",
    " \n",
    "    # close open handles\n",
    "    converter.close()\n",
    "    fake_file_handle.close()\n",
    " \n",
    "    if text:\n",
    "        return text\n",
    "\n",
    "if __name__ == '__main__':\n",
    "    doc_list = list(map(lambda x: extract_text_from_pdf(x), file_path))\n",
    "    print(len(doc_list)) #     print(extract_text_from_pdf(file_path[0]))"
   ]
  },
  {
   "cell_type": "markdown",
   "metadata": {},
   "source": [
    "#### Create custom component and extension attributes for phrase match"
   ]
  },
  {
   "cell_type": "code",
   "execution_count": 17,
   "metadata": {},
   "outputs": [
    {
     "name": "stdout",
     "output_type": "stream",
     "text": [
      "['tagger', 'parser', 'ner']\n"
     ]
    }
   ],
   "source": [
    "# !python -m spacy download en_core_web_sm (not working on server. Instead, manually download and then use pip install)\n",
    "\n",
    "# from spacy.lang.en import English\n",
    "# nlp = English()\n",
    "# load document with spacy small model using spacy.pipe\n",
    "\n",
    "nlp = spacy.load('en_core_web_md')\n",
    "print(nlp.pipe_names)"
   ]
  },
  {
   "cell_type": "code",
   "execution_count": 18,
   "metadata": {},
   "outputs": [],
   "source": [
    "# Create pattern Doc objects and add to matcher\n",
    "from spacy.matcher import PhraseMatcher\n",
    "matcher = PhraseMatcher(nlp.vocab)\n",
    "patterns = list(nlp.pipe(searchList))\n",
    "matcher.add('Fintech', None, *patterns)"
   ]
  },
  {
   "cell_type": "code",
   "execution_count": 19,
   "metadata": {},
   "outputs": [
    {
     "name": "stdout",
     "output_type": "stream",
     "text": [
      "Pipeline:  ['tagger', 'parser', 'ner', 'match_component']\n"
     ]
    }
   ],
   "source": [
    "from spacy.tokens import Span\n",
    "\n",
    "def match_component(doc):\n",
    "    '''create an entity Span with label = fintech_related '''\n",
    "    matches = matcher(doc)\n",
    "    spans = [Span(doc, start, end, label = 'fintech_related') for match_id, start, end in matches]\n",
    "    # Overwrite the doc.ents with the matched spans\n",
    "    doc.ents = spans\n",
    "    return doc\n",
    "\n",
    "# add the component to the pipeline\n",
    "nlp.add_pipe(match_component, last = True)\n",
    "print('Pipeline: ', nlp.pipe_names)\n"
   ]
  },
  {
   "cell_type": "code",
   "execution_count": 20,
   "metadata": {},
   "outputs": [
    {
     "data": {
      "text/plain": [
       "(technology, technology, technology, micro, online)"
      ]
     },
     "execution_count": 20,
     "metadata": {},
     "output_type": "execute_result"
    }
   ],
   "source": [
    "test = nlp(doc_list[0], disable = ['tagger','parser','ner'])\n",
    "test.ents"
   ]
  },
  {
   "cell_type": "markdown",
   "metadata": {},
   "source": [
    "####  Extension attributes for sentence number\n",
    "\n",
    "##### Create property extension attributes for getting sentence id of span"
   ]
  },
  {
   "cell_type": "code",
   "execution_count": 21,
   "metadata": {},
   "outputs": [],
   "source": [
    "def get_sent_id(span):\n",
    "    '''get the id of the sentence containing the span'''\n",
    "    my_sent = span.sent.text\n",
    "    \n",
    "    for i, s in enumerate(list(doc.sents)):\n",
    "        if s.text == my_sent:\n",
    "            return i\n",
    "    \n",
    "    return None\n",
    "\n",
    "Span.set_extension('sent_id', getter = get_sent_id, force = True)"
   ]
  },
  {
   "cell_type": "markdown",
   "metadata": {},
   "source": [
    "##### Create method extension attribute for getting sentences from doc"
   ]
  },
  {
   "cell_type": "code",
   "execution_count": 22,
   "metadata": {},
   "outputs": [],
   "source": [
    "from spacy.tokens import Doc\n",
    "\n",
    "def get_sentences(doc, start_id, end_id):\n",
    "    '''return the sentence text between start_id and end_id of the document sentence list '''\n",
    "    sentences = list(doc.sents)[start_id: end_id]\n",
    "    return ' '.join([s.text for s in sentences])\n",
    "\n",
    "Doc.set_extension('get_sent', method = get_sentences, force = True)"
   ]
  },
  {
   "cell_type": "markdown",
   "metadata": {},
   "source": [
    "#### Process document list with spacy pipeline"
   ]
  },
  {
   "cell_type": "code",
   "execution_count": 23,
   "metadata": {},
   "outputs": [],
   "source": [
    "new_doc_list = list(nlp.pipe(doc_list))"
   ]
  },
  {
   "cell_type": "code",
   "execution_count": 24,
   "metadata": {},
   "outputs": [],
   "source": [
    "#test\n",
    "# new_doc_list[0][168:170]._.sent_id\n",
    "# new_doc_list[0]._.get_sent(56,58)\n",
    "# doc0 = new_doc_list[0]\n",
    "# doc0.ents[1].label_"
   ]
  },
  {
   "cell_type": "code",
   "execution_count": 25,
   "metadata": {},
   "outputs": [
    {
     "data": {
      "text/plain": [
       "[['3 through banks could deepen financial intermediation, reduce opportunities for corruption and improve the business climate. Gradual opening of the financial sector to foreign investors could improve services and transfer technology and know how. Directors also noted that continued efforts are required to strengthen the AML/CFT framework.',\n",
       "  'Ethiopia would benefit from structural reforms such as channeling the payment of taxes through banks, which would reduce taxpayers’ and administration’s costs, increase financial intermediation and development, and reduce opportunities for corruption. Also, gradual entry of global banks into Ethiopia would facilitate transmission of know-how and technology and help address CBR losses. Joining the African Continental Free Trade Agreement and accelerating progress on WTO accession would also improve access to foreign markets and support exports.',\n",
       "  'Allowing the payment of taxes through banks could yield significant benefits by deepening financial intermediation, eliminating opportunities for corruption, and improving the business climate. A gradual process of opening the financial sector to foreign participation would improve financial services availability while increasing FDI and encouraging transmission of technology and know-how. Staff welcomed the authorities’ intention to conduct an asset quality review of the CBE.  42.',\n",
       "  '(2008)5 and fitted a log-linear model of real exchange rates against per capita PPP GDP (both measured relative to the annual sample average) in a large sample of countries for 2000–17. Fuel and commodity exporters as well as small and micro-states were excluded from the sample. Comparing the actual real exchange rate with the level estimated by the fitted curve, the birr is estimated to have been overvalued by around 20 percent in 2017, down from 24 percent in 2016.',\n",
       "  'The main fiscal assumptions assume a continuation of the government’s record of prudent budget implementation. The near-term export outlook reflects the positive impact of earlier infrastructure investments including the Hawassa Industrial Park, the new railway line to Djibouti, and hydropower facilities and electricity transmission lines that have come online. The projection envisages the completion of ongoing upgrades to the power generation and transmission infrastructure (particularly to Kenya) and ramp-up of exports from existing and planned industrial parks.'],\n",
       " ['Building on earlier reforms to strengthen contract enforcement, the authorities should focus on fully implementing the law on enforcement procedures, accelerating the resolution of commercial cases (for example, by having more specialized judges, prioritizing commercial cases, and creating a commercial court), and strengthening property registration and the cadaster system (Annex V). In addition, legislation regulating and widening the range of activities of micro-financial institutions (MFIs) is currently before parliament, and the CBK is working on regulation allowing for the creation of investment funds. These changes need to be designed to ensure fair competition between MFIs and the banking system, while safeguarding prudential and consumer protection standards.  ',\n",
       "  'The number of different verification checks (visits) is very high and the outcome of such checks is not measured.   • Debt enforcement is too widely distributed across all regional offices, and the effectiveness of collections varies and is prone to collusion with taxpayers, especially when debt notices are hand-delivered by the inspectors processing the debt case. Debt collection and enforcement                                                    4',\n",
       "  'With a nearly 30 percent unemployment rate and 60 percent inactivity rate,2 labor market issues in Kosovo are macro-critical by constraining private sector income, tax receipts, potential output, and broad-based sustainable growth. Both cross-country and micro-level analysis suggest negative effects of relatively high public sector wages on employment, while in Kosovo inactivity and unemployment are positively correlated with household income from social benefits and remittances.    A.   '],\n",
       " ['Gross international reserves are expected to increase to around US$9.6 billion (5 months of prospective imports) at end-2018. Bank credit is expected to grow by around 20 percent in 2018, with micro-finance institution (MFI) credit expanding at an even higher rate, resulting in a credit-to-GDP gap that is conservatively estimated at close to 10 percentage points. 2.',\n",
       "  'Abolish the corporate income tax holiday for new investments while maintaining the statutory corporate tax rate at 20 percent; reduce the withholding tax rate for repatriated dividends to 10 percent; abolish or reduce customs tariffs on intermediate goods; and ensure timely VAT refunds. Eliminate the patent tax, remove notches in the business tax scale between small and medium-sized enterprises, and implement a simplified tax on micro firms. Initiate preparations for introducing a comprehensive personal income tax regime over the medium term.  ',\n",
       "  'Progress has been made in introducing capital markets, including for corporate bonds, and the authorities should continue to develop equity markets and introduce government bond markets. The use of financial technology has grown rapidly and is centered around mobile payments driven by demand for low-cost payment services, particularly in rural areas (Box 5). The NBC is also exploring use of Distributed Ledger Technology for interbank settlements.',\n",
       "  'Progress has been made in introducing capital markets, including for corporate bonds, and the authorities should continue to develop equity markets and introduce government bond markets. The use of financial technology has grown rapidly and is centered around mobile payments driven by demand for low-cost payment services, particularly in rural areas (Box 5). The NBC is also exploring use of Distributed Ledger Technology for interbank settlements.',\n",
       "  'The NBC is also exploring use of Distributed Ledger Technology for interbank settlements. The rapid growth of financial technology 010002000300040005000600070008000900010000KHMIDNMYSMMRPHLCambodia: Mobile Money',\n",
       "  'Policies should focus on expanding economic opportunities and sustainable development by improving economic and social infrastructure, particularly in rural areas; improving health and education outcomes and social protection in line with the NSPPF and promoting higher productivity in the agricultural sector. Increased use of financial technology, further developing financial infrastructure and improving financial literacy can help expand inclusion. \\uf0b7 Improving the regulatory environment and rule of law.',\n",
       "  'Promoting further financial market development and encouraging local currency use would increase resilience. The increasing use of financial technology requires regulation and supervision to carefully balance financial innovation and financial stability. 28.',\n",
       "  'Contraction in access to credit can be particularly salient in small-size loans, given their relatively high operational costs. Broadening access to low-cost credit warrants policies to reduce funding and operational costs, including through development of inter-bank markets and promoting the use of financial technology, and to improve financial literacy and consumer protection.   ____',\n",
       "  'Fintech and Financial Inclusion1 Fintech has encouraged financial inclusion by making financial services more accessible, primarily through an expansion of mobile payment services. Regulations need to balance innovation against mitigating new risks.  ',\n",
       "  'Regulations need to balance innovation against mitigating new risks.   FinTech in Cambodia is centered around mobile payments. Mobile financial services have enabled domestic migrant workers to remit money to rural areas, replacing more costly and insecure informal channels.',\n",
       "  'Regionally, Cambodia has one of the highest rates of borrowing (around 27 percent of the adult population) despite few individuals having access to a formal savings account (around 5 percent). Expanding mobile money services beyond payments to savings and other financial services (including insurance) would further enhance financial inclusion. Digitalization of government payments could also lead to better targeting, reduction in leakages, and improvements in spending efficiency.',\n",
       "  'The rapid growth of Fintech introduces new risks. Strong regulation of mobile banking is needed to ensure the nascent industry follows best international practice. The authorities oversight framework need consider clarity of the legal and regulatory regime, safeguarding funds, AML/CFT measures, and operational resilience.',\n",
       "  'The authorities oversight framework need consider clarity of the legal and regulatory regime, safeguarding funds, AML/CFT measures, and operational resilience. The authorities have developed regulations governing the licensing of mobile payment services providers and should continue to strengthen the legal framework, and fully adopt e-KYC and e-commerce consumer protection policies.   ____',\n",
       "  'Short-term ↓ Medium High Turning of the credit cycle and fallout from excess household and corporate leverage (incl. in FX) as investors withdraw FX deposits, generating disorderly deleveraging. Increase reserve requirements to slow down credit growth, implement macro prudential measures, strengthen micro-prudential regulation and supervision, ensure adequate emergency liquidity, strengthen supervision and regulation for MFIs. Preemptively strengthen the crisis management framework.',\n",
       "  '(ii) Training through customized courses jointly with CDOT, either in Cambodia or other CLMV countries with participation of Cambodian officials; (iii) Training via workshops or peer-to-peer learning events – in collaboration with CDOT or APD -- in which Cambodian officials participate. Other training occurs in the context of TA and through participation in online courses. \\x0c CAMBODIA INTERNATIONAL MONETARY FUND',\n",
       "  'In March 2018, a TA from IMF CDOT assisted with improving data quality (coverage and estimation methods), particularly for travel, compensation of employees and workers’ remittances. In September 2018, a TA from IMF CDOT developed a new compilation file for inward FDI, simplifying the work process and streamlining the compilation for inward FDI of banks, micro-finance institutions, and nonfinancial corporations. Moreover, the mission assisted with improving the estimation of freight and passenger transport.',\n",
       "  'These measures have helped the NCB regain monetary policy independence, including short-term interest rate targeting and expansion of the use of local currency, currently curtailed by the high degree of dollarization. The NCB is also exploring the use of financial technology, such as mobile payments, in providing low-cost payment services.   Financial Sector  ',\n",
       "  'These measures have helped the NCB regain monetary policy independence, including short-term interest rate targeting and expansion of the use of local currency, currently curtailed by the high degree of dollarization. The NCB is also exploring the use of financial technology, such as mobile payments, in providing low-cost payment services.   Financial Sector  '],\n",
       " [\"Directors welcomed the government’s efforts to reduce bureaucracy in business processes and to combat corruption. They encouraged further reforms, including moving to digital                                                            2 At the conclusion of the discussion, the Managing Director, as Chairman of the Board, summarizes the views of Executive Directors, and this summary is transmitted to the country's authorities.\",\n",
       "  'Staff studied the World Bank Doing Business (DB) report on Bolivia to gain a deeper understanding of the issues to better inform our macro-structural diagnosis and policy advice. After consulting with the authorities, survey respondents, and the World Bank, staff identified a number of priority reforms that should be easier to implement, including: (i) changing regulations and digital processes to enable the filing of taxes and all payments online, and possibly reducing the frequency of tax payments (VAT, social security contributions, the transaction tax) in some instances; (ii) allowing broader VAT refunds; and (iii) modernizing the technology and methods used to obtain a business license, get a company deed, and register employees with the national health insurance/pension system. Subsequent reforms could include implementing regulations to enhance investor protections, withdrawing the recent Law of Creation of Social Enterprises, and revising building laws to match international standards (see SIP).  35.      ',\n",
       "  'Staff studied the World Bank Doing Business (DB) report on Bolivia to gain a deeper understanding of the issues to better inform our macro-structural diagnosis and policy advice. After consulting with the authorities, survey respondents, and the World Bank, staff identified a number of priority reforms that should be easier to implement, including: (i) changing regulations and digital processes to enable the filing of taxes and all payments online, and possibly reducing the frequency of tax payments (VAT, social security contributions, the transaction tax) in some instances; (ii) allowing broader VAT refunds; and (iii) modernizing the technology and methods used to obtain a business license, get a company deed, and register employees with the national health insurance/pension system. Subsequent reforms could include implementing regulations to enhance investor protections, withdrawing the recent Law of Creation of Social Enterprises, and revising building laws to match international standards (see SIP).  35.      ',\n",
       "  'Staff studied the World Bank Doing Business (DB) report on Bolivia to gain a deeper understanding of the issues to better inform our macro-structural diagnosis and policy advice. After consulting with the authorities, survey respondents, and the World Bank, staff identified a number of priority reforms that should be easier to implement, including: (i) changing regulations and digital processes to enable the filing of taxes and all payments online, and possibly reducing the frequency of tax payments (VAT, social security contributions, the transaction tax) in some instances; (ii) allowing broader VAT refunds; and (iii) modernizing the technology and methods used to obtain a business license, get a company deed, and register employees with the national health insurance/pension system. Subsequent reforms could include implementing regulations to enhance investor protections, withdrawing the recent Law of Creation of Social Enterprises, and revising building laws to match international standards (see SIP).  35.      ',\n",
       "  'They also plan to transfer the Real Estate Office to the Ministry of Justice, which should help create a national registry. In line with the Framework for Enhanced Fund Engagement on governance, staff identified a number of areas warranting attention (see Annex IV).10 Priorities could focus on moving toward digital methods for tax and business-related procedures (¶34), improving the legislative framework governing SOEs and SOE oversight, strengthening the planning and implementation of public investment, including with a full PIMA assessment, submitting financial statements of public entities to independent auditors, and eliminating manual procedures on the Treasury Single Account. Staff believe that a new PEFA mission for the central government would be a valuable follow-up to the 2009 report.',\n",
       "  'Second, the practice of indexing national wage bonuses to the GDP growth rate should be discontinued and wage growth aligned with relevant criteria such as cost of living adjustments and productivity. Third, the authorities should consider reducing the government’s take in the hydrocarbon and mineral sectors in a transparent manner that avoids introducing discretionary tax incentives, canceling the Social Companies Law, and implementing measures to improve the business climate and reduce \\x0c BOLIVIA INTERNATIONAL MONETARY FUND 25 vulnerabilities that could enable corruption, including implementing digital processes to enable the filing of taxes and payments online (VAT, social security contributions, transaction tax)  and moving toward digital methods for business-related procedures.   55.      ',\n",
       "  'Second, the practice of indexing national wage bonuses to the GDP growth rate should be discontinued and wage growth aligned with relevant criteria such as cost of living adjustments and productivity. Third, the authorities should consider reducing the government’s take in the hydrocarbon and mineral sectors in a transparent manner that avoids introducing discretionary tax incentives, canceling the Social Companies Law, and implementing measures to improve the business climate and reduce \\x0c BOLIVIA INTERNATIONAL MONETARY FUND 25 vulnerabilities that could enable corruption, including implementing digital processes to enable the filing of taxes and payments online (VAT, social security contributions, transaction tax)  and moving toward digital methods for business-related procedures.   55.      ',\n",
       "  'Second, the practice of indexing national wage bonuses to the GDP growth rate should be discontinued and wage growth aligned with relevant criteria such as cost of living adjustments and productivity. Third, the authorities should consider reducing the government’s take in the hydrocarbon and mineral sectors in a transparent manner that avoids introducing discretionary tax incentives, canceling the Social Companies Law, and implementing measures to improve the business climate and reduce \\x0c BOLIVIA INTERNATIONAL MONETARY FUND 25 vulnerabilities that could enable corruption, including implementing digital processes to enable the filing of taxes and payments online (VAT, social security contributions, transaction tax)  and moving toward digital methods for business-related procedures.   55.      ',\n",
       "  'Interactions with public bodies are often associated with higher incidence of “facilitation payments”. As discussed in the Selected Issues Paper on Doing Business, strengthening the regulatory environment for private investment and moving to online payments and processes will be critical for reducing both the supply and demand for corruption, facilitating private investment and business activity, and attracting activity into the formal sector.   In line with findings on the Doing Business report, staff propose the following reforms to strengthen governance in the government’s interaction with private business: (i) move to full online filing and tax payments (including for VAT, social security contributions, the transaction tax) and possibly reduce the frequency of payments in some instances; and (ii) make improvements in IT (automation, web based, digital applications) to reduce the interactions needed to obtain a business license from the municipality, get a company deed, obtain construction permits, and other administrative services.',\n",
       "  'As discussed in the Selected Issues Paper on Doing Business, strengthening the regulatory environment for private investment and moving to online payments and processes will be critical for reducing both the supply and demand for corruption, facilitating private investment and business activity, and attracting activity into the formal sector.   In line with findings on the Doing Business report, staff propose the following reforms to strengthen governance in the government’s interaction with private business: (i) move to full online filing and tax payments (including for VAT, social security contributions, the transaction tax) and possibly reduce the frequency of payments in some instances; and (ii) make improvements in IT (automation, web based, digital applications) to reduce the interactions needed to obtain a business license from the municipality, get a company deed, obtain construction permits, and other administrative services. (iii)',\n",
       "  'As discussed in the Selected Issues Paper on Doing Business, strengthening the regulatory environment for private investment and moving to online payments and processes will be critical for reducing both the supply and demand for corruption, facilitating private investment and business activity, and attracting activity into the formal sector.   In line with findings on the Doing Business report, staff propose the following reforms to strengthen governance in the government’s interaction with private business: (i) move to full online filing and tax payments (including for VAT, social security contributions, the transaction tax) and possibly reduce the frequency of payments in some instances; and (ii) make improvements in IT (automation, web based, digital applications) to reduce the interactions needed to obtain a business license from the municipality, get a company deed, obtain construction permits, and other administrative services. (iii)'],\n",
       " ['Most people work in agriculture without formal employment. Households generally own few productive assets (hoes, bike, carts, ploughs, etc.,) or household items (e.g., furniture, radio, mobile phone, television, etc.,). Asset ownership declined in 2016 compared to 2012.',\n",
       "  \"’s four banks have implemented key recommendations ofthe Commission Bancaire de l'Afrique Centrale (COBAC), the regional banking supervisor, relatedto governance and compliance with prudential standards. There are some delays, however, onimplementing recommendations regarding internal controls and anti-money launderingincluding the identification of mobile banking users and the update of IT system by banks. Authorities’ Views\",\n",
       "  'They emphasizedtheir strong commitment to overhauling revenue administration and expressed theirappreciation for the Fund’s technical assistance. They highlighted that work is underway to builda new headquarters for the tax administration which will help modernize outdated informationtechnology and expressed strong interest in adopting new technology to facilitate revenuecollection and tax payments. In particular, they will draw on the experience of Rwanda andSenegal on the use of IT tools to mobilize domestic revenue and committed to set up a new ITplatform at the Ministry of Finance by end-December 2018',\n",
       "  'The government is determined to promote the development of the financial sector and financial inclusion of the entire population, including the most vulnerable. To this end, we intend to promote the use of mobile banking services, which could help to compensate the absence of banking service branches in provinces. In addition, the recommendations of the 2017 COBAC mission are being implemented.',\n",
       "  'Although solid progress has been made by banks towards meeting governance and prudential standards set forth by the \\x0c4  regional supervisory body COBAC, the authorities intend to take the necessary action to ensure full compliance. To expand financial services across the country and accelerate financial inclusion, they will rely on financial technologies, most notably mobile banking. Efforts to strengthen the AML/CFT framework will continue.  '],\n",
       " ['Statistics Finland; Bank of Finland; and IMF staff calculations.\\x0c FINLAND INTERNATIONAL MONETARY FUND 11 challenge arises from non-bank lending, including online platforms such as peer-to-peer lending, which is not being recorded in credit statistics and registers (section B and Box 1).   • The growing reliance on consumer credit, especially that provided by non-banks and via digital platforms, raises additional concerns.',\n",
       "  'FINLAND INTERNATIONAL MONETARY FUND 11 challenge arises from non-bank lending, including online platforms such as peer-to-peer lending, which is not being recorded in credit statistics and registers (section B and Box 1).   • The growing reliance on consumer credit, especially that provided by non-banks and via digital platforms, raises additional concerns. Some of these outlets are not regulated and provide cross-border financing.',\n",
       "  'The authorities are amending the legislation on interest rate caps to close loopholes. Additional consumer protection measures are needed and require more data collection, especially on consumer lending provided through digital platforms. Tighter prudential requirements to demonstrate creditworthiness could also be considered.',\n",
       "  '“ Fintech” is an appellation for a broad and fluid set of technology-enabled innovations in finance. These advances are creating new opportunities for consumers and service providers while also setting new challenges for regulators.',\n",
       "  'These advances are creating new opportunities for consumers and service providers while also setting new challenges for regulators. While much attention has been given recently to the implications for regulation of increased operational risks (e.g. from changes to payments systems and from cyber risks),1 there are important implications from new developments in consumer lending. Whereas credit has usually been intermediated by banks, electronic platforms now enable borrowers to be matched directly with investors.',\n",
       "  'Data are sparse, but suggest that “peer-to-peer” (P2P) lending and related practices are expanding very rapidly. According to survey data, the online market has almost quintupled in size between 2014 and 2017 and is now the fifth largest market for digital finance in Europe after the UK, France, Germany and the Netherlands in terms of lending volumes.2   In principle, P2P lending can improve the market for consumer credit: it can increase competition and financial inclusion, and create tailored products that better match borrowers’ needs.',\n",
       "  'Data are sparse, but suggest that “peer-to-peer” (P2P) lending and related practices are expanding very rapidly. According to survey data, the online market has almost quintupled in size between 2014 and 2017 and is now the fifth largest market for digital finance in Europe after the UK, France, Germany and the Netherlands in terms of lending volumes.2   In principle, P2P lending can improve the market for consumer credit: it can increase competition and financial inclusion, and create tailored products that better match borrowers’ needs.',\n",
       "  'The cost and efficiency gains are expected to be realized via better integration of both health and social services on one hand, and primary and specialized care on the other hand, as well as by allowing more freedom of choice for customers through increased competition. Moreover, digitalization and technology are expected to yield efficiency gains when effectively and systematically implemented in the counties. With the help of the cost and efficiency gains, the reform aims to safeguard equal access to social and healthcare services.'],\n",
       " ['Amongst the relevant bills in parliament, the establishment of the Fiscal Council, an IMF longstanding recommendation, was approved during the last legislative period, while other important initiatives – namely, the adoption of sanctions to fraud against public administration, the criminalization of fiscal fraud, as well as the elimination of the statute-of-limitation on fiscal fraud and corruption – are in different stages of the legislative process. The proposed fintech legislation awaits initial discussion at committee level. The approval of the bill criminalizing fiscal fraud, to be discussed in the upcoming extraordinary legislative sessions, would not only fulfill one of the Financial Action Task Force of Latin America (GAFILAT) main recommendations highlighted in its latest report but reassert the country’s commitment to abide to and support international rules and regulations on AML/CFT.'],\n",
       " ['On measures, the new government has a clear goal of reducing quasi-fiscal transfers to SOEs to enhance discipline in the sector, although they acknowledge that said reduction needs to be accompanied by reform if it is to be durable. They also agree that better monitoring of contingent risks from SOEs is crucial and are expanding data                                                    4 Tax expenditures are extensive and distributed across all major taxes. Fund technical assistance has previously identified key areas where tax expenditures can be repealed, converted to a direct expenditure or re-designed, including in goods and services, profit and income, real estate, land and environmental taxes.',\n",
       "  'Export of services increased by 18.2 percent and the positive trade balance in services improved by 35.7 percent between 2015 and 2017, contributing to Belarus’ overall positive trade balance in goods and services. To further promote the development of the ICT sector, a Presidential Decree on digital economy development was adopted in December 2017. The decree prolongs the special taxation and regulation regime of the High-Technology Park (HTP), introduced a liberal legal framework for Blockchain technologies and legalized \\x0c“smart contracts” in Belarus.'],\n",
       " ['This could involve the trimming of allowances, slowing the pace of promotions, and the limiting of hiring in lower priority sectors. The freezing of salary increases would be more difficult given the perception that base salaries are low and allowances not equitably distributed. Staff emphasized that for every percentage point of GDP less in public wage spending and commensurately more in domestically-financed capital spending could boost the trend growth rate by about a ¼ percentage point (October 2017 SSA REO).',\n",
       "  'The authorities in 2017 adopted a financial inclusion strategy aligned to the WAEMU regional strategy in this area. It emphasizes mobile banking, microfinance, and the reduction of administrative barriers. In this context, staff recommends that the authorities accelerate efforts to fully operationalize the credit bureau with the aim to minimize information gaps and support access to credit.',\n",
       "  'Moreover, progress is being made in establishing full compliance for wealth and asset declarations for government members, members of parliament, and judges. The authorities are committed to making this available in an online consultable form in early 2019 (MEFP ¶93). Text Figure 3.',\n",
       "  'Burkina Faso’s growing security spending needs combined with the large social and development spending needs make it critical for the authorities to accelerate reforms to raise domestic revenue. Under the program, tax and customs administration reforms will focus on expanding use of online tax filing and payments, further strengthen tax compliance and audit capacities, and modernize collection procedures. Staff emphasizes the importance of continuing to progress with the establishment of a customs valuation unit in line with WTO standards and ensure adequate staffing and capacity of customs administration.',\n",
       "  '29. In the area of employment, the investments concerned the implementation of the Youth Employment for National Education Program (PEJEN), with the hiring of 2100 young university graduates now under way, and the financing of 49 projects and micro-projects for “downsized” and retired workers. Also, as part of efforts to improve the employability and promote the socioeconomic empowerment of women, 1270 women were trained in processing local products,',\n",
       "  '“ approval, by the ministry in charge of finance, SONAPOST, and the ministry in charge of the digital economy, of a plan for SONAPOST’s repayment of Treasury assets held in postal accounts. ”',\n",
       "  'With respect to the other four measures to be implemented by end-December 2018, implementation has been broadly satisfactory and is expected to be completed on schedule. The measures in question are: (i) revision of national accounting systems with the new base year and publication of revised series, (ii) incorporation of the results of the study on artisanal gold mining in the national accounting system, (iii) the development and adoption of a mechanism for operation of the Treasury single account, and (iv) the automation of asset reporting by persons subject to the provisions of Law 04/CNT/2018 and implementation of a searchable database (online reporting and online query). IMPLEMENTATION OF THE PNDES  ',\n",
       "  'With respect to the other four measures to be implemented by end-December 2018, implementation has been broadly satisfactory and is expected to be completed on schedule. The measures in question are: (i) revision of national accounting systems with the new base year and publication of revised series, (ii) incorporation of the results of the study on artisanal gold mining in the national accounting system, (iii) the development and adoption of a mechanism for operation of the Treasury single account, and (iv) the automation of asset reporting by persons subject to the provisions of Law 04/CNT/2018 and implementation of a searchable database (online reporting and online query). IMPLEMENTATION OF THE PNDES  ',\n",
       "  'The implementation of the new measures provided in the 2019 budget law and special collection measures will serve to achieve the projected level for 2019. The measures include: \\x0cBURKINA FASO INTERNATIONAL MONETARY FUND 63 • expanding the scope of application of the tax on capital gains from the transfer of mining permits; • bringing the drinks sector into the general tax system through the revocation of exemptions granted to taxpayers previously subject to the Beverage Sector Contribution (CSB); • instituting a tax on heavy duty vehicles; • increasing the tax rate on arms; • increasing the tax on airline tickets; • increasing the rate of the specific tax on perfume and cosmetic products; • broadening the scope for licenses for drinking establishments; • eliminating the system of flat taxes on beverage sector activities and applying generally applicable tax laws to the sector, with the institution of a 5 percent estimated income tax; • increasing the tax rate for nonalcoholic beverages from 10 percent to 15 percent; • increasing the tax rate for biodegradable and authorized non-biodegradable plastic wrapping and bags; • increasing receipts from the property tax on improved and unimproved properties (TF B/NB), the residence tax, and the microenterprise contribution through the use of data from the general census of Ouagadougou and Bobo-Dioulasso taxpayers; • the anticipated proceeds of the campaign to collect tax arrears; • enhancing off-site surveillance through implementation of the ASYCUDA value module; • ongoing offsite surveillance of merchandise valuation by the Valuation Control Unit; • pursuing outsourcing of the valuation of used vehicles less than 10 years old and heavy machinery to the Motor Vehicle Control Center (CCVA), and reducing the allowance from 50 percent to 25 percent of the value; • continuing efforts to interconnect the Burkinabè customs IT systems with those of Togo pending receipt of data on all merchandise exported to Burkina Faso; • interconnecting the Burkinabè customs IT systems with those of Côte d’Ivoire to manage merchandise flows into Burkina Faso; • dividing the Bobo international customs bureau into three bureaus (roads, railway, and hydrocarbons), introducing specialization in order to better control merchandise flows; and • automating revenue management in customs offices and mobile brigades not connected to the ASYCUDA system. 60.',\n",
       "  '62. We also intend to strengthen revenue administration by monitoring procedures for taxpayers who do not file declarations, in particular through enhanced cooperation between the DGD and the DGI; the launch of an effort to evaluate tax arrears and develop a strategy to collect non-contested debts and write off unrecoverable debts; institute targeted audits for specific issues; conduct a study on the taxation of small businesses and microenterprises (structural benchmark), reform the taxation of the informal sector; and increase online declarations and payments. 63.',\n",
       "  'To automate asset reporting by the individuals covered by Law No. 004-2015/CNT of March 3, 2015 and implement a searchable database (online reporting, online query for the officials designated by the law) , the government submitted to the National Assembly the draft law amending the aforesaid law to include the automation of asset reporting by individuals; which the National Assembly approved.',\n",
       "  'To automate asset reporting by the individuals covered by Law No. 004-2015/CNT of March 3, 2015 and implement a searchable database (online reporting, online query for the officials designated by the law) , the government submitted to the National Assembly the draft law amending the aforesaid law to include the automation of asset reporting by individuals; which the National Assembly approved.',\n",
       "  '2018In progressProceed with the dematerialization of asset declarations of government officials and those covered by the law, by instituting online submisisons, and create a searchable databaseImprove governance and improve the fight against corruptionDecember, 2018In',\n",
       "  'The stock of external debt, external debt service, external debt contracted, and external debt repayment DGTCP Quarterly  6 weeks Social poverty-reducing expenditures in table format DGTCP Monthly  6 weeks Petroleum product prices, consumption and taxes, including: (i) the price structure for the month concerned;; (ii) detailed calculation of the price structure, from the fob-MED price to the retail price; (iii) volumes purchased and distributed for consumption by the petroleum distributor (SONABHY); with a distinction made between retail and industry sales; and (iv) a breakdown of tax revenue from petroleum products — customs duties, tax on petroleum products (TPP) and value-added tax (VAT) — and subsidies unpaid SONABHY/ DGTCP Monthly  4 weeks A quarterly summary report of monthly data of SONABHY’s accounts including gains and/or losses from the buying and selling of hydrocarbon products by type of product, cash flows position and income statement, taking into account all received  ',\n",
       "  'In this regard, a draft action plan for the implementation of the National Strategy for Inclusive Finance (SNFI) adopted in 2017 is \\x0c5 being prepared and should be finalized by end-2018. The strategy will promote microfinance and capitalize on the expansion of the mobile technology to make further strides in this area. They authorities will sustain their efforts to further improve business environment by notably removing excessive red tape and pursuing the implementation of judicial centers specializing in economic and financial crimes and terrorist acts.  ',\n",
       "  'In this regard, a draft action plan for the implementation of the National Strategy for Inclusive Finance (SNFI) adopted in 2017 is \\x0c5 being prepared and should be finalized by end-2018. The strategy will promote microfinance and capitalize on the expansion of the mobile technology to make further strides in this area. They authorities will sustain their efforts to further improve business environment by notably removing excessive red tape and pursuing the implementation of judicial centers specializing in economic and financial crimes and terrorist acts.  '],\n",
       " ['ofpopulationwith access)KiribatiPacific island countries averageKiribati has an Infrastructure GapNote: 2015 data except for access to electricity (2014) and mobile cellular subscriptions (2016).Sources: World Bank, World Development Indicators.\\x0c KIRIBATI 4 INTERNATIONAL MONETARY FUND',\n",
       "  'Facilitating private sector access to credit would be best achieved by improving land access procedures and dispute resolution mechanisms (to enhance property rights and enable lending against collateral). Building \\x0cKIRIBATI 10 INTERNATIONAL MONETARY FUND on the donor-funded investment in ICT infrastructure, mobile connectivity and mobile banking should be promoted more, as experience in the region has demonstrated their job-creation and financial-deepening benefits. Potential to develop credit unions, which tend to be better at understanding the information needed for lending to small borrowers, could also be explored.',\n",
       "  'Facilitating private sector access to credit would be best achieved by improving land access procedures and dispute resolution mechanisms (to enhance property rights and enable lending against collateral). Building \\x0cKIRIBATI 10 INTERNATIONAL MONETARY FUND on the donor-funded investment in ICT infrastructure, mobile connectivity and mobile banking should be promoted more, as experience in the region has demonstrated their job-creation and financial-deepening benefits. Potential to develop credit unions, which tend to be better at understanding the information needed for lending to small borrowers, could also be explored.',\n",
       "  'Kiribati’s VDS has never been tested in low-yield years, which could pose a challenge when the El Nino conditions reverse.   • Enforcement of sustainable fishing practices benefit all in the long run, but costs can sometimes be distributed unevenly, or there may be incentives to deviate from the collaborative equilibrium if short-run rewards—in the form of temporarily higher catch volumes—for doing so are high.   •',\n",
       "  'Kiribati has the lowest per capita income in the region and a fifth of the population lives below the poverty line. Infrastructure needs \\x0c2 are high – less than half the population has access to improved sanitation or electricity, or mobile phone and internet access.   The authorities are committed to prudent and sustainable fiscal management, alongside necessary investments in development and social programs.'],\n",
       " ['The authorities’ plan to abolish the arrangement for \"offsetting\" severance payment and long service payment with Mandatory Provident Fund benefits is welcome, and should proceed as planned. Plans to develop the bond market and further promote innovation and technology are steps in the right direction. Further expansion of the Hong Kong SAR’s role as a leading financial center and as the gateway to Mainland China should also help.  \\x0c ',\n",
       "  'Fortunately, many years of prudent macro policies left Hong Kong SAR with ample buffers that should ease the transition and allow for policies to ensure continued stability and prosperity, and increased inclusion. The authorities’ have taken a number of steps to address these challenges including efforts to increase housing supply and provide public housing to a large part of the population, and boosted spending on health and social welfare to increase inclusion, as well as maintaining robust financial regulation and supervision including for fintech.     DEVELOPMENTS:',\n",
       "  '20.       Continued efforts to support healthy development of the fintech sector will be key to bolster Hong Kong SAR’s standing as a regional financial center. A number of initiatives are currently underway:   •',\n",
       "  '• The Faster Payment System, allowing the use of emails and mobile phones for payments in Hong Kong dollars and RMB across 21 banks and ten e-wallets, was launched in September 2018 and supports instant, multi-currency payments on a 24/7 basis.   • The HKMA is strengthening collaboration with authorities in other jurisdictions to support innovation and information sharing.',\n",
       "  '• The HKMA is strengthening collaboration with authorities in other jurisdictions to support innovation and information sharing. A distributed ledger technology-based trade finance platform – eTradeConnect – was launched in October 2018.',\n",
       "  '• The HKMA is strengthening collaboration with authorities in other jurisdictions to support innovation and information sharing. A distributed ledger technology-based trade finance platform – eTradeConnect – was launched in October 2018.',\n",
       "  'Spending on public housing is expected to remain constant as a share of GDP (despite being below historical levels and amid a significant unmet demand for public housing) and should be raised in future.   • On other expenditure, the authorities should carefully consider spending plans on technology and other industries to ensure that there is adequate demand for planned facilities and services that could not be met by private sector initiatives. More broadly, other increases in recurrent spending should also be carefully analyzed as they may be difficult to reverse in the future, thus complicating long-term fiscal management when aging pressures arise.  ',\n",
       "  'Higher expenditures on social welfare, health, and housing are to ensure high level of services to the Hong Kong SAR’s population to fulfill the “caring and sharing” pledge of the government. The authorities also highlighted that they viewed increased spending on education and innovation and technology as investment to secure future growth in Hong Kong SAR. They also noted that they stand ready to support the Housing Authority, which presently still has not fully utilized the HKD $78.8 billion (balance as of end-2017) set aside a few years ago as the Housing Reserve.',\n",
       "  'With support from Mainland’s State Council, the development of the Guangdong-Hong Kong SAR-Macao SAR Bay Area, initiated in March 2017, could help increase the flow of people, capital, goods and services between Mainland China’s Guangdong province and Hong Kong SAR and Macao SAR. Given the development of Shenzhen and other cities in Southern China into a new technology cluster, with leading firms and significant human resources located there, greater integration could bring significant economic opportunities. At the same time, new risks will likely emerge, including greater exposure to the economic cycles in Mainland China.   •',\n",
       "  'The authorities’ plan to abolish the arrangement for \"offsetting\" severance payment and long service payment with Mandatory Provident Fund benefits is welcome, and should proceed as planned. Plans to develop the bond market and further promote innovation and technology are steps in the right direction. Further expansion of the Hong Kong SAR’s role as a leading financial center and as the gateway to Mainland China should also help.  \\x0c ',\n",
       "  'Through closer integration, Hong Kong SAR can leverage its expertise in financial services to meet the funding needs of Mainland companies in the GBA. Meanwhile, Hong Kong SAR companies can utilize the research capacity in Shenzhen, which is Mainland China’s technology hub, to upgrade its fintech industry and other innovation capabilities.   The GBA development offers a rich array of opportunities for Hong Kong SAR.',\n",
       "  'Through closer integration, Hong Kong SAR can leverage its expertise in financial services to meet the funding needs of Mainland companies in the GBA. Meanwhile, Hong Kong SAR companies can utilize the research capacity in Shenzhen, which is Mainland China’s technology hub, to upgrade its fintech industry and other innovation capabilities.   The GBA development offers a rich array of opportunities for Hong Kong SAR.',\n",
       "  'Significant progress achieved in GBA development is already reducing trade barriers. Residents of Hong Kong and Macau SARs can apply for resident cards in Mainland China with greater ease, thus facilitating their access to online services in the GBA and other parts of Mainland China. Pilot use of Hong Kong e-wallets in Mainland started in October, facilitating cross-border mobile payments in the Area.',\n",
       "  'Residents of Hong Kong and Macau SARs can apply for resident cards in Mainland China with greater ease, thus facilitating their access to online services in the GBA and other parts of Mainland China. Pilot use of Hong Kong e-wallets in Mainland started in October, facilitating cross-border mobile payments in the Area. The high-speed railway link between Hong Kong SAR and Mainland China, in operation since September 2018, has dramatically reduced travel time.',\n",
       "  'The SFC has commenced a review of its long-term risk data strategy focusing on identifying data that can be collected in a methodological fashion and that may contribute to the early identification of systemic risk, as well as to the setting of strategic, policy and supervisory priorities. The SFC launched a new risk data strategy which aims to use technology to enhance daily operations, including processes ranging from regulatory risk identification to intermediary monitoring and market surveillance, and to broaden understanding of the latest trends in the markets. Elements of the strategy include reviewing the risk data collected, benchmarking against major overseas regulators and analysing social media information.',\n",
       "  '• The authorities should carefully balance the tradeoff between greater efficiency and maintaining stability in the face of rapid developments in fintech.   • The implementation of the Basel III requirements remains on track.'],\n",
       " ['Financial innovations are gaining traction. Curaçao officially licensed the first casino operating on a cryptocurrency platform in 2017. The first cryptocurrency investment fund was approved for listing on the Dutch Caribbean Securities Exchange in February 2018, and bitcoins are being accepted at a local supermarket.',\n",
       "  'Curaçao officially licensed the first casino operating on a cryptocurrency platform in 2017. The first cryptocurrency investment fund was approved for listing on the Dutch Caribbean Securities Exchange in February 2018, and bitcoins are being accepted at a local supermarket. In August 2018, the CBCS signed a Memorandum of Understanding with a Barbados-based Fintech company to explore the feasibility of the CBCS issuing a digital currency, to facilitate digital financial payments within the monetary union.',\n",
       "  'The first cryptocurrency investment fund was approved for listing on the Dutch Caribbean Securities Exchange in February 2018, and bitcoins are being accepted at a local supermarket. In August 2018, the CBCS signed a Memorandum of Understanding with a Barbados-based Fintech company to explore the feasibility of the CBCS issuing a digital currency, to facilitate digital financial payments within the monetary union. OUTLOOK AND RISKS  11.      ',\n",
       "  'The first cryptocurrency investment fund was approved for listing on the Dutch Caribbean Securities Exchange in February 2018, and bitcoins are being accepted at a local supermarket. In August 2018, the CBCS signed a Memorandum of Understanding with a Barbados-based Fintech company to explore the feasibility of the CBCS issuing a digital currency, to facilitate digital financial payments within the monetary union. OUTLOOK AND RISKS  11.      ',\n",
       "  'A slow progress in strengthening financial sector oversight, AML/CFT frameworks, and central bank governance could lead to further losses of correspondent banking relationships (CBRs). The risk of cyber-attacks on public and other agencies is elevated due to weak IT systems and capacity.                                                     5',\n",
       "  '— CURAÇAO AND SINT MAARTEN 18 INTERNATIONAL MONETARY FUND technology-driven financial products and services, staff advised to remain cautious, balancing the tradeoffs between potential efficiency gains and risks to stability and integrity, especially given the need to strengthen regulation and supervision of the traditional banking sector.',\n",
       "  'Strengthen central bank governance; strengthen AML/CFT compliance and risk-based supervision; ensure full compliance with international standards on transparency of tax information; continue monitoring the status of correspondent banking relationships. LowMediumWeak IT systems and capacity make public and other agencies vulnerable to cyber attacks. Strengthen IT systems and further build capacity in the public sector.'],\n",
       " ['The share of the shadow economy is estimated to be around 30 percent of GDP absorbing roughly 18 percent of labor force, the bulk of which are employed in agriculture, construction, transport, catering, and trade sectors. Studies show that informality is a significant obstacle to doing business in FYR Macedonia perpetuated by tax evasion, low tax morale, uneven enforcement of business regulations, and the dominance of micro 051015202530354015-2425-3435-4445-5455-64Age groupTotal1-3 years>= 4 yearsSources:',\n",
       "  \"3/0.03Improve coordination between employers and educational institutionsNeutralModernize vocational schools 4/0.27Provide additional on-the-job training 5/0.08Enhance job matching and intermediation 6/0.066/ Reflects cost of upgrading registration of job seekers; broadening outreach to employers; and developing an online job portal.4/ Based on costing for vocational education and training in the authorities' Comprehensive Education Reform Plan.\",\n",
       "  'The authorities are focusing on strengthening vocational training with planned technical assistance from Germany. To slow the emigration of skilled labor, they intend to diversify away from labor-intensive industries and attract foreign investments in higher value-added industries that could generate jobs for the tertiary educated and facilitate technology transfer. To increase female labor force participation, a dozen new childcare centers were opened across different municipalities, with the number expected to double by year-end.'],\n",
       " ['(PSE) II will be important to sustain high growth rates over the medium term and make the private sector the main driver of growth. Policies to address gender and inequality issues will contribute to poverty reduction and well-distributed growth.   Performance under the PSI-supported program has been broadly satisfactory, with all but one of the end-June 2018 assessment criteria and indicative targets met.',\n",
       "  'Further progress on improving the business environment will require simplifying tax administration and reforms to facilitate SME access to finance, and further develop the Special Economic Zones (SEZs). Policies to address gender and inequality issues would contribute to poverty reduction and well-distributed growth. Fiscal sustainability.',\n",
       "  'Costs and benefits need to be carefully assessed in subsidized loan programs such as those administered through CNCAS (agricultural sector) and the newly minted Délégation générale à l’Entreprenariat Rapide (DER), which has extended loans to women and youth in a very rapid manner in the first half of 2018 (with a budget of CFAF 30 billion or 0.2 percent of GDP for the whole of 2018). Specific care is needed for institutions that do not fall under the WAEMU banking regulations (e.g. DER activities) and non-traditional banking instruments (e.g. microfinance institutions or mobile banking). 25.      ',\n",
       "  'ITs were met, with the exception of the ceiling on the share of the value of public sector contracts signed by a single tender, floor on net lending/borrowing, and floor on tax revenues, the last representing a key weakness in program performance through the first nine months of 2018.20 Performance on structural reforms was mixed. Two prior actions were met and two of the six structural benchmarks for the PSI seventh review were missed due to: (i) delays in the operationalization of the payment of taxes via mobile phones; and (ii) limited progress in implementing the action plan for reducing tax expenditures. Adjustors are being introduced to the end-December 2018 ACs on the floor on net lending/borrowing and the ceiling on the central government',\n",
       "  'Further progress on improving the business environment will require simplifying tax administration and reforms to facilitate SME access to finance, and further develop the Special Economic Zones (SEZs). Policies to address gender and inequality issues would contribute to poverty reduction and well-distributed growth. Fiscal sustainability.',\n",
       "  'The WAEMU pooled reserves stood at over 4 months of imports through end-September 2018 and staff analysis finds Senegal’s REER to be broadly consistent with fundamentals and desirable policy settings. A further widening of the external deficit is projected through 2021 due to the high import content of pre-production investment in the oil and gas sector, but this will be followed by a sharp reversal as production and export of hydrocarbons come online in 2022. The staff urges the authorities to \\x0cSENEGAL 24',\n",
       "  'Other parts of the financial sector are small, but some are growing fast. There are 36 registered microfinance institutions (MFIs), with assets totaling 3.3 percent of GDP at end-2017, while mobile money products are growing fast as well (see Figure II.1). The rest of the financial sector is made up of insurance companies, pension funds, the Caisse des Dépôts et Consignation (CDC), and institutions created for specific purposes like guarantees (FONGIP), or equity participations (FONSIS)—see Box II.1 below for a description of these institutions.  ',\n",
       "  'Loan Maturities in Senegal’s Banking Sector (CFAF bn outstanding end-2017)   05010015020025030020072008200920102011201220132014201520162017Active mobile money accountsDepositors with MFIsDepositors with commercial banksFigure II.1. Financial Sector Development in Senegal(per 1,000 adults)Sources:',\n",
       "  'While this bank is currently meeting all prudential norms, the issuance of securities still needs to happen, with the government planning to issue paper in the near future. Specific care is needed for institutions that do not fall under the WAEMU banking regulation (e.g. DER activities—see Box II.1) and non-traditional banking instruments (e.g. microfinance institutions or mobile banking). The challenge will be to maintain good credit standards, while improving access to finance for segments of the market that are currently underserved.           ',\n",
       "  'The gains in financial inclusion were driven by electronic money, which has outpaced the banking sector in number of accounts open. The share of adults with an account with a financial institution increased significantly from 6 percent in 2011, to reach 42 percent in 2017.3 About5.2 million mobile money accounts were open as of December 2017, compared to about 1.6 million open bank accounts. Thirty-two percent of adults had a mobile money account in 2017, compared to 6 percent in 2014.4However, large gender, geographic and income disparities remain.',\n",
       "  'The share of adults with an account with a financial institution increased significantly from 6 percent in 2011, to reach 42 percent in 2017.3 About5.2 million mobile money accounts were open as of December 2017, compared to about 1.6 million open bank accounts. Thirty-two percent of adults had a mobile money account in 2017, compared to 6 percent in 2014.4However, large gender, geographic and income disparities remain. Overall, financial inclusion has gone up substantially.',\n",
       "  'FAD experts Review of the TPA-TTF program and the design of a draft project under the RMTF Aug.2016 FAD experts Assessment of the IT system to identify its strengths and weaknesses and advise on the preparation of the hackathon Sep. 2016 Senegal technical delegation visit to French Ministry of Finance in the area of Information Management and Public Financial Management Nov. 2016 FAD experts Hackaton meeting: trying to identify projects with new technology to help improve Tax and PFM functions Apr. 2017 FAD experts Public-Private Partnership (PPP) peer learning event Apr. 2018',\n",
       "  'Corrective measures have been taken to implement the remaining structural benchmarks. The operationalization of payment of taxes through mobile banking by taxpayers which do not have access to internet is advancing with the approval of budgetary resources by the Ministry of Finance. In this regard, the process of selecting providers is being finalized.',\n",
       "  '4   Improving the business environment and promoting private sector development In implementing the triennial program for reforming the business environment and competitiveness (PREAC), Senegal has made substantial inroads into improving the business climate. Special economic zones have been established to increase economic opportunities for the private sector which is relied upon for increasing investments in priority sectors such as agriculture, horticulture, agrobusiness, infrastructure, oil, gas and mining, digital economy, tourism and finance.   By the end of phase 2 of the PSE, the authorities expect the oil and gas discoveries to accelerate the growth of the Senegalese economy towards emergence by catalyzing the industrial transformation of the country towards new job-creating sectors and promoting social inclusion.'],\n",
       " ['Recurrent tax policy amendments overshadow the ongoing progress in revenue administration. Improvements have been made in compliance-risk management, and information technology systems, with Fund assistance. Progress has also been made in property tax reform and the launch of a supporting fiscal cadaster is expected in January 2019.'],\n",
       " ['UNITED ARAB EMIRATES INTERNATIONAL MONETARY FUND 17 stability. Beyond bank finance, fostering the development of domestic capital markets and a coordinated approach between on-shore and off-shore regulators in the fintech area would broaden SME sources of capital, while mitigating financial risks. Any direct government support for SMEs, including grants and guarantees, needs to be reflected in the budget.',\n",
       "  'Under the market development pillar, the CBU issued in 2018 a regulation for nonbank financial institutions, which sets out the new regulatory framework for finance companies operating in the UAE, including requirements for a specific business model, governance, risk management and controls/compliance. A regulation on crowd-funding is nearly completed and a strategy aimed to support the financing of the UAE’s micro, small and medium-sized (SME) business (including regulations) in coordination with other UAE authorities was further developed in 2018. In 2019 the CBU plans to commence further work on regulations relating to payments and fintech.',\n",
       "  'A regulation on crowd-funding is nearly completed and a strategy aimed to support the financing of the UAE’s micro, small and medium-sized (SME) business (including regulations) in coordination with other UAE authorities was further developed in 2018. In 2019 the CBU plans to commence further work on regulations relating to payments and fintech. •',\n",
       "  'Fintech can play a catalytic role. The UAE has been successfully nurturing fintech companies in its free financial zones in Abu Dhabi and Dubai (ADGM and DIFC, respectively). The free zones developed targeted programs supporting SMEs and are hosting SME crowdfunding platforms (Beehive and Eureeca).',\n",
       "  'Fintech companies have potential to boost SME lending by enriching credit information and enhancing competition in financial services. Improving conditions for SMEs, including by strengthening the legal framework and reducing the cost of doing business, would allow fintech companies to increase their presence onshore. Given the UAE’s decentralized structure, a coordinated approach between on-shore and off-shore regulators in the fintech area could help to maximize its gains for SMEs without compromising safety and stability of the financial system.  \\x0c ',\n",
       "  'Improving conditions for SMEs, including by strengthening the legal framework and reducing the cost of doing business, would allow fintech companies to increase their presence onshore. Given the UAE’s decentralized structure, a coordinated approach between on-shore and off-shore regulators in the fintech area could help to maximize its gains for SMEs without compromising safety and stability of the financial system.  \\x0c  UNITED ARAB EMIRATES STAFF REPORT FOR THE 2018 ARTICLE IV CONSULTATION',\n",
       "  'The authorities note that World Bank assistance has been informing policy dialogue among various stakeholders including the Federal National Council (Parliament) as well as informing policy formulation and implementation.   At the sub-national Emirate level, the World Bank has provided assistance to Abu Dhabi, Dubai, Sharjah and Ajman in various domains including the regulatory environment for private sector development, mobile savings and retirement options for expatriate workers, Doing Business, and institutional strengthening. In 2016, the World Bank became a key partner of the annual World Government Summit.',\n",
       "  'The authorities appreciate staff’s Selected Issues paper on the subject and will consider its proposals.   Over the past few years, the UAE has taken the lead in adopting digital solutions. A strategy for Artificial Intelligence has been launched to boost government performance at all levels and to achieve the objectives of the UAE Centennial 2071, and a minister of state for Artificial Intelligence has been appointed to accelerate progress on this level.'],\n",
       " ['but there is still much uncertainty around these developments. In the absence of related legislation, the FIC has not yet granted a bank license to cryptocurrency operators. Cryptocurrencies pose significant financial integrity risks that call for strong AML/CFT measures to mitigate them.',\n",
       "  'The use of cryptocurrencies also raises consumer protection and cybersecurity risks. In light of this, staff encouraged the authorities to fully implement the FATF recommendations (including the revised Recommendation 15 regarding new technologies) and urged the authorities to take a cautious approach to any additional cryptocurrency-related plans, as these could also put Palau’s banking relationships with foreign banks under pressure. Authorities’',\n",
       "  'The authorities agreed with staff’s assessment that Palau’s banking system remains sound and that credit needs to rise. They noted that the introduction of a new secure online transactions registry had only a limited impact on FDIC banks’ lending, as the take-up rate had been low. They also noted that there are structural factors behind low bank lending, including SMEs’ limited capacity in preparing business plans and financial statements.',\n",
       "  'As money laundering risks in Palau were related to foreign-originated financial flows, they noted that more cooperation and exchange of information with foreign jurisdictions were needed. The authorities also urged the IMF to be proactive in assisting small states with regulations for cryptocurrency and blockchain technology.    D.   External Sector Assessment 31.      ',\n",
       "  'As money laundering risks in Palau were related to foreign-originated financial flows, they noted that more cooperation and exchange of information with foreign jurisdictions were needed. The authorities also urged the IMF to be proactive in assisting small states with regulations for cryptocurrency and blockchain technology.    D.   External Sector Assessment 31.      ',\n",
       "  'As money laundering risks in Palau were related to foreign-originated financial flows, they noted that more cooperation and exchange of information with foreign jurisdictions were needed. The authorities also urged the IMF to be proactive in assisting small states with regulations for cryptocurrency and blockchain technology.    D.   External Sector Assessment 31.      ',\n",
       "  'The Financial Intelligence Unit is making efforts to improve the AML/CFT regime.    While several cryptocurrency investors have approached Palau, the authorities recognize the risks and uncertainties around cryptocurrencies and do not plan to entertain any proposals. The authorities have asked the IMF and other international institutions to be proactive in their outreach and to raise awareness of the potential risks and benefits of blockchain technology more generally.  ',\n",
       "  'While several cryptocurrency investors have approached Palau, the authorities recognize the risks and uncertainties around cryptocurrencies and do not plan to entertain any proposals. The authorities have asked the IMF and other international institutions to be proactive in their outreach and to raise awareness of the potential risks and benefits of blockchain technology more generally.   Growth and private sector development  ',\n",
       "  'While several cryptocurrency investors have approached Palau, the authorities recognize the risks and uncertainties around cryptocurrencies and do not plan to entertain any proposals. The authorities have asked the IMF and other international institutions to be proactive in their outreach and to raise awareness of the potential risks and benefits of blockchain technology more generally.   Growth and private sector development  '],\n",
       " ['Less cumbersome business regulation and lower taxes for SMEs will improve the business climate and encourage entrepreneurship. Changes to the system of vocational training (including greater coordination with enterprises) and incentives for innovation and R&D aim to ensure appropriate skills and technologies to support a digital-based economy. Increasing the still-low rate of labor force participation and encouraging return-migration of the more than 2 million Poles who emigrated since the turn of the century will help to resolve labor shortages in the coming years.',\n",
       "  'Official projections envisage that 75 percent of employees (8.6 million persons) will join PPK. The scheme will be rolled-out in stages, beginning in July 2019 with large firms (250+ employees), those with 50–250 employees (January 2020), 20–50 employees (July 2020), and micro-firms and government entities (January 2021).    The total standard contribution is set at 3½ percent of the employees’'],\n",
       " [],\n",
       " [],\n",
       " ['2 Preliminary results of the central bank’s research using unconsolidated firm-level data are consistent with the staff analysis. However, there is inconsistency between macro- and micro-level data. The central bank and statistical office are investigating this issue.',\n",
       "  'Expanding direct public spending on R&D to support riskier and longer-term innovations, targeting start-ups and young SMEs with growth potentials would be useful. Scaling up investment in the digital economy and programs to support lifelong learning would improve SMEs’ adaptation to new market conditions and reduce their business costs. A credit bureau for businesses would improve information and facilitate SMEs’ access to finance, while development of financial technologies could offer alternative sources of financing.',\n",
       "  'The recent large fine levied by Dutch financial prosecutors on a major Dutch bank for money laundering (following previous such fines) underscores the importance of ensuring comprehensive compliance with AML/CFT requirements for financial institutions. Development of financial technology and cryptocurrencies poses new challenges as it creates new opportunities for criminals to launder their proceeds and terrorists to finance their activities. Stronger coordination between national authorities, investigators and other stakeholders, including at the global level, is needed.',\n",
       "  'The creation of a credit bureau would help improve information and facilitate SMEs’ access to finance. Further investment in the digital economy and programs to support lifelong learning would also help SMEs adapt to new market conditions and reduce their costs. Moreover, expanding direct public spending on R&D could have positive spillovers to start-ups and young SMEs with growth potential.'],\n",
       " [],\n",
       " [],\n",
       " ['• Capacity issues at subnational levels should be addressed through training, standardization, and the use of technology. A comprehensive assessment of the resources needed by subnational governments to deliver on their expenditure mandates set out in the Constitution should be conducted expediently.',\n",
       "  'These include:  • The amendments to the foreign investment and technology transfer act (FITTA) should clarify and simplify foreign investment policies, including introducing a single window to facilitate firm regulatory compliance and streamlining regulations surrounding investment approvals and profit repatriation.  • The Investment Board of Nepal Act should be strengthened, and public-private partnerships could be enhanced by amending the government’s public-private partnership (PPP) policy to clarify roles of stakeholders.',\n",
       "  'World Bank) Increases in the quantity and coverage of electricity supply, as well as its reliability, should boost productivity. Substantial generation capacity is expected to come online in the next two fiscal years, boosted by some large and many smaller hydropower projects. Numerous studies highlight positive links between firm productivity and electricity supply and reliability (see e.g., WB Policy Research WP8468).   ',\n",
       "  'Cyber-attacks 4/ External M ST M – H Safeguards monitoring report (2018) identified significant vulnerability to cyber risks at the NRB, due to weak IT infrastructure and practices.   →In the broader context of overall strengthening of NRB capacity, such as efforts to improve governance and organizational setup, focus also on enhancing capacity in the NRB’s IT department.',\n",
       "  '(i) Unification of VAT refunds. Various additional refunds and exemptions for VAT previously allowed have been abolished, including the VAT rebate facility on imports of mobile phones, oil and ghee. The current system allows for standard VAT refunds, more aligned with international practice.   ',\n",
       "  'A fully-fledged electronic tax payment system is being prepared. Currently, only large taxpayers are connected to the system and able to file and pay taxes online. The full adoption of the system will significantly reduce the costs of tax administration and compliance cost of taxpayers.  \\x0c',\n",
       "  'The authorities largely agree with staff for the necessary reform to financial sector oversight and stress that the implementation of recommendations from the 2017 Article IV consultation, the 2014 FSAP reform efforts along with safeguarding recommendations from the 2016 assessment will continue.   On the financial inclusion front, Nepal Rastra Bank (NRB) has launched the Financial Inclusion Action Plan and introduced various directives and guidelines to the micro finance institutions working in the rural areas. Substantial progress has been made by the bank in financial inclusion complimented by mobile banking, internet banking.',\n",
       "  'On the financial inclusion front, Nepal Rastra Bank (NRB) has launched the Financial Inclusion Action Plan and introduced various directives and guidelines to the micro finance institutions working in the rural areas. Substantial progress has been made by the bank in financial inclusion complimented by mobile banking, internet banking. Provision has been made to reach at least one commercial bank branch in each local administrative unit, currently 703 bank’s branches have been established out of 753 local levels as of mid- January 2018.'],\n",
       " ['Higher productivity will be required to mitigate the impact of ageing. Since the population is ageing rapidly, economic growth will increasingly depend on productivity growth and the higher levels of supportive skills, notably information technology specialists, scientists, and engineers. Further reforms of labor markets, SOEs, and product and service markets will raise Slovenia potential output and productivity growth.7 Labor Markets and Skill Development Reforms  ',\n",
       "  'Entrepreneurship education is well below the EU average.11 Together with new technology training, entrepreneurship skills should help workers adapt to and succeed in the digital economy and fast-changing technological world. SOEs Reforms  ',\n",
       "  'Entrepreneurship education is well below the EU average.11 Together with new technology training, entrepreneurship skills should help workers adapt to and succeed in the digital economy and fast-changing technological world. SOEs Reforms  '],\n",
       " ['Although the Commonwealth government’s CIT reform plan was defeated, it successfully passed PIT reform and reforms of the HFE mechanism associated with distributing the GST revenues among the states. Under the reform, from FY2021/22, GST will no longer be distributed to equalize all states’ fiscal capacity to that of the state with the strongest fiscal capacity but will transition over six years to equalizing to the fiscal capacity of the stronger of \\x0cAUSTRALIA  24 INTERNATIONAL MONETARY FUND either New South Wales or Victoria. All states will be better off as a result of the HFE reform, at least until it is revisited in FY2026/27 by the Productivity Commission.'],\n",
       " ['Given the current low level of Fintech activity, financial sector stability threats are limited, but confidence effects could be important. • Continue efforts to increase cyber-security. Large infrastructure projects.',\n",
       "  '27.       The authorities are trying to boost financial inclusion, including by leveraging advances in financial sector technology (Fintech). Extensive dollarization and market segmentation limit bank credit and make it expensive, especially in the peso market (Figure 4).',\n",
       "  'To improve financial inclusion, the authorities have been implementing measures that aim at promoting electronic transactions and competition in the banking sector (under the 2014 Financial Inclusion Law). Since the introduction of the Law, low-income households and small and micro enterprises have access to free bank accounts and debit cards.   Even though peer-to-peer lending remains small, the authorities have introduced regulation in this area aimed at protecting consumers and guarding against money laundering.',\n",
       "  'The Central Bank of Uruguay implemented a successful pilot program on Central Bank Digital Currency (CBDC). E-peso is a legal tender digital currency issued by the central bank. It is an electronic money and does not use distributed ledger technology.',\n",
       "  'E-peso is a legal tender digital currency issued by the central bank. It is an electronic money and does not use distributed ledger technology. The pilot program was used to test the technical aspects and run for 6 months (November 2017-April 2018), with limited bill issuance ($20 million for 10000 mobile users) and size per person ($30,000 per wallet and $200,000 for registered businesses).',\n",
       "  'E-peso is a legal tender digital currency issued by the central bank. It is an electronic money and does not use distributed ledger technology. The pilot program was used to test the technical aspects and run for 6 months (November 2017-April 2018), with limited bill issuance ($20 million for 10000 mobile users) and size per person ($30,000 per wallet and $200,000 for registered businesses).',\n",
       "  'It is an electronic money and does not use distributed ledger technology. The pilot program was used to test the technical aspects and run for 6 months (November 2017-April 2018), with limited bill issuance ($20 million for 10000 mobile users) and size per person ($30,000 per wallet and $200,000 for registered businesses). E-peso was mainly used for payment transactions in registered stores and businesses, and peer-to-peer transfers.',\n",
       "  'E-peso was mainly used for payment transactions in registered stores and businesses, and peer-to-peer transfers. The system used instantaneous settlement and run through mobile line (no internet connection was needed). E-peso was anonyms but traceable, with unique bills preventing double spending and falsification.    ',\n",
       "  'The central bank of Uruguay is one of the pioneers in world in taking a proactive approach in evaluating the case for the CBDC (IMF SDN No. 18/08, 2018). In this context, the central bank aims at reducing transaction costs of cash (estimated at 0.6 percent of GDP), improve financial innovation by creating a supportive regulatory environment and infrastructure, and fostering financial inclusion by reaching out to nonbanked segments of the society through mobile networks.   Further analysis is needed to analyze the impact on monetary policy transmission, the banking system, and dollarization.',\n",
       "  'In this context, they pointed to several projects, including the railway, being financed through public-private partnerships. They also noted the importance of ensuring that the education system produces graduates able to tackle the challenges of the technology-driven labor market. In addition, the authorities stressed the need for Uruguay to expand access to global markets by way of mutually beneficial trade agreements.      \\x0c',\n",
       "  'Improvements in education will be essential for Uruguay to successfully face the future and the continuation of the country’s insertion in the global economy. Inclusiveness is always a work in progress, and sustained efforts are essential; financial inclusion is one of the multiple dimensions of inclusiveness, in which the authorities have attained important achievements, such as those underlined in the staff report, when noting that “low-income households and small and micro enterprises have access to free bank accounts and debit cards”. On-going infrastructure planning is key to establish the foundation for long-term economic growth.']]"
      ]
     },
     "execution_count": 25,
     "metadata": {},
     "output_type": "execute_result"
    }
   ],
   "source": [
    "pos_sent =[]\n",
    "\n",
    "for doc in new_doc_list:  \n",
    "    doc_para = []\n",
    "    \n",
    "    for ent in doc.ents:\n",
    "        if ent.label_ == 'fintech_related': # not needed, other entities were already overwritten\n",
    "            # print(ent.text)\n",
    "            sent_id = ent._.sent_id\n",
    "            paragraphs = doc._.get_sent(start_id = sent_id -1, end_id = sent_id + 2)\n",
    "            doc_para.append(paragraphs)\n",
    "        \n",
    "    pos_sent.append(doc_para)\n",
    "\n",
    "pos_sent"
   ]
  },
  {
   "cell_type": "markdown",
   "metadata": {},
   "source": [
    "#### save output with titles"
   ]
  },
  {
   "cell_type": "code",
   "execution_count": 26,
   "metadata": {},
   "outputs": [],
   "source": [
    "title = [list(d.sents)[3:5] for d in new_doc_list]\n",
    "assert len(new_doc_list)==len(title)"
   ]
  },
  {
   "cell_type": "code",
   "execution_count": 43,
   "metadata": {},
   "outputs": [],
   "source": [
    "output = pd.DataFrame(data={'title': title, 'sentences': pos_sent, 'file': file_name})\n",
    "\n",
    "output_long = output.apply(lambda x: pd.Series(x['sentences']), axis = 1).stack().reset_index(level=1, drop = True)\n",
    "\n",
    "output_long.name = 'context'\n",
    "\n",
    "output_long = pd.DataFrame(output_long)\n",
    "\n",
    "final_output = pd.merge(output, output_long, how = 'outer', left_index=True, right_index=True)\n",
    "\n",
    "## remove duplicates\n",
    "final_output.groupby('context').aggregate({'title':'first', 'file':'first'}).sort_values('file').to_csv('output.csv')"
   ]
  },
  {
   "cell_type": "markdown",
   "metadata": {},
   "source": [
    "#### Country NER isn't able to capture all countries"
   ]
  },
  {
   "cell_type": "code",
   "execution_count": 10,
   "metadata": {},
   "outputs": [
    {
     "name": "stderr",
     "output_type": "stream",
     "text": [
      "d:\\usr-profiles\\PZhao\\AppData\\Local\\conda\\conda\\envs\\py35\\lib\\runpy.py:193: UserWarning: [W006] No entities to visualize found in Doc object. If this is surprising to you, make sure the Doc was processed using a model that supports named entity recognition, and check the `doc.ents` property manually if necessary.\n",
      "  \"__main__\", mod_spec)\n",
      "d:\\usr-profiles\\PZhao\\AppData\\Local\\conda\\conda\\envs\\py35\\lib\\runpy.py:193: UserWarning: [W006] No entities to visualize found in Doc object. If this is surprising to you, make sure the Doc was processed using a model that supports named entity recognition, and check the `doc.ents` property manually if necessary.\n",
      "  \"__main__\", mod_spec)\n",
      "d:\\usr-profiles\\PZhao\\AppData\\Local\\conda\\conda\\envs\\py35\\lib\\runpy.py:193: UserWarning: [W006] No entities to visualize found in Doc object. If this is surprising to you, make sure the Doc was processed using a model that supports named entity recognition, and check the `doc.ents` property manually if necessary.\n",
      "  \"__main__\", mod_spec)\n"
     ]
    },
    {
     "data": {
      "text/html": [
       "<div class=\"entities\" style=\"line-height: 2.5; direction: ltr\"> © \n",
       "<mark class=\"entity\" style=\"background: #bfe1d9; padding: 0.45em 0.6em; margin: 0 0.25em; line-height: 1; border-radius: 0.35em; box-decoration-break: clone; -webkit-box-decoration-break: clone\">\n",
       "    2018\n",
       "    <span style=\"font-size: 0.8em; font-weight: bold; line-height: 1; border-radius: 0.35em; text-transform: uppercase; vertical-align: middle; margin-left: 0.5rem\">DATE</span>\n",
       "</mark>\n",
       " </div>\n",
       "\n",
       "<div class=\"entities\" style=\"line-height: 2.5; direction: ltr\">\n",
       "<mark class=\"entity\" style=\"background: #7aecec; padding: 0.45em 0.6em; margin: 0 0.25em; line-height: 1; border-radius: 0.35em; box-decoration-break: clone; -webkit-box-decoration-break: clone\">\n",
       "    International Monetary Fund IMF Country Report\n",
       "    <span style=\"font-size: 0.8em; font-weight: bold; line-height: 1; border-radius: 0.35em; text-transform: uppercase; vertical-align: middle; margin-left: 0.5rem\">ORG</span>\n",
       "</mark>\n",
       " </div>\n",
       "\n",
       "<div class=\"entities\" style=\"line-height: 2.5; direction: ltr\">No. </div>\n",
       "\n",
       "<div class=\"entities\" style=\"line-height: 2.5; direction: ltr\">18/380  </div>\n",
       "\n",
       "<div class=\"entities\" style=\"line-height: 2.5; direction: ltr\">CENTRAL AFRICAN REPUBLIC \n",
       "<mark class=\"entity\" style=\"background: #bfe1d9; padding: 0.45em 0.6em; margin: 0 0.25em; line-height: 1; border-radius: 0.35em; box-decoration-break: clone; -webkit-box-decoration-break: clone\">\n",
       "    2018\n",
       "    <span style=\"font-size: 0.8em; font-weight: bold; line-height: 1; border-radius: 0.35em; text-transform: uppercase; vertical-align: middle; margin-left: 0.5rem\">DATE</span>\n",
       "</mark>\n",
       " ARTICLE \n",
       "<mark class=\"entity\" style=\"background: #ff8197; padding: 0.45em 0.6em; margin: 0 0.25em; line-height: 1; border-radius: 0.35em; box-decoration-break: clone; -webkit-box-decoration-break: clone\">\n",
       "    IV CONSULTATION\n",
       "    <span style=\"font-size: 0.8em; font-weight: bold; line-height: 1; border-radius: 0.35em; text-transform: uppercase; vertical-align: middle; margin-left: 0.5rem\">LAW</span>\n",
       "</mark>\n",
       ", FIFTH REVIEW UNDER THE EXTENDED CREDIT FACILITY ARRANGEMENT, AND FINANCING ASSURANCES REVIEW  </div>\n",
       "\n",
       "<div class=\"entities\" style=\"line-height: 2.5; direction: ltr\">In the context of the combined \n",
       "<mark class=\"entity\" style=\"background: #bfe1d9; padding: 0.45em 0.6em; margin: 0 0.25em; line-height: 1; border-radius: 0.35em; box-decoration-break: clone; -webkit-box-decoration-break: clone\">\n",
       "    2018\n",
       "    <span style=\"font-size: 0.8em; font-weight: bold; line-height: 1; border-radius: 0.35em; text-transform: uppercase; vertical-align: middle; margin-left: 0.5rem\">DATE</span>\n",
       "</mark>\n",
       " Article IV Consultation and Fifth Review under the Extended Credit Facility Arrangement, and \n",
       "<mark class=\"entity\" style=\"background: #7aecec; padding: 0.45em 0.6em; margin: 0 0.25em; line-height: 1; border-radius: 0.35em; box-decoration-break: clone; -webkit-box-decoration-break: clone\">\n",
       "    Financing Assurances Review\n",
       "    <span style=\"font-size: 0.8em; font-weight: bold; line-height: 1; border-radius: 0.35em; text-transform: uppercase; vertical-align: middle; margin-left: 0.5rem\">ORG</span>\n",
       "</mark>\n",
       ", the following documents have been released and are included in this package:  • </div>\n",
       "\n",
       "<div class=\"entities\" style=\"line-height: 2.5; direction: ltr\">A Press Release  • </div>"
      ],
      "text/plain": [
       "<IPython.core.display.HTML object>"
      ]
     },
     "metadata": {},
     "output_type": "display_data"
    }
   ],
   "source": [
    "from spacy import displacy\n",
    "displacy.render(list(new_doc_list[4].sents)[0:7], style='ent')"
   ]
  },
  {
   "cell_type": "code",
   "execution_count": 11,
   "metadata": {},
   "outputs": [
    {
     "name": "stdout",
     "output_type": "stream",
     "text": [
      "BOLIVIA 0 GPE\n",
      "2018 0 DATE\n",
      "IMF 0 ORG\n",
      "every year 0 DATE\n",
      "the 2018 Article IV 0 EVENT\n",
      "Bolivia 0 GPE\n",
      "the Executive Board 0 ORG\n",
      "November 9 0 DATE\n",
      "2018 0 DATE\n"
     ]
    }
   ],
   "source": [
    "for ent in new_doc_list[3][10:100].ents:\n",
    "    print(ent.text, ent.ent_id, ent.label_)"
   ]
  },
  {
   "cell_type": "code",
   "execution_count": 12,
   "metadata": {},
   "outputs": [
    {
     "data": {
      "text/plain": [
       "49"
      ]
     },
     "execution_count": 12,
     "metadata": {},
     "output_type": "execute_result"
    }
   ],
   "source": [
    "country = [ent.lower_ for d in new_doc_list for ent in d[0:100].ents if ent.label_ =='GPE' ]\n",
    "len(country)"
   ]
  }
 ],
 "metadata": {
  "kernelspec": {
   "display_name": "Python 3",
   "language": "python",
   "name": "python3"
  },
  "language_info": {
   "codemirror_mode": {
    "name": "ipython",
    "version": 3
   },
   "file_extension": ".py",
   "mimetype": "text/x-python",
   "name": "python",
   "nbconvert_exporter": "python",
   "pygments_lexer": "ipython3",
   "version": "3.5.5"
  }
 },
 "nbformat": 4,
 "nbformat_minor": 2
}
