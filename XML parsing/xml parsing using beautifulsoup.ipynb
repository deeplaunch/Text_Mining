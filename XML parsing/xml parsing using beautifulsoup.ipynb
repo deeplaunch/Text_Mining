{
 "cells": [
  {
   "cell_type": "code",
   "execution_count": 1,
   "metadata": {},
   "outputs": [],
   "source": [
    "import requests\n",
    "\n",
    "from bs4 import BeautifulSoup"
   ]
  },
  {
   "cell_type": "code",
   "execution_count": 8,
   "metadata": {},
   "outputs": [
    {
     "name": "stdout",
     "output_type": "stream",
     "text": [
      "200\n"
     ]
    }
   ],
   "source": [
    "page = requests.get('http://ort.imf.org/ses/disp_taxonomy/allterms?FILTER=CL=Topics')\n",
    "\n",
    "print(page.status_code)\n",
    "#print(page.content)"
   ]
  },
  {
   "cell_type": "code",
   "execution_count": 3,
   "metadata": {},
   "outputs": [
    {
     "data": {
      "text/plain": [
       "1729"
      ]
     },
     "execution_count": 3,
     "metadata": {},
     "output_type": "execute_result"
    }
   ],
   "source": [
    "soup = BeautifulSoup(page.content, 'xml')\n",
    "\n",
    "terms_node= soup.find_all('TERMS')[0]\n",
    "\n",
    "len(terms_node)"
   ]
  },
  {
   "cell_type": "code",
   "execution_count": 4,
   "metadata": {},
   "outputs": [],
   "source": [
    "my_dict = {}"
   ]
  },
  {
   "cell_type": "code",
   "execution_count": 5,
   "metadata": {},
   "outputs": [],
   "source": [
    "for term in terms_node.children:\n",
    "    name = term.find('NAME').get_text()\n",
    "    fields_node = term.find_all('FIELD', NAME=\"term\")\n",
    "    sub_names = [field.get_text() for field in fields_node]\n",
    "    my_dict[name] = sub_names    "
   ]
  },
  {
   "cell_type": "code",
   "execution_count": 6,
   "metadata": {},
   "outputs": [
    {
     "data": {
      "text/plain": [
       "['Economic assistance',\n",
       " 'Foreign investment',\n",
       " 'Development assistance',\n",
       " 'Investment',\n",
       " 'Topics',\n",
       " 'Economic Theory and Research',\n",
       " 'Economic conditions',\n",
       " 'Gross domestic product',\n",
       " 'Investment',\n",
       " 'Foreign investment',\n",
       " 'Absorptive capacity',\n",
       " 'Topics',\n",
       " 'Economic Theory and Research',\n",
       " 'Economic indicators',\n",
       " 'Gross domestic product',\n",
       " 'Investment',\n",
       " 'Foreign investment',\n",
       " 'Absorptive capacity',\n",
       " 'Topics',\n",
       " 'External Sector',\n",
       " 'Foreign aid',\n",
       " 'Economic assistance',\n",
       " 'Absorptive capacity',\n",
       " 'Topics',\n",
       " 'External Sector',\n",
       " 'International investment position',\n",
       " 'Foreign investment',\n",
       " 'Absorptive capacity',\n",
       " 'Topics',\n",
       " 'Real Sector',\n",
       " 'National accounts',\n",
       " 'Gross domestic product',\n",
       " 'Investment',\n",
       " 'Foreign investment',\n",
       " 'Absorptive capacity']"
      ]
     },
     "execution_count": 6,
     "metadata": {},
     "output_type": "execute_result"
    }
   ],
   "source": [
    "my_dict['Absorptive capacity']"
   ]
  },
  {
   "cell_type": "code",
   "execution_count": 7,
   "metadata": {},
   "outputs": [
    {
     "name": "stdout",
     "output_type": "stream",
     "text": [
      "Absorptive capacity\n",
      "['Economic assistance', 'Foreign investment', 'Development assistance', 'Investment', 'Topics', 'Economic Theory and Research', 'Economic conditions', 'Gross domestic product', 'Investment', 'Foreign investment', 'Absorptive capacity', 'Topics', 'Economic Theory and Research', 'Economic indicators', 'Gross domestic product', 'Investment', 'Foreign investment', 'Absorptive capacity', 'Topics', 'External Sector', 'Foreign aid', 'Economic assistance', 'Absorptive capacity', 'Topics', 'External Sector', 'International investment position', 'Foreign investment', 'Absorptive capacity', 'Topics', 'Real Sector', 'National accounts', 'Gross domestic product', 'Investment', 'Foreign investment', 'Absorptive capacity']\n"
     ]
    }
   ],
   "source": [
    "t1 = list(terms_node)[0]\n",
    "\n",
    "t1.find_all('PATH')\n",
    "\n",
    "list(list(terms_node)[0].children)\n",
    "\n",
    "print(list(t1.find_all('NAME'))[0].get_text())\n",
    "\n",
    "print([x.get_text() for x in t1.find_all('FIELD', NAME ='term')])"
   ]
  }
 ],
 "metadata": {
  "kernelspec": {
   "display_name": "Python 3",
   "language": "python",
   "name": "python3"
  },
  "language_info": {
   "codemirror_mode": {
    "name": "ipython",
    "version": 3
   },
   "file_extension": ".py",
   "mimetype": "text/x-python",
   "name": "python",
   "nbconvert_exporter": "python",
   "pygments_lexer": "ipython3",
   "version": "3.6.7"
  }
 },
 "nbformat": 4,
 "nbformat_minor": 2
}
