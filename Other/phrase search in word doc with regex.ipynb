{
 "cells": [
  {
   "cell_type": "markdown",
   "metadata": {},
   "source": [
    "### 1. Read in word document, identify \"hot button issue\" by checking against pre-defined keyword list \n",
    "### 2. Return dictionary {\"hot button issue\": set of keywords found}\n",
    "\n",
    "### Note: Keyword needs to include mutations such as \" intervene -> intervened, intervines\""
   ]
  },
  {
   "cell_type": "code",
   "execution_count": 2,
   "metadata": {
    "collapsed": true
   },
   "outputs": [],
   "source": [
    "import sys\n",
    "import os\n",
    "import pickle\n",
    "import re\n",
    "\n",
    "import pandas as pd\n",
    "import numpy as np\n",
    "\n",
    "from docx import Document\n",
    "\n",
    "import time\n",
    "start_time = time.time()"
   ]
  },
  {
   "cell_type": "code",
   "execution_count": 33,
   "metadata": {},
   "outputs": [
    {
     "name": "stdout",
     "output_type": "stream",
     "text": [
      "/mnt/notebook/poc\n"
     ]
    }
   ],
   "source": [
    "hot_button_file = os.path.join('../../data/raw/hot_button_issues.xlsx')\n",
    "text_file_path = \"../../documentation/sample_docs/5138964-v5-Brazil_2013_Article_IV_Consultation_-_Policy_Note.DOCX\"\n",
    "save_file = os.path.join('../../data/processed/','hot_button_dict.pickle')\n",
    "print(os.getcwd())"
   ]
  },
  {
   "cell_type": "markdown",
   "metadata": {},
   "source": [
    "#### Import hot_button_table (manually created)"
   ]
  },
  {
   "cell_type": "code",
   "execution_count": 16,
   "metadata": {},
   "outputs": [
    {
     "data": {
      "text/html": [
       "<div>\n",
       "<style scoped>\n",
       "    .dataframe tbody tr th:only-of-type {\n",
       "        vertical-align: middle;\n",
       "    }\n",
       "\n",
       "    .dataframe tbody tr th {\n",
       "        vertical-align: top;\n",
       "    }\n",
       "\n",
       "    .dataframe thead th {\n",
       "        text-align: right;\n",
       "    }\n",
       "</style>\n",
       "<table border=\"1\" class=\"dataframe\">\n",
       "  <thead>\n",
       "    <tr style=\"text-align: right;\">\n",
       "      <th></th>\n",
       "      <th>Hot button issues</th>\n",
       "      <th>keyword list</th>\n",
       "    </tr>\n",
       "  </thead>\n",
       "  <tbody>\n",
       "    <tr>\n",
       "      <th>0</th>\n",
       "      <td>Capital flow management measures</td>\n",
       "      <td>cfm, cfm mpm, capital inflows surge, disruptiv...</td>\n",
       "    </tr>\n",
       "    <tr>\n",
       "      <th>1</th>\n",
       "      <td>Exchange restrictions</td>\n",
       "      <td>article viii, current international transactio...</td>\n",
       "    </tr>\n",
       "    <tr>\n",
       "      <th>2</th>\n",
       "      <td>Multiple currency practice</td>\n",
       "      <td>mcp, article viii, effective rate, preferentia...</td>\n",
       "    </tr>\n",
       "    <tr>\n",
       "      <th>3</th>\n",
       "      <td>Corruption</td>\n",
       "      <td>political risk, bribes, transparency, accounta...</td>\n",
       "    </tr>\n",
       "    <tr>\n",
       "      <th>4</th>\n",
       "      <td>Governance</td>\n",
       "      <td>public financial management, pfm, anti money l...</td>\n",
       "    </tr>\n",
       "    <tr>\n",
       "      <th>5</th>\n",
       "      <td>Fintech/digital</td>\n",
       "      <td>artificial intelligence, big data, blockchain,...</td>\n",
       "    </tr>\n",
       "    <tr>\n",
       "      <th>6</th>\n",
       "      <td>Macroprudential measures</td>\n",
       "      <td>mpm, cfm mpm, systemic risk, ltv, dsti, risk w...</td>\n",
       "    </tr>\n",
       "    <tr>\n",
       "      <th>7</th>\n",
       "      <td>Housing</td>\n",
       "      <td>affordability, mortgage, house prices, househo...</td>\n",
       "    </tr>\n",
       "    <tr>\n",
       "      <th>8</th>\n",
       "      <td>Demographic</td>\n",
       "      <td>population, ageing, pension, productivity, mig...</td>\n",
       "    </tr>\n",
       "    <tr>\n",
       "      <th>9</th>\n",
       "      <td>Shadow banking</td>\n",
       "      <td>non bank credit, credit guarantee, contingent ...</td>\n",
       "    </tr>\n",
       "    <tr>\n",
       "      <th>10</th>\n",
       "      <td>Competition policy</td>\n",
       "      <td>industrial policy, monopoly, cartel, antitrust...</td>\n",
       "    </tr>\n",
       "    <tr>\n",
       "      <th>11</th>\n",
       "      <td>Foreign Exchange intervention</td>\n",
       "      <td>fx intervention, fxi, disorderly market condit...</td>\n",
       "    </tr>\n",
       "    <tr>\n",
       "      <th>12</th>\n",
       "      <td>Belt and road</td>\n",
       "      <td>silk road, bri, belt and road, , belt and road</td>\n",
       "    </tr>\n",
       "    <tr>\n",
       "      <th>13</th>\n",
       "      <td>Arrears</td>\n",
       "      <td>financing assurances, misreported, good faith,...</td>\n",
       "    </tr>\n",
       "    <tr>\n",
       "      <th>14</th>\n",
       "      <td>Debt restructuring</td>\n",
       "      <td>haircut, holdouts, debt relief, hipc, club, de...</td>\n",
       "    </tr>\n",
       "    <tr>\n",
       "      <th>15</th>\n",
       "      <td>Financing assurances</td>\n",
       "      <td>safeguards, imf resources, arrears, , reassure...</td>\n",
       "    </tr>\n",
       "  </tbody>\n",
       "</table>\n",
       "</div>"
      ],
      "text/plain": [
       "                   Hot button issues  \\\n",
       "0   Capital flow management measures   \n",
       "1              Exchange restrictions   \n",
       "2         Multiple currency practice   \n",
       "3                         Corruption   \n",
       "4                         Governance   \n",
       "5                    Fintech/digital   \n",
       "6           Macroprudential measures   \n",
       "7                            Housing   \n",
       "8                        Demographic   \n",
       "9                     Shadow banking   \n",
       "10                Competition policy   \n",
       "11     Foreign Exchange intervention   \n",
       "12                     Belt and road   \n",
       "13                           Arrears   \n",
       "14                Debt restructuring   \n",
       "15              Financing assurances   \n",
       "\n",
       "                                         keyword list  \n",
       "0   cfm, cfm mpm, capital inflows surge, disruptiv...  \n",
       "1   article viii, current international transactio...  \n",
       "2   mcp, article viii, effective rate, preferentia...  \n",
       "3   political risk, bribes, transparency, accounta...  \n",
       "4   public financial management, pfm, anti money l...  \n",
       "5   artificial intelligence, big data, blockchain,...  \n",
       "6   mpm, cfm mpm, systemic risk, ltv, dsti, risk w...  \n",
       "7   affordability, mortgage, house prices, househo...  \n",
       "8   population, ageing, pension, productivity, mig...  \n",
       "9   non bank credit, credit guarantee, contingent ...  \n",
       "10  industrial policy, monopoly, cartel, antitrust...  \n",
       "11  fx intervention, fxi, disorderly market condit...  \n",
       "12     silk road, bri, belt and road, , belt and road  \n",
       "13  financing assurances, misreported, good faith,...  \n",
       "14  haircut, holdouts, debt relief, hipc, club, de...  \n",
       "15  safeguards, imf resources, arrears, , reassure...  "
      ]
     },
     "execution_count": 16,
     "metadata": {},
     "output_type": "execute_result"
    }
   ],
   "source": [
    "hot_button_df = pd.read_excel(hot_button_file)\n",
    "\n",
    "hot_button_df.fillna('', inplace= True)\n",
    "\n",
    "hot_button_df['keyword list'] = hot_button_df['related words selected'].str.cat(hot_button_df['augmented words from topic modelling'], sep = ', ').str.cat(hot_button_df['augmented words from word2vec'], sep = ', ').str.cat(hot_button_df['search term for word2vec'], sep = ', ')\n",
    "\n",
    "hot_button_df['keyword list'] = hot_button_df['keyword list'].str.lower().str.replace(r'/|-|_',' ')\n",
    "\n",
    "hot_button_df[['Hot button issues','keyword list']]"
   ]
  },
  {
   "cell_type": "markdown",
   "metadata": {},
   "source": [
    "#### Create dictionary mapping name and regular expression"
   ]
  },
  {
   "cell_type": "code",
   "execution_count": 17,
   "metadata": {},
   "outputs": [
    {
     "data": {
      "text/plain": [
       "{'Arrears': 'financing assurances[s]*[\\\\s|.,]+|[\\\\s|.,]+misreported[s]*[\\\\s|.,]+|[\\\\s|.,]+good faith[s]*[\\\\s|.,]+|[\\\\s|.,]+lending into arrears policy[s]*[\\\\s|.,]+|[\\\\s|.,]+creditor[s]*[\\\\s|.,]+|[\\\\s|.,]+arrears[s]*[\\\\s|.,]+|[\\\\s|.,]+upo[s]*[\\\\s|.,]+|[\\\\s|.,]+sonara[s]*[\\\\s|.,]+|[\\\\s|.,]+emae[s]*[\\\\s|.,]+|[\\\\s|.,]+extrabudgetary spending[s]*[\\\\s|.,]+|[\\\\s|.,]+unpaid[s]*[\\\\s|.,]+|[\\\\s|.,]+vat refund[s]*[\\\\s|.,]+|[\\\\s|.,]+naftogaz[s]*[\\\\s|.,]+|[\\\\s|.,]+unprogrammed[s]*[\\\\s|.,]+|[\\\\s|.,]+reschedule[s]*[\\\\s|.,]+|[\\\\s|.,]+outstaning[s]*[\\\\s|.,]+|[\\\\s|.,]+repayment[s]*[\\\\s|.,]+|[\\\\s|.,]+arrear',\n",
       " 'Belt and road': 'silk road[s]*[\\\\s|.,]+|[\\\\s|.,]+bri[s]*[\\\\s|.,]+|[\\\\s|.,]+belt and road|belt and road',\n",
       " 'Capital flow management measures': 'cfm[s]*[\\\\s|.,]+|[\\\\s|.,]+cfm mpm[s]*[\\\\s|.,]+|[\\\\s|.,]+capital inflows surge[s]*[\\\\s|.,]+|[\\\\s|.,]+disruptive capital outflows[s]*[\\\\s|.,]+|[\\\\s|.,]+depreciation pressures[s]*[\\\\s|.,]+|[\\\\s|.,]+cfms[s]*[\\\\s|.,]+|[\\\\s|.,]+capital flow measure[s]*[\\\\s|.,]+|[\\\\s|.,]+cfm[s]*[\\\\s|.,]+|[\\\\s|.,]+capital outflow',\n",
       " 'Competition policy': 'industrial policy[s]*[\\\\s|.,]+|[\\\\s|.,]+monopoly[s]*[\\\\s|.,]+|[\\\\s|.,]+cartel[s]*[\\\\s|.,]+|[\\\\s|.,]+antitrust,anti competitive[s]*[\\\\s|.,]+|[\\\\s|.,]+cartel[s]*[\\\\s|.,]+|[\\\\s|.,]+anti trust[s]*[\\\\s|.,]+|[\\\\s|.,]+anticompetitive[s]*[\\\\s|.,]+|[\\\\s|.,]+noncompetitive[s]*[\\\\s|.,]+|[\\\\s|.,]+privatization[s]*[\\\\s|.,]+|[\\\\s|.,]+entry barrier[s]*[\\\\s|.,]+|[\\\\s|.,]+contestability[s]*[\\\\s|.,]+|[\\\\s|.,]+regulated[s]*[\\\\s|.,]+|[\\\\s|.,]+antitrust[s]*[\\\\s|.,]+|[\\\\s|.,]+services directive[s]*[\\\\s|.,]+|[\\\\s|.,]+deregulate[s]*[\\\\s|.,]+|[\\\\s|.,]+sheltered sector[s]*[\\\\s|.,]+|[\\\\s|.,]+anti competitive[s]*[\\\\s|.,]+|[\\\\s|.,]+competition',\n",
       " 'Corruption': 'political risk[s]*[\\\\s|.,]+|[\\\\s|.,]+bribes[s]*[\\\\s|.,]+|[\\\\s|.,]+transparency[s]*[\\\\s|.,]+|[\\\\s|.,]+accountability[s]*[\\\\s|.,]+|[\\\\s|.,]+tax evasion[s]*[\\\\s|.,]+|[\\\\s|.,]+state intervention[s]*[\\\\s|.,]+|[\\\\s|.,]+rent seeking[s]*[\\\\s|.,]+|[\\\\s|.,]+fraudulent[s]*[\\\\s|.,]+|[\\\\s|.,]+corruption[s]*[\\\\s|.,]+|[\\\\s|.,]+anticorruption[s]*[\\\\s|.,]+|[\\\\s|.,]+anti bribery[s]*[\\\\s|.,]+|[\\\\s|.,]+red tape[s]*[\\\\s|.,]+|[\\\\s|.,]+rent seeking[s]*[\\\\s|.,]+|[\\\\s|.,]+corruption',\n",
       " 'Debt restructuring': 'haircut[s]*[\\\\s|.,]+|[\\\\s|.,]+holdouts[s]*[\\\\s|.,]+|[\\\\s|.,]+debt relief[s]*[\\\\s|.,]+|[\\\\s|.,]+hipc[s]*[\\\\s|.,]+|[\\\\s|.,]+club[s]*[\\\\s|.,]+|[\\\\s|.,]+debt relief[s]*[\\\\s|.,]+|[\\\\s|.,]+paris[s]*[\\\\s|.,]+|[\\\\s|.,]+reschedule[s]*[\\\\s|.,]+|[\\\\s|.,]+multilateral debt relief[s]*[\\\\s|.,]+|[\\\\s|.,]+mdri[s]*[\\\\s|.,]+|[\\\\s|.,]+rfi[s]*[\\\\s|.,]+|[\\\\s|.,]+prgt[s]*[\\\\s|.,]+|[\\\\s|.,]+ida[s]*[\\\\s|.,]+|[\\\\s|.,]+afdb[s]*[\\\\s|.,]+|[\\\\s|.,]+ibrd[s]*[\\\\s|.,]+|[\\\\s|.,]+grace[s]*[\\\\s|.,]+|[\\\\s|.,]+restructuring[s]*[\\\\s|.,]+|[\\\\s|.,]+partial privatization[s]*[\\\\s|.,]+|[\\\\s|.,]+commercialize[s]*[\\\\s|.,]+|[\\\\s|.,]+gfi[s]*[\\\\s|.,]+|[\\\\s|.,]+corporatization[s]*[\\\\s|.,]+|[\\\\s|.,]+bnf[s]*[\\\\s|.,]+|[\\\\s|.,]+nationalize[s]*[\\\\s|.,]+|[\\\\s|.,]+ail[s]*[\\\\s|.,]+|[\\\\s|.,]+recapitalize[s]*[\\\\s|.,]+|[\\\\s|.,]+socially own[s]*[\\\\s|.,]+|[\\\\s|.,]+recapitaliz[s]*[\\\\s|.,]+|[\\\\s|.,]+bim[s]*[\\\\s|.,]+|[\\\\s|.,]+liquidate[s]*[\\\\s|.,]+|[\\\\s|.,]+unviable[s]*[\\\\s|.,]+|[\\\\s|.,]+equitization[s]*[\\\\s|.,]+|[\\\\s|.,]+restructure',\n",
       " 'Demographic': 'population[s]*[\\\\s|.,]+|[\\\\s|.,]+ageing[s]*[\\\\s|.,]+|[\\\\s|.,]+pension[s]*[\\\\s|.,]+|[\\\\s|.,]+productivity[s]*[\\\\s|.,]+|[\\\\s|.,]+migration[s]*[\\\\s|.,]+|[\\\\s|.,]+age[s]*[\\\\s|.,]+|[\\\\s|.,]+retirement[s]*[\\\\s|.,]+|[\\\\s|.,]+health care[s]*[\\\\s|.,]+|[\\\\s|.,]+insurance[s]*[\\\\s|.,]+|[\\\\s|.,]+actuarial[s]*[\\\\s|.,]+|[\\\\s|.,]+aging[s]*[\\\\s|.,]+|[\\\\s|.,]+population[s]*[\\\\s|.,]+|[\\\\s|.,]+dependency ratio[s]*[\\\\s|.,]+|[\\\\s|.,]+fertility rate[s]*[\\\\s|.,]+|[\\\\s|.,]+baby boom[s]*[\\\\s|.,]+|[\\\\s|.,]+working age[s]*[\\\\s|.,]+|[\\\\s|.,]+demographic',\n",
       " 'Exchange restrictions': 'article viii[s]*[\\\\s|.,]+|[\\\\s|.,]+current international transactions[s]*[\\\\s|.,]+|[\\\\s|.,]+exchange control[s]*[\\\\s|.,]+|[\\\\s|.,]+quantitative limitation[s]*[\\\\s|.,]+|[\\\\s|.,]+fx[s]*[\\\\s|.,]+|[\\\\s|.,]+article[s]*[\\\\s|.,]+|[\\\\s|.,]+restriction[s]*[\\\\s|.,]+|[\\\\s|.,]+exchange restriction[s]*[\\\\s|.,]+|[\\\\s|.,]+transaction[s]*[\\\\s|.,]+|[\\\\s|.,]+article xiv[s]*[\\\\s|.,]+|[\\\\s|.,]+cbos[s]*[\\\\s|.,]+|[\\\\s|.,]+article viii[s]*[\\\\s|.,]+|[\\\\s|.,]+exchange',\n",
       " 'Financing assurances': 'safeguards[s]*[\\\\s|.,]+|[\\\\s|.,]+imf resources[s]*[\\\\s|.,]+|[\\\\s|.,]+arrears|reassure[s]*[\\\\s|.,]+|[\\\\s|.,]+satisfactorily[s]*[\\\\s|.,]+|[\\\\s|.,]+strict adherence[s]*[\\\\s|.,]+|[\\\\s|.,]+discipline[s]*[\\\\s|.,]+|[\\\\s|.,]+ifi[s]*[\\\\s|.,]+|[\\\\s|.,]+precondition[s]*[\\\\s|.,]+|[\\\\s|.,]+conditional[s]*[\\\\s|.,]+|[\\\\s|.,]+continuity[s]*[\\\\s|.,]+|[\\\\s|.,]+successor arrangement[s]*[\\\\s|.,]+|[\\\\s|.,]+assurance',\n",
       " 'Fintech/digital': 'artificial intelligence[s]*[\\\\s|.,]+|[\\\\s|.,]+big data[s]*[\\\\s|.,]+|[\\\\s|.,]+blockchain[s]*[\\\\s|.,]+|[\\\\s|.,]+innovation[s]*[\\\\s|.,]+|[\\\\s|.,]+crypto[s]*[\\\\s|.,]+|[\\\\s|.,]+machine learning[s]*[\\\\s|.,]+|[\\\\s|.,]+mobile lending[s]*[\\\\s|.,]+|[\\\\s|.,]+mobile phone[s]*[\\\\s|.,]+|[\\\\s|.,]+service provider[s]*[\\\\s|.,]+|[\\\\s|.,]+mobile banking[s]*[\\\\s|.,]+|[\\\\s|.,]+internet[s]*[\\\\s|.,]+|[\\\\s|.,]+gateway[s]*[\\\\s|.,]+|[\\\\s|.,]+aadhaar[s]*[\\\\s|.,]+|[\\\\s|.,]+mobile',\n",
       " 'Foreign Exchange intervention': 'fx intervention[s]*[\\\\s|.,]+|[\\\\s|.,]+fxi[s]*[\\\\s|.,]+|[\\\\s|.,]+disorderly market condition[s]*[\\\\s|.,]+|[\\\\s|.,]+dmc[s]*[\\\\s|.,]+|[\\\\s|.,]+market dysfunction[s]*[\\\\s|.,]+|[\\\\s|.,]+fx sales[s]*[\\\\s|.,]+|[\\\\s|.,]+exchange market intervention[s]*[\\\\s|.,]+|[\\\\s|.,]+fx intervention[s]*[\\\\s|.,]+|[\\\\s|.,]+intervene[s]*[\\\\s|.,]+|[\\\\s|.,]+excessive volatility[s]*[\\\\s|.,]+|[\\\\s|.,]+smooth excessive[s]*[\\\\s|.,]+|[\\\\s|.,]+sterilize intervention[s]*[\\\\s|.,]+|[\\\\s|.,]+bou[s]*[\\\\s|.,]+|[\\\\s|.,]+discretionary intervention[s]*[\\\\s|.,]+|[\\\\s|.,]+sterilization operation[s]*[\\\\s|.,]+|[\\\\s|.,]+way bet[s]*[\\\\s|.,]+|[\\\\s|.,]+cby[s]*[\\\\s|.,]+|[\\\\s|.,]+cbrt[s]*[\\\\s|.,]+|[\\\\s|.,]+nbkr[s]*[\\\\s|.,]+|[\\\\s|.,]+intervention',\n",
       " 'Governance': 'public financial management[s]*[\\\\s|.,]+|[\\\\s|.,]+pfm[s]*[\\\\s|.,]+|[\\\\s|.,]+anti money laundering[s]*[\\\\s|.,]+|[\\\\s|.,]+aml[s]*[\\\\s|.,]+|[\\\\s|.,]+combating the financing of terrorism[s]*[\\\\s|.,]+|[\\\\s|.,]+cft[s]*[\\\\s|.,]+|[\\\\s|.,]+apg[s]*[\\\\s|.,]+|[\\\\s|.,]+cfatf[s]*[\\\\s|.,]+|[\\\\s|.,]+launder[s]*[\\\\s|.,]+|[\\\\s|.,]+suspicious[s]*[\\\\s|.,]+|[\\\\s|.,]+offence[s]*[\\\\s|.,]+|[\\\\s|.,]+criminalize[s]*[\\\\s|.,]+|[\\\\s|.,]+offense[s]*[\\\\s|.,]+|[\\\\s|.,]+terrorism[s]*[\\\\s|.,]+|[\\\\s|.,]+laundering[s]*[\\\\s|.,]+|[\\\\s|.,]+fatf[s]*[\\\\s|.,]+|[\\\\s|.,]+aml[s]*[\\\\s|.,]+|[\\\\s|.,]+anti[s]*[\\\\s|.,]+|[\\\\s|.,]+cft[s]*[\\\\s|.,]+|[\\\\s|.,]+tf[s]*[\\\\s|.,]+|[\\\\s|.,]+anti money laundering[s]*[\\\\s|.,]+|[\\\\s|.,]+money laundering[s]*[\\\\s|.,]+|[\\\\s|.,]+cbr[s]*[\\\\s|.,]+|[\\\\s|.,]+combat corruption[s]*[\\\\s|.,]+|[\\\\s|.,]+fight corruption[s]*[\\\\s|.,]+|[\\\\s|.,]+governance',\n",
       " 'Housing': 'affordability[s]*[\\\\s|.,]+|[\\\\s|.,]+mortgage[s]*[\\\\s|.,]+|[\\\\s|.,]+house prices[s]*[\\\\s|.,]+|[\\\\s|.,]+household[s]*[\\\\s|.,]+|[\\\\s|.,]+housing[s]*[\\\\s|.,]+|[\\\\s|.,]+real estate[s]*[\\\\s|.,]+|[\\\\s|.,]+property[s]*[\\\\s|.,]+|[\\\\s|.,]+housing market[s]*[\\\\s|.,]+|[\\\\s|.,]+residential[s]*[\\\\s|.,]+|[\\\\s|.,]+housing price[s]*[\\\\s|.,]+|[\\\\s|.,]+debt service to income[s]*[\\\\s|.,]+|[\\\\s|.,]+lti[s]*[\\\\s|.,]+|[\\\\s|.,]+cre[s]*[\\\\s|.,]+|[\\\\s|.,]+ownder occupied[s]*[\\\\s|.,]+|[\\\\s|.,]+loan to income[s]*[\\\\s|.,]+|[\\\\s|.,]+ltv[s]*[\\\\s|.,]+|[\\\\s|.,]+dsli[s]*[\\\\s|.,]+|[\\\\s|.,]+amortizing[s]*[\\\\s|.,]+|[\\\\s|.,]+price to income[s]*[\\\\s|.,]+|[\\\\s|.,]+price to rent[s]*[\\\\s|.,]+|[\\\\s|.,]+interest only[s]*[\\\\s|.,]+|[\\\\s|.,]+ltvs[s]*[\\\\s|.,]+|[\\\\s|.,]+dti[s]*[\\\\s|.,]+|[\\\\s|.,]+debt to income[s]*[\\\\s|.,]+|[\\\\s|.,]+mortgage debt[s]*[\\\\s|.,]+|[\\\\s|.,]+buy to let[s]*[\\\\s|.,]+|[\\\\s|.,]+aprtment[s]*[\\\\s|.,]+|[\\\\s|.,]+loan to value[s]*[\\\\s|.,]+|[\\\\s|.,]+homeowner[s]*[\\\\s|.,]+|[\\\\s|.,]+cmbc[s]*[\\\\s|.,]+|[\\\\s|.,]+house price growth[s]*[\\\\s|.,]+|[\\\\s|.,]+house price[s]*[\\\\s|.,]+|[\\\\s|.,]+real estate related[s]*[\\\\s|.,]+|[\\\\s|.,]+tenant[s]*[\\\\s|.,]+|[\\\\s|.,]+swelling[s]*[\\\\s|.,]+|[\\\\s|.,]+household debt[s]*[\\\\s|.,]+|[\\\\s|.,]+residential[s]*[\\\\s|.,]+|[\\\\s|.,]+residential property[s]*[\\\\s|.,]+|[\\\\s|.,]+rental[s]*[\\\\s|.,]+|[\\\\s|.,]+dwelling[s]*[\\\\s|.,]+|[\\\\s|.,]+house price[s]*[\\\\s|.,]+|[\\\\s|.,]+affordability[s]*[\\\\s|.,]+|[\\\\s|.,]+mortgage[s]*[\\\\s|.,]+|[\\\\s|.,]+apartment[s]*[\\\\s|.,]+|[\\\\s|.,]+owner occupy[s]*[\\\\s|.,]+|[\\\\s|.,]+residential construction[s]*[\\\\s|.,]+|[\\\\s|.,]+property[s]*[\\\\s|.,]+|[\\\\s|.,]+household indebtedness[s]*[\\\\s|.,]+|[\\\\s|.,]+mortgage lending[s]*[\\\\s|.,]+|[\\\\s|.,]+real estate[s]*[\\\\s|.,]+|[\\\\s|.,]+home ownership[s]*[\\\\s|.,]+|[\\\\s|.,]+rent[s]*[\\\\s|.,]+|[\\\\s|.,]+household[s]*[\\\\s|.,]+|[\\\\s|.,]+oversupply[s]*[\\\\s|.,]+|[\\\\s|.,]+housing',\n",
       " 'Macroprudential measures': 'mpm[s]*[\\\\s|.,]+|[\\\\s|.,]+cfm mpm[s]*[\\\\s|.,]+|[\\\\s|.,]+systemic risk[s]*[\\\\s|.,]+|[\\\\s|.,]+ltv[s]*[\\\\s|.,]+|[\\\\s|.,]+dsti[s]*[\\\\s|.,]+|[\\\\s|.,]+risk weights[s]*[\\\\s|.,]+|[\\\\s|.,]+lcr[s]*[\\\\s|.,]+|[\\\\s|.,]+nsfr[s]*[\\\\s|.,]+|[\\\\s|.,]+capital buffer[s]*[\\\\s|.,]+|[\\\\s|.,]+loan loss provisioning[s]*[\\\\s|.,]+|[\\\\s|.,]+fx borrowing|macro prudential[s]*[\\\\s|.,]+|[\\\\s|.,]+macroprudential tool[s]*[\\\\s|.,]+|[\\\\s|.,]+macroprudential toolkit[s]*[\\\\s|.,]+|[\\\\s|.,]+macroprudential instrument[s]*[\\\\s|.,]+|[\\\\s|.,]+fpc[s]*[\\\\s|.,]+|[\\\\s|.,]+dynamic provisioning[s]*[\\\\s|.,]+|[\\\\s|.,]+ltv[s]*[\\\\s|.,]+|[\\\\s|.,]+fi[s]*[\\\\s|.,]+|[\\\\s|.,]+prudential[s]*[\\\\s|.,]+|[\\\\s|.,]+dti[s]*[\\\\s|.,]+|[\\\\s|.,]+knf[s]*[\\\\s|.,]+|[\\\\s|.,]+fi[s]*[\\\\s|.,]+|[\\\\s|.,]+macroprudential',\n",
       " 'Multiple currency practice': 'mcp[s]*[\\\\s|.,]+|[\\\\s|.,]+article viii[s]*[\\\\s|.,]+|[\\\\s|.,]+effective rate[s]*[\\\\s|.,]+|[\\\\s|.,]+preferential rate[s]*[\\\\s|.,]+|[\\\\s|.,]+parallel[s]*[\\\\s|.,]+|[\\\\s|.,]+mcp[s]*[\\\\s|.,]+|[\\\\s|.,]+parallel market[s]*[\\\\s|.,]+|[\\\\s|.,]+multiple currency',\n",
       " 'Shadow banking': 'non bank credit[s]*[\\\\s|.,]+|[\\\\s|.,]+credit guarantee[s]*[\\\\s|.,]+|[\\\\s|.,]+contingent liabilities[s]*[\\\\s|.,]+|[\\\\s|.,]+non banking[s]*[\\\\s|.,]+|[\\\\s|.,]+cre[s]*[\\\\s|.,]+|[\\\\s|.,]+regulatory perimeter[s]*[\\\\s|.,]+|[\\\\s|.,]+institution nbfis[s]*[\\\\s|.,]+|[\\\\s|.,]+nbfis[s]*[\\\\s|.,]+|[\\\\s|.,]+sfi[s]*[\\\\s|.,]+|[\\\\s|.,]+asset manager[s]*[\\\\s|.,]+|[\\\\s|.,]+security dealer[s]*[\\\\s|.,]+|[\\\\s|.,]+indirect exposure[s]*[\\\\s|.,]+|[\\\\s|.,]+shadow banking'}"
      ]
     },
     "execution_count": 17,
     "metadata": {},
     "output_type": "execute_result"
    }
   ],
   "source": [
    "hot_button_dict = pd.Series(hot_button_df['keyword list'].values,index=hot_button_df['Hot button issues']).to_dict()\n",
    "\n",
    "hot_button_dict\n",
    "\n",
    "for k, v in hot_button_dict.items():\n",
    "    # regular expression, deal with multiplles\n",
    "    ## 1. adding 's','d'at end\n",
    "    ## 2. separated from other characters\n",
    "    ## 3. take care of duplicated space\n",
    "    hot_button_dict[k] = v.replace(', ', '[s]*[\\s|.,]+|[\\s|.,]+').replace('[s]*[\\s|.,]+|[\\s|.,]+[s]*[\\s|.,]+|[\\s|.,]+','|')\n",
    "\n",
    "hot_button_dict\n",
    "hot_button_dict"
   ]
  },
  {
   "cell_type": "code",
   "execution_count": 39,
   "metadata": {},
   "outputs": [],
   "source": [
    "# Save and load for reuse in production\n",
    "\n",
    "import pickle\n",
    "\n",
    "pickle.dump(hot_button_dict, open(save_file,'wb'))\n",
    "\n",
    "hot_button_dict = pickle.load(open(save_file, 'rb'))"
   ]
  },
  {
   "cell_type": "markdown",
   "metadata": {},
   "source": [
    "#### Load Text File and get search results"
   ]
  },
  {
   "cell_type": "code",
   "execution_count": 18,
   "metadata": {},
   "outputs": [
    {
     "data": {
      "text/plain": [
       "73"
      ]
     },
     "execution_count": 18,
     "metadata": {},
     "output_type": "execute_result"
    }
   ],
   "source": [
    "def search_wordlist_in_paragarph(wordlist, paragarph):\n",
    "    '''Check if a paragarph contains any word in list'''\n",
    "    result = re.findall(wordlist, paragarph)\n",
    "\n",
    "    return result\n",
    "\n",
    "def read_doc(f_path,word_length_filter=20):\n",
    "    '''load an clean document'''\n",
    "    if os.path.isfile(f_path):\n",
    "        doc = Document(f_path)\n",
    "        text_list = [p.text for p in doc.paragraphs if len(p.text)>10]#[3:]\n",
    "        text_list = [p.replace('\\xa0',' ') for p in text_list] # some clean up \n",
    "        text_list = [p for p in text_list if len(p.split()) > word_length_filter]\n",
    "    else:\n",
    "        raise Exception('File does not exist: {}'.format(f_path))\n",
    "\n",
    "    return text_list\n",
    "\n",
    "document = read_doc(text_file_path)\n",
    "\n",
    "## some replacement of \"-/_\" to space\n",
    "document = list(map(lambda x: re.sub(r'—|-|_',' ',x), document))\n",
    "len(document)"
   ]
  },
  {
   "cell_type": "code",
   "execution_count": 20,
   "metadata": {},
   "outputs": [
    {
     "name": "stdout",
     "output_type": "stream",
     "text": [
      "{'Capital flow management measures': {'capital flow measures'}, 'Exchange restrictions': {'exchange'}, 'Multiple currency practice': None, 'Corruption': {'transparency,'}, 'Governance': None, 'Fintech/digital': None, 'Macroprudential measures': {'macroprudential', 'macroprudential tools'}, 'Housing': {'households', 'real estate', 'property', 'mortgage', 'household'}, 'Demographic': {'productivity', 'demographic', 'population', 'working age', 'insurance', 'pension', 'productivity.', 'pensions,'}, 'Shadow banking': {', contingent liabilities'}, 'Competition policy': None, 'Foreign Exchange intervention': {'intervention'}, 'Belt and road': None, 'Arrears': {'repayment'}, 'Debt restructuring': None, 'Financing assurances': None}\n",
      "--- 319.53961539268494 seconds ---\n"
     ]
    }
   ],
   "source": [
    "result = dict()\n",
    "\n",
    "for k, v in hot_button_dict.items():\n",
    "    # iterate over each topic\n",
    "    found_list = list(map(lambda x: search_wordlist_in_paragarph(v, x), document))\n",
    "    found_word = [y for x in found_list for y in x if x !=[]]\n",
    "    if len(found_word) == 0:\n",
    "        result[k] = None\n",
    "    else:\n",
    "        result[k] = set(list(map(lambda x: x.strip(' '),found_word)))\n",
    "\n",
    "print(result)\n",
    "\n",
    "print(\"--- %s seconds ---\" % (time.time() - start_time))"
   ]
  },
  {
   "cell_type": "code",
   "execution_count": 21,
   "metadata": {},
   "outputs": [
    {
     "data": {
      "text/plain": [
       "['it is good', 'bad apple']"
      ]
     },
     "execution_count": 21,
     "metadata": {},
     "output_type": "execute_result"
    }
   ],
   "source": [
    "# test example\n",
    "list(map(lambda x: x.strip(' '), ['it is good ',' bad apple']))"
   ]
  },
  {
   "cell_type": "code",
   "execution_count": 22,
   "metadata": {},
   "outputs": [
    {
     "data": {
      "text/plain": [
       "['gr ']"
      ]
     },
     "execution_count": 22,
     "metadata": {},
     "output_type": "execute_result"
    }
   ],
   "source": [
    "re.findall('[\\b]*gr[\\s.,]', r'It''s great gr .')"
   ]
  }
 ],
 "metadata": {
  "kernelspec": {
   "display_name": "Python 3",
   "language": "python",
   "name": "python3"
  },
  "language_info": {
   "codemirror_mode": {
    "name": "ipython",
    "version": 3
   },
   "file_extension": ".py",
   "mimetype": "text/x-python",
   "name": "python",
   "nbconvert_exporter": "python",
   "pygments_lexer": "ipython3",
   "version": "3.6.8"
  }
 },
 "nbformat": 4,
 "nbformat_minor": 2
}
