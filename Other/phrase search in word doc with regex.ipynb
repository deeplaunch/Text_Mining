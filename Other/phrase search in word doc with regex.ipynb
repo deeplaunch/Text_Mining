{
 "cells": [
  {
   "cell_type": "markdown",
   "metadata": {},
   "source": [
    "### 1. Read in word document, identify \"hot button issue\" by checking against pre-defined keyword list \n",
    "### 2. Return dictionary {\"hot button issue\": set of keywords found}\n",
    "\n",
    "### *Note: Keyword needs to include mutations such as \" intervene -> intervened, intervines\"*"
   ]
  },
  {
   "cell_type": "code",
   "execution_count": 1,
   "metadata": {
    "collapsed": true
   },
   "outputs": [],
   "source": [
    "import sys\n",
    "import os\n",
    "import pickle\n",
    "import re\n",
    "\n",
    "import pandas as pd\n",
    "import numpy as np\n",
    "\n",
    "from docx import Document\n",
    "\n",
    "import time\n",
    "start_time = time.time()"
   ]
  },
  {
   "cell_type": "code",
   "execution_count": 2,
   "metadata": {},
   "outputs": [
    {
     "name": "stdout",
     "output_type": "stream",
     "text": [
      "/mnt/notebook/poc\n"
     ]
    }
   ],
   "source": [
    "hot_button_file = os.path.join('../../data/raw/hot_button_issues.xlsx')\n",
    "text_file_path = \"../../documentation/sample_docs/5138964-v5-Brazil_2013_Article_IV_Consultation_-_Policy_Note.DOCX\"\n",
    "save_file = os.path.join('../../data/processed/','hot_button_dict.pickle')\n",
    "print(os.getcwd())"
   ]
  },
  {
   "cell_type": "markdown",
   "metadata": {},
   "source": [
    "#### Import hot_button_table (manually created)"
   ]
  },
  {
   "cell_type": "code",
   "execution_count": 3,
   "metadata": {},
   "outputs": [
    {
     "data": {
      "text/html": [
       "<div>\n",
       "<style scoped>\n",
       "    .dataframe tbody tr th:only-of-type {\n",
       "        vertical-align: middle;\n",
       "    }\n",
       "\n",
       "    .dataframe tbody tr th {\n",
       "        vertical-align: top;\n",
       "    }\n",
       "\n",
       "    .dataframe thead th {\n",
       "        text-align: right;\n",
       "    }\n",
       "</style>\n",
       "<table border=\"1\" class=\"dataframe\">\n",
       "  <thead>\n",
       "    <tr style=\"text-align: right;\">\n",
       "      <th></th>\n",
       "      <th>Hot button issues</th>\n",
       "      <th>keyword list</th>\n",
       "    </tr>\n",
       "  </thead>\n",
       "  <tbody>\n",
       "    <tr>\n",
       "      <th>0</th>\n",
       "      <td>Capital flow management measures</td>\n",
       "      <td>cfm, cfm mpm, capital inflows surge, disruptiv...</td>\n",
       "    </tr>\n",
       "    <tr>\n",
       "      <th>1</th>\n",
       "      <td>Exchange restrictions</td>\n",
       "      <td>article viii, current international transactio...</td>\n",
       "    </tr>\n",
       "    <tr>\n",
       "      <th>2</th>\n",
       "      <td>Multiple currency practice</td>\n",
       "      <td>mcp, article viii, effective rate, preferentia...</td>\n",
       "    </tr>\n",
       "    <tr>\n",
       "      <th>3</th>\n",
       "      <td>Corruption</td>\n",
       "      <td>political risk, bribes, transparency, accounta...</td>\n",
       "    </tr>\n",
       "    <tr>\n",
       "      <th>4</th>\n",
       "      <td>Governance</td>\n",
       "      <td>public financial management, pfm, anti money l...</td>\n",
       "    </tr>\n",
       "    <tr>\n",
       "      <th>5</th>\n",
       "      <td>Fintech/digital</td>\n",
       "      <td>artificial intelligence, big data, blockchain,...</td>\n",
       "    </tr>\n",
       "    <tr>\n",
       "      <th>6</th>\n",
       "      <td>Macroprudential measures</td>\n",
       "      <td>mpm, cfm mpm, systemic risk, ltv, dsti, risk w...</td>\n",
       "    </tr>\n",
       "    <tr>\n",
       "      <th>7</th>\n",
       "      <td>Housing</td>\n",
       "      <td>affordability, mortgage, house prices, househo...</td>\n",
       "    </tr>\n",
       "    <tr>\n",
       "      <th>8</th>\n",
       "      <td>Demographic</td>\n",
       "      <td>population, ageing, pension, productivity, mig...</td>\n",
       "    </tr>\n",
       "    <tr>\n",
       "      <th>9</th>\n",
       "      <td>Shadow banking</td>\n",
       "      <td>non bank credit, credit guarantee, contingent ...</td>\n",
       "    </tr>\n",
       "    <tr>\n",
       "      <th>10</th>\n",
       "      <td>Competition policy</td>\n",
       "      <td>industrial policy, monopoly, cartel, antitrust...</td>\n",
       "    </tr>\n",
       "    <tr>\n",
       "      <th>11</th>\n",
       "      <td>Foreign Exchange intervention</td>\n",
       "      <td>fx intervention, fxi, disorderly market condit...</td>\n",
       "    </tr>\n",
       "    <tr>\n",
       "      <th>12</th>\n",
       "      <td>Belt and road</td>\n",
       "      <td>silk road, bri, belt and road, , belt and road</td>\n",
       "    </tr>\n",
       "    <tr>\n",
       "      <th>13</th>\n",
       "      <td>Arrears</td>\n",
       "      <td>financing assurances, misreported, good faith,...</td>\n",
       "    </tr>\n",
       "    <tr>\n",
       "      <th>14</th>\n",
       "      <td>Debt restructuring</td>\n",
       "      <td>haircut, holdouts, debt relief, hipc, club, de...</td>\n",
       "    </tr>\n",
       "    <tr>\n",
       "      <th>15</th>\n",
       "      <td>Financing assurances</td>\n",
       "      <td>safeguards, imf resources, arrears, , reassure...</td>\n",
       "    </tr>\n",
       "  </tbody>\n",
       "</table>\n",
       "</div>"
      ],
      "text/plain": [
       "                   Hot button issues  \\\n",
       "0   Capital flow management measures   \n",
       "1              Exchange restrictions   \n",
       "2         Multiple currency practice   \n",
       "3                         Corruption   \n",
       "4                         Governance   \n",
       "5                    Fintech/digital   \n",
       "6           Macroprudential measures   \n",
       "7                            Housing   \n",
       "8                        Demographic   \n",
       "9                     Shadow banking   \n",
       "10                Competition policy   \n",
       "11     Foreign Exchange intervention   \n",
       "12                     Belt and road   \n",
       "13                           Arrears   \n",
       "14                Debt restructuring   \n",
       "15              Financing assurances   \n",
       "\n",
       "                                         keyword list  \n",
       "0   cfm, cfm mpm, capital inflows surge, disruptiv...  \n",
       "1   article viii, current international transactio...  \n",
       "2   mcp, article viii, effective rate, preferentia...  \n",
       "3   political risk, bribes, transparency, accounta...  \n",
       "4   public financial management, pfm, anti money l...  \n",
       "5   artificial intelligence, big data, blockchain,...  \n",
       "6   mpm, cfm mpm, systemic risk, ltv, dsti, risk w...  \n",
       "7   affordability, mortgage, house prices, househo...  \n",
       "8   population, ageing, pension, productivity, mig...  \n",
       "9   non bank credit, credit guarantee, contingent ...  \n",
       "10  industrial policy, monopoly, cartel, antitrust...  \n",
       "11  fx intervention, fxi, disorderly market condit...  \n",
       "12     silk road, bri, belt and road, , belt and road  \n",
       "13  financing assurances, misreported, good faith,...  \n",
       "14  haircut, holdouts, debt relief, hipc, club, de...  \n",
       "15  safeguards, imf resources, arrears, , reassure...  "
      ]
     },
     "execution_count": 3,
     "metadata": {},
     "output_type": "execute_result"
    }
   ],
   "source": [
    "hot_button_df = pd.read_excel(hot_button_file)\n",
    "\n",
    "hot_button_df.fillna('', inplace= True)\n",
    "\n",
    "hot_button_df['keyword list'] = hot_button_df['related words selected'].\\\n",
    "    str.cat(hot_button_df['augmented words from topic modelling'], sep = ', ').\\\n",
    "    str.cat(hot_button_df['augmented words from word2vec'], sep = ', ').\\\n",
    "    str.cat(hot_button_df['search term for word2vec'], sep = ', ')\n",
    "\n",
    "hot_button_df['keyword list'] = hot_button_df['keyword list'].str.lower().str.replace(r'/|-|_',' ')\n",
    "\n",
    "hot_button_df[['Hot button issues','keyword list']]"
   ]
  },
  {
   "cell_type": "markdown",
   "metadata": {},
   "source": [
    "#### Create dictionary mapping name and regular expression"
   ]
  },
  {
   "cell_type": "code",
   "execution_count": 4,
   "metadata": {
    "scrolled": true
   },
   "outputs": [
    {
     "data": {
      "text/plain": [
       "{'Arrears': 'financing assurancess?\\\\b|\\\\bmisreporteds?\\\\b|\\\\bgood faiths?\\\\b|\\\\blending into arrears policys?\\\\b|\\\\bcreditors?\\\\b|\\\\barrearss?\\\\b|\\\\bupos?\\\\b|\\\\bsonaras?\\\\b|\\\\bemaes?\\\\b|\\\\bextrabudgetary spendings?\\\\b|\\\\bunpaids?\\\\b|\\\\bvat refunds?\\\\b|\\\\bnaftogazs?\\\\b|\\\\bunprogrammeds?\\\\b|\\\\breschedules?\\\\b|\\\\boutstanings?\\\\b|\\\\brepayments?\\\\b|\\\\barrear',\n",
       " 'Belt and road': 'silk roads?\\\\b|\\\\bbris?\\\\b|\\\\bbelt and roads?|\\\\bbelt and road',\n",
       " 'Capital flow management measures': 'cfms?\\\\b|\\\\bcfm mpms?\\\\b|\\\\bcapital inflows surges?\\\\b|\\\\bdisruptive capital outflowss?\\\\b|\\\\bdepreciation pressuress?\\\\b|\\\\bcfmss?\\\\b|\\\\bcapital flow measures?\\\\b|\\\\bcfms?\\\\b|\\\\bcapital outflow',\n",
       " 'Competition policy': 'industrial policys?\\\\b|\\\\bmonopolys?\\\\b|\\\\bcartels?\\\\b|\\\\bantitrust,anti competitives?\\\\b|\\\\bcartels?\\\\b|\\\\banti trusts?\\\\b|\\\\banticompetitives?\\\\b|\\\\bnoncompetitives?\\\\b|\\\\bprivatizations?\\\\b|\\\\bentry barriers?\\\\b|\\\\bcontestabilitys?\\\\b|\\\\bregulateds?\\\\b|\\\\bantitrusts?\\\\b|\\\\bservices directives?\\\\b|\\\\bderegulates?\\\\b|\\\\bsheltered sectors?\\\\b|\\\\banti competitives?\\\\b|\\\\bcompetition',\n",
       " 'Corruption': 'political risks?\\\\b|\\\\bbribess?\\\\b|\\\\btransparencys?\\\\b|\\\\baccountabilitys?\\\\b|\\\\btax evasions?\\\\b|\\\\bstate interventions?\\\\b|\\\\brent seekings?\\\\b|\\\\bfraudulents?\\\\b|\\\\bcorruptions?\\\\b|\\\\banticorruptions?\\\\b|\\\\banti briberys?\\\\b|\\\\bred tapes?\\\\b|\\\\brent seekings?\\\\b|\\\\bcorruption',\n",
       " 'Debt restructuring': 'haircuts?\\\\b|\\\\bholdoutss?\\\\b|\\\\bdebt reliefs?\\\\b|\\\\bhipcs?\\\\b|\\\\bclubs?\\\\b|\\\\bdebt reliefs?\\\\b|\\\\bpariss?\\\\b|\\\\breschedules?\\\\b|\\\\bmultilateral debt reliefs?\\\\b|\\\\bmdris?\\\\b|\\\\brfis?\\\\b|\\\\bprgts?\\\\b|\\\\bidas?\\\\b|\\\\bafdbs?\\\\b|\\\\bibrds?\\\\b|\\\\bgraces?\\\\b|\\\\brestructurings?\\\\b|\\\\bpartial privatizations?\\\\b|\\\\bcommercializes?\\\\b|\\\\bgfis?\\\\b|\\\\bcorporatizations?\\\\b|\\\\bbnfs?\\\\b|\\\\bnationalizes?\\\\b|\\\\bails?\\\\b|\\\\brecapitalizes?\\\\b|\\\\bsocially owns?\\\\b|\\\\brecapitalizs?\\\\b|\\\\bbims?\\\\b|\\\\bliquidates?\\\\b|\\\\bunviables?\\\\b|\\\\bequitizations?\\\\b|\\\\brestructure',\n",
       " 'Demographic': 'populations?\\\\b|\\\\bageings?\\\\b|\\\\bpensions?\\\\b|\\\\bproductivitys?\\\\b|\\\\bmigrations?\\\\b|\\\\bages?\\\\b|\\\\bretirements?\\\\b|\\\\bhealth cares?\\\\b|\\\\binsurances?\\\\b|\\\\bactuarials?\\\\b|\\\\bagings?\\\\b|\\\\bpopulations?\\\\b|\\\\bdependency ratios?\\\\b|\\\\bfertility rates?\\\\b|\\\\bbaby booms?\\\\b|\\\\bworking ages?\\\\b|\\\\bdemographic',\n",
       " 'Exchange restrictions': 'article viiis?\\\\b|\\\\bcurrent international transactionss?\\\\b|\\\\bexchange controls?\\\\b|\\\\bquantitative limitations?\\\\b|\\\\bfxs?\\\\b|\\\\barticles?\\\\b|\\\\brestrictions?\\\\b|\\\\bexchange restrictions?\\\\b|\\\\btransactions?\\\\b|\\\\barticle xivs?\\\\b|\\\\bcboss?\\\\b|\\\\barticle viiis?\\\\b|\\\\bexchange',\n",
       " 'Financing assurances': 'safeguardss?\\\\b|\\\\bimf resourcess?\\\\b|\\\\barrearss?|\\\\breassures?\\\\b|\\\\bsatisfactorilys?\\\\b|\\\\bstrict adherences?\\\\b|\\\\bdisciplines?\\\\b|\\\\bifis?\\\\b|\\\\bpreconditions?\\\\b|\\\\bconditionals?\\\\b|\\\\bcontinuitys?\\\\b|\\\\bsuccessor arrangements?\\\\b|\\\\bassurance',\n",
       " 'Fintech/digital': 'artificial intelligences?\\\\b|\\\\bbig datas?\\\\b|\\\\bblockchains?\\\\b|\\\\binnovations?\\\\b|\\\\bcryptos?\\\\b|\\\\bmachine learnings?\\\\b|\\\\bmobile lendings?\\\\b|\\\\bmobile phones?\\\\b|\\\\bservice providers?\\\\b|\\\\bmobile bankings?\\\\b|\\\\binternets?\\\\b|\\\\bgateways?\\\\b|\\\\baadhaars?\\\\b|\\\\bmobile',\n",
       " 'Foreign Exchange intervention': 'fx interventions?\\\\b|\\\\bfxis?\\\\b|\\\\bdisorderly market conditions?\\\\b|\\\\bdmcs?\\\\b|\\\\bmarket dysfunctions?\\\\b|\\\\bfx saless?\\\\b|\\\\bexchange market interventions?\\\\b|\\\\bfx interventions?\\\\b|\\\\bintervenes?\\\\b|\\\\bexcessive volatilitys?\\\\b|\\\\bsmooth excessives?\\\\b|\\\\bsterilize interventions?\\\\b|\\\\bbous?\\\\b|\\\\bdiscretionary interventions?\\\\b|\\\\bsterilization operations?\\\\b|\\\\bway bets?\\\\b|\\\\bcbys?\\\\b|\\\\bcbrts?\\\\b|\\\\bnbkrs?\\\\b|\\\\bintervention',\n",
       " 'Governance': 'public financial managements?\\\\b|\\\\bpfms?\\\\b|\\\\banti money launderings?\\\\b|\\\\bamls?\\\\b|\\\\bcombating the financing of terrorisms?\\\\b|\\\\bcfts?\\\\b|\\\\bapgs?\\\\b|\\\\bcfatfs?\\\\b|\\\\blaunders?\\\\b|\\\\bsuspiciouss?\\\\b|\\\\boffences?\\\\b|\\\\bcriminalizes?\\\\b|\\\\boffenses?\\\\b|\\\\bterrorisms?\\\\b|\\\\blaunderings?\\\\b|\\\\bfatfs?\\\\b|\\\\bamls?\\\\b|\\\\bantis?\\\\b|\\\\bcfts?\\\\b|\\\\btfs?\\\\b|\\\\banti money launderings?\\\\b|\\\\bmoney launderings?\\\\b|\\\\bcbrs?\\\\b|\\\\bcombat corruptions?\\\\b|\\\\bfight corruptions?\\\\b|\\\\bgovernance',\n",
       " 'Housing': 'affordabilitys?\\\\b|\\\\bmortgages?\\\\b|\\\\bhouse pricess?\\\\b|\\\\bhouseholds?\\\\b|\\\\bhousings?\\\\b|\\\\breal estates?\\\\b|\\\\bpropertys?\\\\b|\\\\bhousing markets?\\\\b|\\\\bresidentials?\\\\b|\\\\bhousing prices?\\\\b|\\\\bdebt service to incomes?\\\\b|\\\\bltis?\\\\b|\\\\bcres?\\\\b|\\\\bownder occupieds?\\\\b|\\\\bloan to incomes?\\\\b|\\\\bltvs?\\\\b|\\\\bdslis?\\\\b|\\\\bamortizings?\\\\b|\\\\bprice to incomes?\\\\b|\\\\bprice to rents?\\\\b|\\\\binterest onlys?\\\\b|\\\\bltvss?\\\\b|\\\\bdtis?\\\\b|\\\\bdebt to incomes?\\\\b|\\\\bmortgage debts?\\\\b|\\\\bbuy to lets?\\\\b|\\\\baprtments?\\\\b|\\\\bloan to values?\\\\b|\\\\bhomeowners?\\\\b|\\\\bcmbcs?\\\\b|\\\\bhouse price growths?\\\\b|\\\\bhouse prices?\\\\b|\\\\breal estate relateds?\\\\b|\\\\btenants?\\\\b|\\\\bswellings?\\\\b|\\\\bhousehold debts?\\\\b|\\\\bresidentials?\\\\b|\\\\bresidential propertys?\\\\b|\\\\brentals?\\\\b|\\\\bdwellings?\\\\b|\\\\bhouse prices?\\\\b|\\\\baffordabilitys?\\\\b|\\\\bmortgages?\\\\b|\\\\bapartments?\\\\b|\\\\bowner occupys?\\\\b|\\\\bresidential constructions?\\\\b|\\\\bpropertys?\\\\b|\\\\bhousehold indebtednesss?\\\\b|\\\\bmortgage lendings?\\\\b|\\\\breal estates?\\\\b|\\\\bhome ownerships?\\\\b|\\\\brents?\\\\b|\\\\bhouseholds?\\\\b|\\\\boversupplys?\\\\b|\\\\bhousing',\n",
       " 'Macroprudential measures': 'mpms?\\\\b|\\\\bcfm mpms?\\\\b|\\\\bsystemic risks?\\\\b|\\\\bltvs?\\\\b|\\\\bdstis?\\\\b|\\\\brisk weightss?\\\\b|\\\\blcrs?\\\\b|\\\\bnsfrs?\\\\b|\\\\bcapital buffers?\\\\b|\\\\bloan loss provisionings?\\\\b|\\\\bfx borrowings?|\\\\bmacro prudentials?\\\\b|\\\\bmacroprudential tools?\\\\b|\\\\bmacroprudential toolkits?\\\\b|\\\\bmacroprudential instruments?\\\\b|\\\\bfpcs?\\\\b|\\\\bdynamic provisionings?\\\\b|\\\\bltvs?\\\\b|\\\\bfis?\\\\b|\\\\bprudentials?\\\\b|\\\\bdtis?\\\\b|\\\\bknfs?\\\\b|\\\\bfis?\\\\b|\\\\bmacroprudential',\n",
       " 'Multiple currency practice': 'mcps?\\\\b|\\\\barticle viiis?\\\\b|\\\\beffective rates?\\\\b|\\\\bpreferential rates?\\\\b|\\\\bparallels?\\\\b|\\\\bmcps?\\\\b|\\\\bparallel markets?\\\\b|\\\\bmultiple currency',\n",
       " 'Shadow banking': 'non bank credits?\\\\b|\\\\bcredit guarantees?\\\\b|\\\\bcontingent liabilitiess?\\\\b|\\\\bnon bankings?\\\\b|\\\\bcres?\\\\b|\\\\bregulatory perimeters?\\\\b|\\\\binstitution nbfiss?\\\\b|\\\\bnbfiss?\\\\b|\\\\bsfis?\\\\b|\\\\basset managers?\\\\b|\\\\bsecurity dealers?\\\\b|\\\\bindirect exposures?\\\\b|\\\\bshadow banking'}"
      ]
     },
     "execution_count": 4,
     "metadata": {},
     "output_type": "execute_result"
    }
   ],
   "source": [
    "hot_button_dict = pd.Series(hot_button_df['keyword list'].values,index=hot_button_df['Hot button issues']).to_dict()\n",
    "\n",
    "for k, v in hot_button_dict.items():\n",
    "    # regular expression, deal with multiples\n",
    "    ## 1. adding 's'\n",
    "    ## 2. separated from other characters\n",
    "    ## 3. take care of duplicated space\n",
    "    ## 4. replace underscore with space\n",
    "    hot_button_dict[k] = r's?\\b|\\b'.join(v.split(', ')).replace('\\\\b|\\\\bs?\\\\b','').replace('_',' ')    \n",
    "    #hot_button_dict[k] = v.replace(', ', r'(s)?(es)?\\b|\\b').replace(r'(s)?(es)?\\b|\\b(s)?(es)?\\b|\\b',r'|')\n",
    "\n",
    "hot_button_dict"
   ]
  },
  {
   "cell_type": "markdown",
   "metadata": {},
   "source": [
    "#### Load Text File and get search results"
   ]
  },
  {
   "cell_type": "code",
   "execution_count": 6,
   "metadata": {},
   "outputs": [
    {
     "data": {
      "text/plain": [
       "73"
      ]
     },
     "execution_count": 6,
     "metadata": {},
     "output_type": "execute_result"
    }
   ],
   "source": [
    "def search_wordlist_in_paragarph(wordlist, paragarph):\n",
    "    '''Check if a paragarph contains any word in list'''\n",
    "    result = re.findall(wordlist, paragarph)\n",
    "\n",
    "    return result\n",
    "\n",
    "def read_doc(f_path,word_length_filter=20):\n",
    "    '''load an clean document'''\n",
    "    if os.path.isfile(f_path):\n",
    "        doc = Document(f_path)\n",
    "        text_list = [p.text for p in doc.paragraphs if len(p.text)>10]#[3:]\n",
    "        text_list = [p.replace('\\xa0',' ') for p in text_list] # some clean up \n",
    "        text_list = [p.lower() for p in text_list if len(p.split()) > word_length_filter]\n",
    "    else:\n",
    "        raise Exception('File does not exist: {}'.format(f_path))\n",
    "\n",
    "    return text_list\n",
    "\n",
    "document = read_doc(text_file_path)\n",
    "\n",
    "## some replacement of \"-/_\" to space\n",
    "document = list(map(lambda x: re.sub(r'—|-|_',' ',x), document))\n",
    "len(document)"
   ]
  },
  {
   "cell_type": "code",
   "execution_count": 7,
   "metadata": {
    "scrolled": true
   },
   "outputs": [
    {
     "name": "stdout",
     "output_type": "stream",
     "text": [
      "{'Capital flow management measures': {'cfms', 'capital flow measures'}, 'Exchange restrictions': {'transactions', 'fx', 'exchange'}, 'Multiple currency practice': None, 'Corruption': {'transparency'}, 'Governance': None, 'Fintech/digital': None, 'Macroprudential measures': {'macroprudential', 'macroprudential tools'}, 'Housing': {'households', 'real estate', 'property', 'household', 'mortgage'}, 'Demographic': {'pension', 'population', 'working age', 'productivity', 'demographic', 'pensions', 'insurance'}, 'Shadow banking': {'contingent liabilities'}, 'Competition policy': None, 'Foreign Exchange intervention': {'intervention', 'fx intervention'}, 'Belt and road': None, 'Arrears': {'repayment'}, 'Debt restructuring': None, 'Financing assurances': None}\n",
      "--- 0.5279061794281006 seconds ---\n"
     ]
    }
   ],
   "source": [
    "result = dict()\n",
    "\n",
    "for k, v in hot_button_dict.items():\n",
    "    # iterate over each topic\n",
    "    found_list = list(map(lambda x: search_wordlist_in_paragarph(v, x), document))\n",
    "    found_word = [y for x in found_list for y in x if x !=[]]\n",
    "    if len(found_word) == 0:\n",
    "        result[k] = None\n",
    "    else:\n",
    "        result[k] = set(list(map(lambda x: x.strip(' '),found_word)))\n",
    "\n",
    "print(result)\n",
    "\n",
    "print(\"--- %s seconds ---\" % (time.time() - start_time))"
   ]
  },
  {
   "cell_type": "code",
   "execution_count": 5,
   "metadata": {
    "collapsed": true
   },
   "outputs": [],
   "source": [
    "# # Save and load for reuse in production\n",
    "\n",
    "# import pickle\n",
    "\n",
    "# pickle.dump(hot_button_dict, open(save_file,'wb'))\n",
    "\n",
    "# hot_button_dict = pickle.load(open(save_file, 'rb'))"
   ]
  },
  {
   "cell_type": "code",
   "execution_count": 8,
   "metadata": {},
   "outputs": [
    {
     "data": {
      "text/plain": [
       "['it is good', 'bad apple']"
      ]
     },
     "execution_count": 8,
     "metadata": {},
     "output_type": "execute_result"
    }
   ],
   "source": [
    "# test example\n",
    "list(map(lambda x: x.strip(' '), ['it is good ',' bad apple']))"
   ]
  },
  {
   "cell_type": "code",
   "execution_count": 9,
   "metadata": {},
   "outputs": [
    {
     "data": {
      "text/plain": [
       "['gr ']"
      ]
     },
     "execution_count": 9,
     "metadata": {},
     "output_type": "execute_result"
    }
   ],
   "source": [
    "re.findall('[\\b]*gr[\\s.,]', r'It''s great gr .')"
   ]
  }
 ],
 "metadata": {
  "kernelspec": {
   "display_name": "Python 3",
   "language": "python",
   "name": "python3"
  },
  "language_info": {
   "codemirror_mode": {
    "name": "ipython",
    "version": 3
   },
   "file_extension": ".py",
   "mimetype": "text/x-python",
   "name": "python",
   "nbconvert_exporter": "python",
   "pygments_lexer": "ipython3",
   "version": "3.6.8"
  }
 },
 "nbformat": 4,
 "nbformat_minor": 2
}
