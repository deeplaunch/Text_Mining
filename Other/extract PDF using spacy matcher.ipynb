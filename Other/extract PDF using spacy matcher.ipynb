{
 "cells": [
  {
   "cell_type": "markdown",
   "metadata": {},
   "source": [
    "### This file searches for keywords among pdf files and return the surrounding sentences around it\n",
    "#### ***implemented using spacy***"
   ]
  },
  {
   "cell_type": "code",
   "execution_count": 1,
   "metadata": {},
   "outputs": [],
   "source": [
    "import pandas as pd\n",
    "import numpy as np\n",
    "import os\n",
    "import io\n",
    "\n",
    "from pdfminer.converter import TextConverter\n",
    "from pdfminer.pdfinterp import PDFPageInterpreter\n",
    "from pdfminer.pdfinterp import PDFResourceManager\n",
    "from pdfminer.pdfpage import PDFPage\n",
    "\n",
    "import spacy"
   ]
  },
  {
   "cell_type": "markdown",
   "metadata": {},
   "source": [
    "#### load search word and documents as list"
   ]
  },
  {
   "cell_type": "code",
   "execution_count": 3,
   "metadata": {},
   "outputs": [],
   "source": [
    "searchList = ['FinTech','TechFin','digital','technology','Blockchain',\n",
    "              'distributed','Bitcoin','ICO','cryptocurrency','mobile','online',\n",
    "              'cyber','InsurTech','RegTech','micro']\n",
    "\n",
    "searchList = [x.lower() for x in searchList]"
   ]
  },
  {
   "cell_type": "code",
   "execution_count": 5,
   "metadata": {},
   "outputs": [
    {
     "name": "stdout",
     "output_type": "stream",
     "text": [
      "27\n"
     ]
    }
   ],
   "source": [
    "input_folder = r'U:\\\\My Documents\\\\Python\\\\Text Mining\\\\_archive\\PDF Extraction\\files'\n",
    "\n",
    "file_name = os.listdir(input_folder)\n",
    "file_path = [os.path.join(input_folder, x) for x in file_name]\n",
    "\n",
    "def extract_text_from_pdf(pdf_path):\n",
    "    resource_manager = PDFResourceManager()\n",
    "    fake_file_handle = io.StringIO()\n",
    "    converter = TextConverter(resource_manager, fake_file_handle)\n",
    "    page_interpreter = PDFPageInterpreter(resource_manager, converter)\n",
    " \n",
    "    with open(pdf_path, 'rb') as fh:\n",
    "        for page in PDFPage.get_pages(fh, \n",
    "                                      caching=True,\n",
    "                                      check_extractable=True):\n",
    "            page_interpreter.process_page(page)\n",
    " \n",
    "        text = fake_file_handle.getvalue()\n",
    " \n",
    "    # close open handles\n",
    "    converter.close()\n",
    "    fake_file_handle.close()\n",
    " \n",
    "    if text:\n",
    "        return text\n",
    "\n",
    "if __name__ == '__main__':\n",
    "    doc_list = list(map(lambda x: extract_text_from_pdf(x), file_path))\n",
    "    print(len(doc_list)) #     print(extract_text_from_pdf(file_path[0]))"
   ]
  },
  {
   "cell_type": "code",
   "execution_count": 6,
   "metadata": {},
   "outputs": [
    {
     "name": "stdout",
     "output_type": "stream",
     "text": [
      "['parser', 'ner']\n"
     ]
    }
   ],
   "source": [
    "# !python -m spacy download en_core_web_sm (not working on server. Instead, manually download and then use pip install)\n",
    "\n",
    "# from spacy.lang.en import English\n",
    "# nlp = English()\n",
    "# load document with spacy small model using spacy.pipe\n",
    "\n",
    "nlp = spacy.load('en_core_web_md', disable = ['tagger'])\n",
    "print(nlp.pipe_names)\n",
    "\n",
    "#nlp.add_pipe(nlp.create_pipe('sentencizer'))\n",
    "new_doc_list = list(nlp.pipe(doc_list))"
   ]
  },
  {
   "cell_type": "code",
   "execution_count": 7,
   "metadata": {},
   "outputs": [
    {
     "data": {
      "text/plain": [
       "[['Gradual opening of the financial sector to foreign investors could improve services and transfer technology and know how.',\n",
       "  'Also, gradual entry of global banks into Ethiopia would facilitate transmission of know-how and technology and help address CBR losses.',\n",
       "  'A gradual process of opening the financial sector to foreign participation would improve financial services availability while increasing FDI and encouraging transmission of technology and know-how.',\n",
       "  'Fuel and commodity exporters as well as small and micro-states were excluded from the sample.',\n",
       "  'The near-term export outlook reflects the positive impact of earlier infrastructure investments including the Hawassa Industrial Park, the new railway line to Djibouti, and hydropower facilities and electricity transmission lines that have come online.'],\n",
       " ['In addition, legislation regulating and widening the range of activities of micro-financial institutions (MFIs) is currently before parliament, and the CBK is working on regulation allowing for the creation of investment funds.',\n",
       "  '• Debt enforcement is too widely distributed across all regional offices, and the effectiveness of collections varies and is prone to collusion with taxpayers, especially when debt notices are hand-delivered by the inspectors processing the debt case.',\n",
       "  'Both cross-country and micro-level analysis suggest negative effects of relatively high public sector wages on employment, while in Kosovo inactivity and unemployment are positively correlated with household income from social benefits and remittances.   '],\n",
       " ['Bank credit is expected to grow by around 20 percent in 2018, with micro-finance institution (MFI) credit expanding at an even higher rate, resulting in a credit-to-GDP gap that is conservatively estimated at close to 10 percentage points.',\n",
       "  'Eliminate the patent tax, remove notches in the business tax scale between small and medium-sized enterprises, and implement a simplified tax on micro firms.',\n",
       "  'The use of financial technology has grown rapidly and is centered around mobile payments driven by demand for low-cost payment services, particularly in rural areas (Box 5).',\n",
       "  'The use of financial technology has grown rapidly and is centered around mobile payments driven by demand for low-cost payment services, particularly in rural areas (Box 5).',\n",
       "  'The rapid growth of financial technology 010002000300040005000600070008000900010000KHMIDNMYSMMRPHLCambodia:',\n",
       "  'Increased use of financial technology, further developing financial infrastructure and improving financial literacy can help expand inclusion.',\n",
       "  'The increasing use of financial technology requires regulation and supervision to carefully balance financial innovation and financial stability.',\n",
       "  'Broadening access to low-cost credit warrants policies to reduce funding and operational costs, including through development of inter-bank markets and promoting the use of financial technology, and to improve financial literacy and consumer protection.  ',\n",
       "  'Fintech has encouraged financial inclusion by making financial services more accessible, primarily through an expansion of mobile payment services.',\n",
       "  'FinTech in Cambodia is centered around mobile payments.',\n",
       "  'Expanding mobile money services beyond payments to savings and other financial services (including insurance) would further enhance financial inclusion.',\n",
       "  'Strong regulation of mobile banking is needed to ensure the nascent industry follows best international practice.',\n",
       "  'The authorities have developed regulations governing the licensing of mobile payment services providers and should continue to strengthen the legal framework, and fully adopt e-KYC and e-commerce consumer protection policies.  ',\n",
       "  'Increase reserve requirements to slow down credit growth, implement macro prudential measures, strengthen micro-prudential regulation and supervision, ensure adequate emergency liquidity, strengthen supervision and regulation for MFIs.',\n",
       "  'Other training occurs in the context of TA and through participation in online courses. \\x0c',\n",
       "  'In September 2018, a TA from IMF CDOT developed a new compilation file for inward FDI, simplifying the work process and streamlining the compilation for inward FDI of banks, micro-finance institutions, and nonfinancial corporations.',\n",
       "  'The NCB is also exploring the use of financial technology, such as mobile payments, in providing low-cost payment services.  ',\n",
       "  'The NCB is also exploring the use of financial technology, such as mobile payments, in providing low-cost payment services.  '],\n",
       " ['They encouraged further reforms, including moving to digital                                                            2',\n",
       "  'After consulting with the authorities, survey respondents, and the World Bank, staff identified a number of priority reforms that should be easier to implement, including: (i) changing regulations and digital processes to enable the filing of taxes and all payments online, and possibly reducing the frequency of tax payments (VAT, social security contributions, the transaction tax) in some instances; (ii) allowing broader VAT refunds; and (iii) modernizing the technology and methods used to obtain a business license, get a company deed, and register employees with the national health insurance/pension system.',\n",
       "  'After consulting with the authorities, survey respondents, and the World Bank, staff identified a number of priority reforms that should be easier to implement, including: (i) changing regulations and digital processes to enable the filing of taxes and all payments online, and possibly reducing the frequency of tax payments (VAT, social security contributions, the transaction tax) in some instances; (ii) allowing broader VAT refunds; and (iii) modernizing the technology and methods used to obtain a business license, get a company deed, and register employees with the national health insurance/pension system.',\n",
       "  'After consulting with the authorities, survey respondents, and the World Bank, staff identified a number of priority reforms that should be easier to implement, including: (i) changing regulations and digital processes to enable the filing of taxes and all payments online, and possibly reducing the frequency of tax payments (VAT, social security contributions, the transaction tax) in some instances; (ii) allowing broader VAT refunds; and (iii) modernizing the technology and methods used to obtain a business license, get a company deed, and register employees with the national health insurance/pension system.',\n",
       "  'In line with the Framework for Enhanced Fund Engagement on governance, staff identified a number of areas warranting attention (see Annex IV).10 Priorities could focus on moving toward digital methods for tax and business-related procedures (¶34), improving the legislative framework governing SOEs and SOE oversight, strengthening the planning and implementation of public investment, including with a full PIMA assessment, submitting financial statements of public entities to independent auditors, and eliminating manual procedures on the Treasury Single Account.',\n",
       "  'Third, the authorities should consider reducing the government’s take in the hydrocarbon and mineral sectors in a transparent manner that avoids introducing discretionary tax incentives, canceling the Social Companies Law, and implementing measures to improve the business climate and reduce \\x0c BOLIVIA INTERNATIONAL MONETARY FUND 25 vulnerabilities that could enable corruption, including implementing digital processes to enable the filing of taxes and payments online (VAT, social security contributions, transaction tax)  and moving toward digital methods for business-related procedures.  ',\n",
       "  'Third, the authorities should consider reducing the government’s take in the hydrocarbon and mineral sectors in a transparent manner that avoids introducing discretionary tax incentives, canceling the Social Companies Law, and implementing measures to improve the business climate and reduce \\x0c BOLIVIA INTERNATIONAL MONETARY FUND 25 vulnerabilities that could enable corruption, including implementing digital processes to enable the filing of taxes and payments online (VAT, social security contributions, transaction tax)  and moving toward digital methods for business-related procedures.  ',\n",
       "  'Third, the authorities should consider reducing the government’s take in the hydrocarbon and mineral sectors in a transparent manner that avoids introducing discretionary tax incentives, canceling the Social Companies Law, and implementing measures to improve the business climate and reduce \\x0c BOLIVIA INTERNATIONAL MONETARY FUND 25 vulnerabilities that could enable corruption, including implementing digital processes to enable the filing of taxes and payments online (VAT, social security contributions, transaction tax)  and moving toward digital methods for business-related procedures.  ',\n",
       "  'As discussed in the Selected Issues Paper on Doing Business, strengthening the regulatory environment for private investment and moving to online payments and processes will be critical for reducing both the supply and demand for corruption, facilitating private investment and business activity, and attracting activity into the formal sector.  ',\n",
       "  'In line with findings on the Doing Business report, staff propose the following reforms to strengthen governance in the government’s interaction with private business: (i) move to full online filing and tax payments (including for VAT, social security contributions, the transaction tax) and possibly reduce the frequency of payments in some instances; and (ii) make improvements in IT (automation, web based, digital applications) to reduce the interactions needed to obtain a business license from the municipality, get a company deed, obtain construction permits, and other administrative services.',\n",
       "  'In line with findings on the Doing Business report, staff propose the following reforms to strengthen governance in the government’s interaction with private business: (i) move to full online filing and tax payments (including for VAT, social security contributions, the transaction tax) and possibly reduce the frequency of payments in some instances; and (ii) make improvements in IT (automation, web based, digital applications) to reduce the interactions needed to obtain a business license from the municipality, get a company deed, obtain construction permits, and other administrative services.'],\n",
       " ['Households generally own few productive assets (hoes, bike, carts, ploughs, etc.,) or household items (e.g., furniture, radio, mobile phone, television, etc.,).',\n",
       "  'There are some delays, however, onimplementing recommendations regarding internal controls and anti-money launderingincluding the identification of mobile banking users and the update of IT system by banks.',\n",
       "  'They highlighted that work is underway to builda new headquarters for the tax administration which will help modernize outdated informationtechnology and expressed strong interest in adopting new technology to facilitate revenuecollection and tax payments.',\n",
       "  'To this end, we intend to promote the use of mobile banking services, which could help to compensate the absence of banking service branches in provinces.',\n",
       "  'To expand financial services across the country and accelerate financial inclusion, they will rely on financial technologies, most notably mobile banking.'],\n",
       " ['FINLAND INTERNATIONAL MONETARY FUND 11 challenge arises from non-bank lending, including online platforms such as peer-to-peer lending, which is not being recorded in credit statistics and registers (section B and Box 1).  ',\n",
       "  '• The growing reliance on consumer credit, especially that provided by non-banks and via digital platforms, raises additional concerns.',\n",
       "  'Additional consumer protection measures are needed and require more data collection, especially on consumer lending provided through digital platforms.',\n",
       "  'Fintech” is an appellation for a broad and fluid set of technology-enabled innovations in finance.',\n",
       "  'While much attention has been given recently to the implications for regulation of increased operational risks (e.g. from changes to payments systems and from cyber risks),1 there are important implications from new developments in consumer lending.',\n",
       "  'According to survey data, the online market has almost quintupled in size between 2014 and 2017 and is now the fifth largest market for digital finance in Europe after the UK, France, Germany and the Netherlands in terms of lending volumes.2  ',\n",
       "  'According to survey data, the online market has almost quintupled in size between 2014 and 2017 and is now the fifth largest market for digital finance in Europe after the UK, France, Germany and the Netherlands in terms of lending volumes.2  ',\n",
       "  'Moreover, digitalization and technology are expected to yield efficiency gains when effectively and systematically implemented in the counties.'],\n",
       " ['The proposed fintech legislation awaits initial discussion at committee level.'],\n",
       " ['They also agree that better monitoring of contingent risks from SOEs is crucial and are expanding data                                                    4 Tax expenditures are extensive and distributed across all major taxes.',\n",
       "  'To further promote the development of the ICT sector, a Presidential Decree on digital economy development was adopted in December 2017.'],\n",
       " ['The freezing of salary increases would be more difficult given the perception that base salaries are low and allowances not equitably distributed.',\n",
       "  'It emphasizes mobile banking, microfinance, and the reduction of administrative barriers.',\n",
       "  'The authorities are committed to making this available in an online consultable form in early 2019 (MEFP ¶93).',\n",
       "  'Under the program, tax and customs administration reforms will focus on expanding use of online tax filing and payments, further strengthen tax compliance and audit capacities, and modernize collection procedures.',\n",
       "  'In the area of employment, the investments concerned the implementation of the Youth Employment for National Education Program (PEJEN), with the hiring of 2100 young university graduates now under way, and the financing of 49 projects and micro-projects for “downsized” and retired workers.',\n",
       "  'approval, by the ministry in charge of finance, SONAPOST, and the ministry in charge of the digital economy, of a plan for SONAPOST’s repayment of Treasury assets held in postal accounts.',\n",
       "  'The measures in question are: (i) revision of national accounting systems with the new base year and publication of revised series, (ii) incorporation of the results of the study on artisanal gold mining in the national accounting system, (iii) the development and adoption of a mechanism for operation of the Treasury single account, and (iv) the automation of asset reporting by persons subject to the provisions of Law 04/CNT/2018 and implementation of a searchable database (online reporting and online query).',\n",
       "  'The measures in question are: (i) revision of national accounting systems with the new base year and publication of revised series, (ii) incorporation of the results of the study on artisanal gold mining in the national accounting system, (iii) the development and adoption of a mechanism for operation of the Treasury single account, and (iv) the automation of asset reporting by persons subject to the provisions of Law 04/CNT/2018 and implementation of a searchable database (online reporting and online query).',\n",
       "  'The measures include: \\x0cBURKINA FASO INTERNATIONAL MONETARY FUND 63 • expanding the scope of application of the tax on capital gains from the transfer of mining permits; • bringing the drinks sector into the general tax system through the revocation of exemptions granted to taxpayers previously subject to the Beverage Sector Contribution (CSB); • instituting a tax on heavy duty vehicles; • increasing the tax rate on arms; • increasing the tax on airline tickets; • increasing the rate of the specific tax on perfume and cosmetic products; • broadening the scope for licenses for drinking establishments; • eliminating the system of flat taxes on beverage sector activities and applying generally applicable tax laws to the sector, with the institution of a 5 percent estimated income tax; • increasing the tax rate for nonalcoholic beverages from 10 percent to 15 percent; • increasing the tax rate for biodegradable and authorized non-biodegradable plastic wrapping and bags; • increasing receipts from the property tax on improved and unimproved properties (TF B/NB), the residence tax, and the microenterprise contribution through the use of data from the general census of Ouagadougou and Bobo-Dioulasso taxpayers; • the anticipated proceeds of the campaign to collect tax arrears; • enhancing off-site surveillance through implementation of the ASYCUDA value module; • ongoing offsite surveillance of merchandise valuation by the Valuation Control Unit; • pursuing outsourcing of the valuation of used vehicles less than 10 years old and heavy machinery to the Motor Vehicle Control Center (CCVA), and reducing the allowance from 50 percent to 25 percent of the value; • continuing efforts to interconnect the Burkinabè customs IT systems with those of Togo pending receipt of data on all merchandise exported to Burkina Faso; • interconnecting the Burkinabè customs IT systems with those of Côte d’Ivoire to manage merchandise flows into Burkina Faso; • dividing the Bobo international customs bureau into three bureaus (roads, railway, and hydrocarbons), introducing specialization in order to better control merchandise flows; and • automating revenue management in customs offices and mobile brigades not connected to the ASYCUDA system.',\n",
       "  'We also intend to strengthen revenue administration by monitoring procedures for taxpayers who do not file declarations, in particular through enhanced cooperation between the DGD and the DGI; the launch of an effort to evaluate tax arrears and develop a strategy to collect non-contested debts and write off unrecoverable debts; institute targeted audits for specific issues; conduct a study on the taxation of small businesses and microenterprises (structural benchmark), reform the taxation of the informal sector; and increase online declarations and payments.',\n",
       "  'Law No. 004-2015/CNT of March 3, 2015 and implement a searchable database (online reporting, online query for the officials designated by the law)',\n",
       "  'Law No. 004-2015/CNT of March 3, 2015 and implement a searchable database (online reporting, online query for the officials designated by the law)',\n",
       "  'progressProceed with the dematerialization of asset declarations of government officials and those covered by the law, by instituting online submisisons, and create a searchable databaseImprove governance and improve the fight against corruptionDecember,',\n",
       "  '(i) the price structure for the month concerned;; (ii) detailed calculation of the price structure, from the fob-MED price to the retail price; (iii) volumes purchased and distributed for consumption by the petroleum distributor (SONABHY); with a distinction made between retail and industry sales; and (iv) a breakdown of tax revenue from petroleum products — customs duties, tax on petroleum products (TPP) and value-added tax (VAT) — and subsidies unpaid SONABHY/ DGTCP Monthly  4 weeks',\n",
       "  'The strategy will promote microfinance and capitalize on the expansion of the mobile technology to make further strides in this area.',\n",
       "  'The strategy will promote microfinance and capitalize on the expansion of the mobile technology to make further strides in this area.'],\n",
       " ['access)KiribatiPacific island countries averageKiribati has an Infrastructure GapNote: 2015 data except for access to electricity (2014) and mobile cellular subscriptions (2016).Sources: World Bank, World Development Indicators.\\x0c',\n",
       "  'Building \\x0cKIRIBATI 10 INTERNATIONAL MONETARY FUND on the donor-funded investment in ICT infrastructure, mobile connectivity and mobile banking should be promoted more, as experience in the region has demonstrated their job-creation and financial-deepening benefits.',\n",
       "  'Building \\x0cKIRIBATI 10 INTERNATIONAL MONETARY FUND on the donor-funded investment in ICT infrastructure, mobile connectivity and mobile banking should be promoted more, as experience in the region has demonstrated their job-creation and financial-deepening benefits.',\n",
       "  '• Enforcement of sustainable fishing practices benefit all in the long run, but costs can sometimes be distributed unevenly, or there may be incentives to deviate from the collaborative equilibrium if short-run rewards—in the form of temporarily higher catch volumes—for doing so are high.  ',\n",
       "  'Infrastructure needs \\x0c2 are high – less than half the population has access to improved sanitation or electricity, or mobile phone and internet access.  '],\n",
       " ['Plans to develop the bond market and further promote innovation and technology are steps in the right direction.',\n",
       "  'The authorities’ have taken a number of steps to address these challenges including efforts to increase housing supply and provide public housing to a large part of the population, and boosted spending on health and social welfare to increase inclusion, as well as maintaining robust financial regulation and supervision including for fintech.    ',\n",
       "  'Continued efforts to support healthy development of the fintech sector will be key to bolster Hong Kong SAR’s standing as a regional financial center.',\n",
       "  'The Faster Payment System, allowing the use of emails and mobile phones for payments in Hong Kong dollars and RMB across 21 banks and ten e-wallets, was launched in September 2018 and supports instant, multi-currency payments on a 24/7 basis.  ',\n",
       "  'A distributed ledger technology-based trade finance platform –',\n",
       "  'A distributed ledger technology-based trade finance platform –',\n",
       "  '• On other expenditure, the authorities should carefully consider spending plans on technology and other industries to ensure that there is adequate demand for planned facilities and services that could not be met by private sector initiatives.',\n",
       "  'The authorities also highlighted that they viewed increased spending on education and innovation and technology as investment to secure future growth in Hong Kong SAR.',\n",
       "  'Given the development of Shenzhen and other cities in Southern China into a new technology cluster, with leading firms and significant human resources located there, greater integration could bring significant economic opportunities.',\n",
       "  'Plans to develop the bond market and further promote innovation and technology are steps in the right direction.',\n",
       "  'Meanwhile, Hong Kong SAR companies can utilize the research capacity in Shenzhen, which is Mainland China’s technology hub, to upgrade its fintech industry and other innovation capabilities.  ',\n",
       "  'Meanwhile, Hong Kong SAR companies can utilize the research capacity in Shenzhen, which is Mainland China’s technology hub, to upgrade its fintech industry and other innovation capabilities.  ',\n",
       "  'Residents of Hong Kong and Macau SARs can apply for resident cards in Mainland China with greater ease, thus facilitating their access to online services in the GBA and other parts of Mainland China.',\n",
       "  'Pilot use of Hong Kong e-wallets in Mainland started in October, facilitating cross-border mobile payments in the Area.',\n",
       "  'The SFC launched a new risk data strategy which aims to use technology to enhance daily operations, including processes ranging from regulatory risk identification to intermediary monitoring and market surveillance, and to broaden understanding of the latest trends in the markets.',\n",
       "  'The authorities should carefully balance the tradeoff between greater efficiency and maintaining stability in the face of rapid developments in fintech.  '],\n",
       " ['Curaçao officially licensed the first casino operating on a cryptocurrency platform in 2017.',\n",
       "  'The first cryptocurrency investment fund was approved for listing on the Dutch Caribbean Securities Exchange in February 2018, and bitcoins are being accepted at a local supermarket.',\n",
       "  'In August 2018, the CBCS signed a Memorandum of Understanding with a Barbados-based Fintech company to explore the feasibility of the CBCS issuing a digital currency, to facilitate digital financial payments within the monetary union.',\n",
       "  'In August 2018, the CBCS signed a Memorandum of Understanding with a Barbados-based Fintech company to explore the feasibility of the CBCS issuing a digital currency, to facilitate digital financial payments within the monetary union.',\n",
       "  'The risk of cyber-attacks on public and other agencies is elevated due to weak IT systems and capacity.                                                    ',\n",
       "  'CURAÇAO AND SINT MAARTEN 18 INTERNATIONAL MONETARY FUND technology-driven financial products and services,',\n",
       "  'LowMediumWeak IT systems and capacity make public and other agencies vulnerable to cyber attacks.'],\n",
       " ['Studies show that informality is a significant obstacle to doing business in FYR Macedonia perpetuated by tax evasion, low tax morale, uneven enforcement of business regulations, and the dominance of micro 051015202530354015-2425-3435-4445-5455-64Age groupTotal1-3 years>= 4',\n",
       "  '6/0.066/ Reflects cost of upgrading registration of job seekers; broadening outreach to employers; and developing an online job portal.4/',\n",
       "  'To slow the emigration of skilled labor, they intend to diversify away from labor-intensive industries and attract foreign investments in higher value-added industries that could generate jobs for the tertiary educated and facilitate technology transfer.'],\n",
       " ['Policies to address gender and inequality issues will contribute to poverty reduction and well-distributed growth.  ',\n",
       "  'Policies to address gender and inequality issues would contribute to poverty reduction and well-distributed growth.',\n",
       "  'Specific care is needed for institutions that do not fall under the WAEMU banking regulations (e.g. DER activities) and non-traditional banking instruments (e.g. microfinance institutions or mobile banking).',\n",
       "  'Two prior actions were met and two of the six structural benchmarks for the PSI seventh review were missed due to: (i) delays in the operationalization of the payment of taxes via mobile phones; and (ii) limited progress in implementing the action plan for reducing tax expenditures.',\n",
       "  'Policies to address gender and inequality issues would contribute to poverty reduction and well-distributed growth.',\n",
       "  'A further widening of the external deficit is projected through 2021 due to the high import content of pre-production investment in the oil and gas sector, but this will be followed by a sharp reversal as production and export of hydrocarbons come online in 2022.',\n",
       "  'There are 36 registered microfinance institutions (MFIs), with assets totaling 3.3 percent of GDP at end-2017, while mobile money products are growing fast as well (see Figure II.1).',\n",
       "  '05010015020025030020072008200920102011201220132014201520162017Active mobile money accountsDepositors with MFIsDepositors with commercial banksFigure II.1.',\n",
       "  'Specific care is needed for institutions that do not fall under the WAEMU banking regulation (e.g. DER activities—see Box II.1) and non-traditional banking instruments (e.g. microfinance institutions or mobile banking).',\n",
       "  'The share of adults with an account with a financial institution increased significantly from 6 percent in 2011, to reach 42 percent in 2017.3 About5.2 million mobile money accounts were open as of December 2017, compared to about 1.6 million open bank accounts.',\n",
       "  'Thirty-two percent of adults had a mobile money account in 2017, compared to 6 percent in 2014.4However, large gender, geographic and income disparities remain.',\n",
       "  'Hackaton meeting: trying to identify projects with new technology to help improve Tax and PFM functions Apr. 2017',\n",
       "  'The operationalization of payment of taxes through mobile banking by taxpayers which do not have access to internet is advancing with the approval of budgetary resources by the Ministry of Finance.',\n",
       "  'Special economic zones have been established to increase economic opportunities for the private sector which is relied upon for increasing investments in priority sectors such as agriculture, horticulture, agrobusiness, infrastructure, oil, gas and mining, digital economy, tourism and finance.  '],\n",
       " ['Improvements have been made in compliance-risk management, and information technology systems, with Fund assistance.'],\n",
       " ['Beyond bank finance, fostering the development of domestic capital markets and a coordinated approach between on-shore and off-shore regulators in the fintech area would broaden SME sources of capital, while mitigating financial risks.',\n",
       "  'A regulation on crowd-funding is nearly completed and a strategy aimed to support the financing of the UAE’s micro, small and medium-sized (SME) business (including regulations) in coordination with other UAE authorities was further developed in 2018.',\n",
       "  'In 2019 the CBU plans to commence further work on regulations relating to payments and fintech.',\n",
       "  'The UAE has been successfully nurturing fintech companies in its free financial zones in Abu Dhabi and Dubai (ADGM and DIFC, respectively).',\n",
       "  'Improving conditions for SMEs, including by strengthening the legal framework and reducing the cost of doing business, would allow fintech companies to increase their presence onshore.',\n",
       "  'Given the UAE’s decentralized structure, a coordinated approach between on-shore and off-shore regulators in the fintech area could help to maximize its gains for SMEs without compromising safety and stability of the financial system.  \\x0c ',\n",
       "  'At the sub-national Emirate level, the World Bank has provided assistance to Abu Dhabi, Dubai, Sharjah and Ajman in various domains including the regulatory environment for private sector development, mobile savings and retirement options for expatriate workers, Doing Business, and institutional strengthening.',\n",
       "  'Over the past few years, the UAE has taken the lead in adopting digital solutions.'],\n",
       " ['In the absence of related legislation, the FIC has not yet granted a bank license to cryptocurrency operators.',\n",
       "  'In light of this, staff encouraged the authorities to fully implement the FATF recommendations (including the revised Recommendation 15 regarding new technologies) and urged the authorities to take a cautious approach to any additional cryptocurrency-related plans, as these could also put Palau’s banking relationships with foreign banks under pressure.',\n",
       "  'They noted that the introduction of a new secure online transactions registry had only a limited impact on FDIC banks’ lending, as the take-up rate had been low.',\n",
       "  'The authorities also urged the IMF to be proactive in assisting small states with regulations for cryptocurrency and blockchain technology.   ',\n",
       "  'The authorities also urged the IMF to be proactive in assisting small states with regulations for cryptocurrency and blockchain technology.   ',\n",
       "  'The authorities also urged the IMF to be proactive in assisting small states with regulations for cryptocurrency and blockchain technology.   ',\n",
       "  'While several cryptocurrency investors have approached Palau, the authorities recognize the risks and uncertainties around cryptocurrencies and do not plan to entertain any proposals.',\n",
       "  'The authorities have asked the IMF and other international institutions to be proactive in their outreach and to raise awareness of the potential risks and benefits of blockchain technology more generally.  ',\n",
       "  'The authorities have asked the IMF and other international institutions to be proactive in their outreach and to raise awareness of the potential risks and benefits of blockchain technology more generally.  '],\n",
       " ['Changes to the system of vocational training (including greater coordination with enterprises) and incentives for innovation and R&D aim to ensure appropriate skills and technologies to support a digital-based economy.',\n",
       "  'The scheme will be rolled-out in stages, beginning in July 2019 with large firms (250+ employees), those with 50–250 employees (January 2020), 20–50 employees (July 2020), and micro-firms and government entities (January 2021).   '],\n",
       " [],\n",
       " [],\n",
       " ['However, there is inconsistency between macro- and micro-level data.',\n",
       "  'Scaling up investment in the digital economy and programs to support lifelong learning would improve SMEs’ adaptation to new market conditions and reduce their business costs.',\n",
       "  'Development of financial technology and cryptocurrencies poses new challenges as it creates new opportunities for criminals to launder their proceeds and terrorists to finance their activities.',\n",
       "  'Further investment in the digital economy and programs to support lifelong learning would also help SMEs adapt to new market conditions and reduce their costs.'],\n",
       " [],\n",
       " [],\n",
       " ['Capacity issues at subnational levels should be addressed through training, standardization, and the use of technology.',\n",
       "  'The amendments to the foreign investment and technology transfer act (FITTA) should clarify and simplify foreign investment policies, including introducing a single window to facilitate firm regulatory compliance and streamlining regulations surrounding investment approvals and profit repatriation.  •',\n",
       "  'Substantial generation capacity is expected to come online in the next two fiscal years, boosted by some large and many smaller hydropower projects.',\n",
       "  '4/ External M ST M – H Safeguards monitoring report (2018) identified significant vulnerability to cyber risks at the NRB, due to weak IT infrastructure and practices.  ',\n",
       "  'Various additional refunds and exemptions for VAT previously allowed have been abolished, including the VAT rebate facility on imports of mobile phones, oil and ghee.',\n",
       "  'Currently, only large taxpayers are connected to the system and able to file and pay taxes online.',\n",
       "  'On the financial inclusion front, Nepal Rastra Bank (NRB) has launched the Financial Inclusion Action Plan and introduced various directives and guidelines to the micro finance institutions working in the rural areas.',\n",
       "  'Substantial progress has been made by the bank in financial inclusion complimented by mobile banking, internet banking.'],\n",
       " ['Since the population is ageing rapidly, economic growth will increasingly depend on productivity growth and the higher levels of supportive skills, notably information technology specialists, scientists, and engineers.',\n",
       "  'Together with new technology training, entrepreneurship skills should help workers adapt to and succeed in the digital economy and fast-changing technological world.',\n",
       "  'Together with new technology training, entrepreneurship skills should help workers adapt to and succeed in the digital economy and fast-changing technological world.'],\n",
       " ['Under the reform, from FY2021/22, GST will no longer be distributed to equalize all states’ fiscal capacity to that of the state with the strongest fiscal capacity but will transition over six years to equalizing to the fiscal capacity of the stronger of \\x0cAUSTRALIA  24 INTERNATIONAL MONETARY FUND either New South Wales or Victoria.'],\n",
       " ['• Continue efforts to increase cyber-security.',\n",
       "  'The authorities are trying to boost financial inclusion, including by leveraging advances in financial sector technology (Fintech).',\n",
       "  'Since the introduction of the Law, low-income households and small and micro enterprises have access to free bank accounts and debit cards.  ',\n",
       "  'E-peso is a legal tender digital currency issued by the central bank.',\n",
       "  'It is an electronic money and does not use distributed ledger technology.',\n",
       "  'It is an electronic money and does not use distributed ledger technology.',\n",
       "  'The pilot program was used to test the technical aspects and run for 6 months (November 2017-April 2018), with limited bill issuance ($20 million for 10000 mobile users) and size per person ($30,000 per wallet and $200,000 for registered businesses).',\n",
       "  'The system used instantaneous settlement and run through mobile line (no internet connection was needed).',\n",
       "  'In this context, the central bank aims at reducing transaction costs of cash (estimated at 0.6 percent of GDP), improve financial innovation by creating a supportive regulatory environment and infrastructure, and fostering financial inclusion by reaching out to nonbanked segments of the society through mobile networks.  ',\n",
       "  'They also noted the importance of ensuring that the education system produces graduates able to tackle the challenges of the technology-driven labor market.',\n",
       "  'Inclusiveness is always a work in progress, and sustained efforts are essential; financial inclusion is one of the multiple dimensions of inclusiveness, in which the authorities have attained important achievements, such as those underlined in the staff report, when noting that “low-income households and small and micro enterprises have access to free bank accounts and debit cards”.']]"
      ]
     },
     "execution_count": 7,
     "metadata": {},
     "output_type": "execute_result"
    }
   ],
   "source": [
    "# Create pattern Doc objects and add to matcher\n",
    "from spacy.matcher import PhraseMatcher\n",
    "matcher = PhraseMatcher(nlp.vocab)\n",
    "patterns = list(nlp.pipe(searchList))\n",
    "matcher.add('Fintech', None, *patterns)\n",
    "\n",
    "pos_sent =[]\n",
    "\n",
    "for doc in new_doc_list:\n",
    "    matches = matcher(doc)\n",
    "    pos_sent.append([doc[start: end].sent.text for match_id, start, end in matches])\n",
    "\n",
    "pos_sent"
   ]
  },
  {
   "cell_type": "code",
   "execution_count": 8,
   "metadata": {},
   "outputs": [
    {
     "data": {
      "text/plain": [
       "'In addition, legislation regulating and widening the range of activities of micro-financial institutions (MFIs) is currently before parliament, and the CBK is working on regulation allowing for the creation of investment funds.'"
      ]
     },
     "execution_count": 8,
     "metadata": {},
     "output_type": "execute_result"
    }
   ],
   "source": [
    "pos_sent[1][0].strip()"
   ]
  },
  {
   "cell_type": "code",
   "execution_count": 60,
   "metadata": {},
   "outputs": [
    {
     "data": {
      "text/html": [
       "<div class=\"entities\" style=\"line-height: 2.5; direction: ltr\">. 18/379 \n",
       "<mark class=\"entity\" style=\"background: #feca74; padding: 0.45em 0.6em; margin: 0 0.25em; line-height: 1; border-radius: 0.35em; box-decoration-break: clone; -webkit-box-decoration-break: clone\">\n",
       "    BOLIVIA\n",
       "    <span style=\"font-size: 0.8em; font-weight: bold; line-height: 1; border-radius: 0.35em; text-transform: uppercase; vertical-align: middle; margin-left: 0.5rem\">GPE</span>\n",
       "</mark>\n",
       " \n",
       "<mark class=\"entity\" style=\"background: #bfe1d9; padding: 0.45em 0.6em; margin: 0 0.25em; line-height: 1; border-radius: 0.35em; box-decoration-break: clone; -webkit-box-decoration-break: clone\">\n",
       "    2018\n",
       "    <span style=\"font-size: 0.8em; font-weight: bold; line-height: 1; border-radius: 0.35em; text-transform: uppercase; vertical-align: middle; margin-left: 0.5rem\">DATE</span>\n",
       "</mark>\n",
       " ARTICLE IV CONSULTATION—PRESS RELEASE AND STAFF REPORT Under Article IV of the IMF’s Articles of Agreement, the \n",
       "<mark class=\"entity\" style=\"background: #7aecec; padding: 0.45em 0.6em; margin: 0 0.25em; line-height: 1; border-radius: 0.35em; box-decoration-break: clone; -webkit-box-decoration-break: clone\">\n",
       "    IMF\n",
       "    <span style=\"font-size: 0.8em; font-weight: bold; line-height: 1; border-radius: 0.35em; text-transform: uppercase; vertical-align: middle; margin-left: 0.5rem\">ORG</span>\n",
       "</mark>\n",
       " holds bilateral discussions with members, usually \n",
       "<mark class=\"entity\" style=\"background: #bfe1d9; padding: 0.45em 0.6em; margin: 0 0.25em; line-height: 1; border-radius: 0.35em; box-decoration-break: clone; -webkit-box-decoration-break: clone\">\n",
       "    every year\n",
       "    <span style=\"font-size: 0.8em; font-weight: bold; line-height: 1; border-radius: 0.35em; text-transform: uppercase; vertical-align: middle; margin-left: 0.5rem\">DATE</span>\n",
       "</mark>\n",
       ". In the context of \n",
       "<mark class=\"entity\" style=\"background: #ffeb80; padding: 0.45em 0.6em; margin: 0 0.25em; line-height: 1; border-radius: 0.35em; box-decoration-break: clone; -webkit-box-decoration-break: clone\">\n",
       "    the 2018 Article IV\n",
       "    <span style=\"font-size: 0.8em; font-weight: bold; line-height: 1; border-radius: 0.35em; text-transform: uppercase; vertical-align: middle; margin-left: 0.5rem\">EVENT</span>\n",
       "</mark>\n",
       " consultation with \n",
       "<mark class=\"entity\" style=\"background: #feca74; padding: 0.45em 0.6em; margin: 0 0.25em; line-height: 1; border-radius: 0.35em; box-decoration-break: clone; -webkit-box-decoration-break: clone\">\n",
       "    Bolivia\n",
       "    <span style=\"font-size: 0.8em; font-weight: bold; line-height: 1; border-radius: 0.35em; text-transform: uppercase; vertical-align: middle; margin-left: 0.5rem\">GPE</span>\n",
       "</mark>\n",
       ", the following documents have been released and are included in this package:  • A Press Release summarizing the views of \n",
       "<mark class=\"entity\" style=\"background: #7aecec; padding: 0.45em 0.6em; margin: 0 0.25em; line-height: 1; border-radius: 0.35em; box-decoration-break: clone; -webkit-box-decoration-break: clone\">\n",
       "    the Executive Board\n",
       "    <span style=\"font-size: 0.8em; font-weight: bold; line-height: 1; border-radius: 0.35em; text-transform: uppercase; vertical-align: middle; margin-left: 0.5rem\">ORG</span>\n",
       "</mark>\n",
       " as expressed during its \n",
       "<mark class=\"entity\" style=\"background: #bfe1d9; padding: 0.45em 0.6em; margin: 0 0.25em; line-height: 1; border-radius: 0.35em; box-decoration-break: clone; -webkit-box-decoration-break: clone\">\n",
       "    November 9\n",
       "    <span style=\"font-size: 0.8em; font-weight: bold; line-height: 1; border-radius: 0.35em; text-transform: uppercase; vertical-align: middle; margin-left: 0.5rem\">DATE</span>\n",
       "</mark>\n",
       ", \n",
       "<mark class=\"entity\" style=\"background: #bfe1d9; padding: 0.45em 0.6em; margin: 0 0.25em; line-height: 1; border-radius: 0.35em; box-decoration-break: clone; -webkit-box-decoration-break: clone\">\n",
       "    2018\n",
       "    <span style=\"font-size: 0.8em; font-weight: bold; line-height: 1; border-radius: 0.35em; text-transform: uppercase; vertical-align: middle; margin-left: 0.5rem\">DATE</span>\n",
       "</mark>\n",
       " consideration of the staff report that concluded the \n",
       "<mark class=\"entity\" style=\"background: #ff8197; padding: 0.45em 0.6em; margin: 0 0.25em; line-height: 1; border-radius: 0.35em; box-decoration-break: clone; -webkit-box-decoration-break: clone\">\n",
       "    Article\n",
       "    <span style=\"font-size: 0.8em; font-weight: bold; line-height: 1; border-radius: 0.35em; text-transform: uppercase; vertical-align: middle; margin-left: 0.5rem\">LAW</span>\n",
       "</mark>\n",
       " </div>"
      ],
      "text/plain": [
       "<IPython.core.display.HTML object>"
      ]
     },
     "metadata": {},
     "output_type": "display_data"
    }
   ],
   "source": [
    "from spacy import displacy\n",
    "displacy.render(new_doc_list[3][10:100], style='ent')"
   ]
  },
  {
   "cell_type": "code",
   "execution_count": 61,
   "metadata": {},
   "outputs": [
    {
     "name": "stdout",
     "output_type": "stream",
     "text": [
      "BOLIVIA 0 GPE\n",
      "2018 0 DATE\n",
      "IMF 0 ORG\n",
      "every year 0 DATE\n",
      "the 2018 Article IV 0 EVENT\n",
      "Bolivia 0 GPE\n",
      "the Executive Board 0 ORG\n",
      "November 9 0 DATE\n",
      "2018 0 DATE\n"
     ]
    }
   ],
   "source": [
    "for ent in new_doc_list[3][10:100].ents:\n",
    "    print(ent.text, ent.ent_id, ent.label_)"
   ]
  },
  {
   "cell_type": "code",
   "execution_count": 65,
   "metadata": {},
   "outputs": [
    {
     "data": {
      "text/plain": [
       "49"
      ]
     },
     "execution_count": 65,
     "metadata": {},
     "output_type": "execute_result"
    }
   ],
   "source": [
    "country = [ent.lower_ for d in new_doc_list for ent in d[0:100].ents if ent.label_ =='GPE' ]\n",
    "len(country)"
   ]
  },
  {
   "cell_type": "code",
   "execution_count": 80,
   "metadata": {},
   "outputs": [],
   "source": [
    "title = [list(d.sents)[3:5] for d in new_doc_list]\n",
    "\n",
    "assert len(new_doc_list)==len(title)"
   ]
  },
  {
   "cell_type": "code",
   "execution_count": 81,
   "metadata": {},
   "outputs": [],
   "source": [
    "output = pd.DataFrame(data={'title': title, 'sentences': pos_sent, 'file': file_name})\n",
    "\n",
    "output_long = output.apply(lambda x: pd.Series(x['sentences']), axis = 1).stack().reset_index(level=1, drop = True)\n",
    "\n",
    "output_long.name = 'context'\n",
    "\n",
    "output_long = pd.DataFrame(output_long)"
   ]
  },
  {
   "cell_type": "code",
   "execution_count": 82,
   "metadata": {},
   "outputs": [],
   "source": [
    "final_output = pd.merge(output, output_long, how = 'outer', left_index=True, right_index=True)"
   ]
  },
  {
   "cell_type": "code",
   "execution_count": 83,
   "metadata": {},
   "outputs": [],
   "source": [
    "final_output[['title','file','context']].to_csv('output.csv')"
   ]
  }
 ],
 "metadata": {
  "kernelspec": {
   "display_name": "Python 3",
   "language": "python",
   "name": "python3"
  },
  "language_info": {
   "codemirror_mode": {
    "name": "ipython",
    "version": 3
   },
   "file_extension": ".py",
   "mimetype": "text/x-python",
   "name": "python",
   "nbconvert_exporter": "python",
   "pygments_lexer": "ipython3",
   "version": "3.5.5"
  }
 },
 "nbformat": 4,
 "nbformat_minor": 2
}
