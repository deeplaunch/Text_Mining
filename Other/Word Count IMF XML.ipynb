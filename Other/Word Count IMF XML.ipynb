{
 "cells": [
  {
   "cell_type": "markdown",
   "metadata": {},
   "source": [
    "# Retrieve from XML Database and Count Key Words"
   ]
  },
  {
   "cell_type": "code",
   "execution_count": 1,
   "metadata": {},
   "outputs": [],
   "source": [
    "import pyodbc\n",
    "import numpy as np\n",
    "import pandas as pd\n",
    "\n",
    "SERVER_NAME = 'TSTWEOSQL,5876'\n",
    "DATABASE_NAME = 'IMF_EPUBS'\n",
    "\n",
    "QUERY_STRING = \"SELECT dbo.PUBLICATION.*, dbo.DOCUMENT.* \\\n",
    "                FROM [dbo].[PUBLICATION] \\\n",
    "                INNER JOIN dbo.DOCUMENT ON dbo.PUBLICATION.SeriesNumber = dbo.DOCUMENT.SeriesNumber \\\n",
    "                WHERE dbo.PUBLICATION.ImfCategoryDesc = 'IMF Staff Country Reports' \\\n",
    "                AND dbo.PUBLICATION.ProjectedYear in(2017,2018)\\\n",
    "                AND dbo.PUBLICATION.Description like '%Article IV%'\" \n",
    "\n",
    "searchList = ['FinTech','TechFin','digital','technology','Blockchain','innovation',\n",
    "              'distributed ledger','Bitcoin','ICO','cryptocurrency','mobile','online','cyber','decentralization',\n",
    "              'international payment','correspondent bank','financial inclusion','InsurTech','RegTech','micro lending',\n",
    "              'machine learning','big data', 'artificial intelligence','analytics']"
   ]
  },
  {
   "cell_type": "markdown",
   "metadata": {},
   "source": [
    "## Load XML files from IMF ODBC database using SQL query"
   ]
  },
  {
   "cell_type": "code",
   "execution_count": 2,
   "metadata": {},
   "outputs": [],
   "source": [
    "def get_xmls(server_name, database_name, query_string):\n",
    "    CON = pyodbc.connect('Trusted_Connection=yes',\n",
    "                         driver='{SQL Server}',\n",
    "                         server='%s' % server_name,\n",
    "                         database='%s' % database_name)\n",
    "\n",
    "    CURSOR = CON.cursor()\n",
    "    return CURSOR.execute(query_string).fetchall()\n",
    "\n",
    "\n",
    "results = get_xmls(SERVER_NAME, DATABASE_NAME, QUERY_STRING)"
   ]
  },
  {
   "cell_type": "code",
   "execution_count": 3,
   "metadata": {},
   "outputs": [
    {
     "data": {
      "text/plain": [
       "347"
      ]
     },
     "execution_count": 3,
     "metadata": {},
     "output_type": "execute_result"
    }
   ],
   "source": [
    "len(results)\n",
    "# print(results[1].Content)"
   ]
  },
  {
   "cell_type": "markdown",
   "metadata": {},
   "source": [
    "## Count frequency of words from the search List"
   ]
  },
  {
   "cell_type": "code",
   "execution_count": 4,
   "metadata": {},
   "outputs": [],
   "source": [
    "def count_words(word, document):\n",
    "    \"return frequency of word appearing in document\"\n",
    "    return document.count(word)\n",
    "\n",
    "v_count_words = np.vectorize(count_words)"
   ]
  },
  {
   "cell_type": "code",
   "execution_count": 5,
   "metadata": {},
   "outputs": [
    {
     "data": {
      "text/html": [
       "<div>\n",
       "<style scoped>\n",
       "    .dataframe tbody tr th:only-of-type {\n",
       "        vertical-align: middle;\n",
       "    }\n",
       "\n",
       "    .dataframe tbody tr th {\n",
       "        vertical-align: top;\n",
       "    }\n",
       "\n",
       "    .dataframe thead th {\n",
       "        text-align: right;\n",
       "    }\n",
       "</style>\n",
       "<table border=\"1\" class=\"dataframe\">\n",
       "  <thead>\n",
       "    <tr style=\"text-align: right;\">\n",
       "      <th></th>\n",
       "      <th>Freq</th>\n",
       "    </tr>\n",
       "  </thead>\n",
       "  <tbody>\n",
       "    <tr>\n",
       "      <th>innovation</th>\n",
       "      <td>153</td>\n",
       "    </tr>\n",
       "    <tr>\n",
       "      <th>financial inclusion</th>\n",
       "      <td>114</td>\n",
       "    </tr>\n",
       "    <tr>\n",
       "      <th>correspondent bank</th>\n",
       "      <td>104</td>\n",
       "    </tr>\n",
       "    <tr>\n",
       "      <th>mobile</th>\n",
       "      <td>63</td>\n",
       "    </tr>\n",
       "    <tr>\n",
       "      <th>technology</th>\n",
       "      <td>55</td>\n",
       "    </tr>\n",
       "    <tr>\n",
       "      <th>FinTech</th>\n",
       "      <td>28</td>\n",
       "    </tr>\n",
       "    <tr>\n",
       "      <th>online</th>\n",
       "      <td>23</td>\n",
       "    </tr>\n",
       "    <tr>\n",
       "      <th>decentralization</th>\n",
       "      <td>19</td>\n",
       "    </tr>\n",
       "    <tr>\n",
       "      <th>digital</th>\n",
       "      <td>18</td>\n",
       "    </tr>\n",
       "    <tr>\n",
       "      <th>analytics</th>\n",
       "      <td>10</td>\n",
       "    </tr>\n",
       "    <tr>\n",
       "      <th>ICO</th>\n",
       "      <td>10</td>\n",
       "    </tr>\n",
       "    <tr>\n",
       "      <th>international payment</th>\n",
       "      <td>5</td>\n",
       "    </tr>\n",
       "    <tr>\n",
       "      <th>cyber</th>\n",
       "      <td>5</td>\n",
       "    </tr>\n",
       "    <tr>\n",
       "      <th>distributed ledger</th>\n",
       "      <td>2</td>\n",
       "    </tr>\n",
       "    <tr>\n",
       "      <th>big data</th>\n",
       "      <td>2</td>\n",
       "    </tr>\n",
       "    <tr>\n",
       "      <th>Bitcoin</th>\n",
       "      <td>1</td>\n",
       "    </tr>\n",
       "    <tr>\n",
       "      <th>InsurTech</th>\n",
       "      <td>1</td>\n",
       "    </tr>\n",
       "    <tr>\n",
       "      <th>RegTech</th>\n",
       "      <td>1</td>\n",
       "    </tr>\n",
       "    <tr>\n",
       "      <th>cryptocurrency</th>\n",
       "      <td>0</td>\n",
       "    </tr>\n",
       "    <tr>\n",
       "      <th>TechFin</th>\n",
       "      <td>0</td>\n",
       "    </tr>\n",
       "    <tr>\n",
       "      <th>Blockchain</th>\n",
       "      <td>0</td>\n",
       "    </tr>\n",
       "    <tr>\n",
       "      <th>micro lending</th>\n",
       "      <td>0</td>\n",
       "    </tr>\n",
       "    <tr>\n",
       "      <th>machine learning</th>\n",
       "      <td>0</td>\n",
       "    </tr>\n",
       "    <tr>\n",
       "      <th>artificial intelligence</th>\n",
       "      <td>0</td>\n",
       "    </tr>\n",
       "  </tbody>\n",
       "</table>\n",
       "</div>"
      ],
      "text/plain": [
       "                         Freq\n",
       "innovation                153\n",
       "financial inclusion       114\n",
       "correspondent bank        104\n",
       "mobile                     63\n",
       "technology                 55\n",
       "FinTech                    28\n",
       "online                     23\n",
       "decentralization           19\n",
       "digital                    18\n",
       "analytics                  10\n",
       "ICO                        10\n",
       "international payment       5\n",
       "cyber                       5\n",
       "distributed ledger          2\n",
       "big data                    2\n",
       "Bitcoin                     1\n",
       "InsurTech                   1\n",
       "RegTech                     1\n",
       "cryptocurrency              0\n",
       "TechFin                     0\n",
       "Blockchain                  0\n",
       "micro lending               0\n",
       "machine learning            0\n",
       "artificial intelligence     0"
      ]
     },
     "execution_count": 5,
     "metadata": {},
     "output_type": "execute_result"
    }
   ],
   "source": [
    "count_all = [v_count_words(searchList, doc.Content) for doc in results]\n",
    "#v_count_words(searchList, results[1].Content)\n",
    "df = pd.DataFrame(data = count_all, columns = searchList)\n",
    "output = df.sum()\n",
    "output = pd.DataFrame(data = output, columns =['Freq'])\n",
    "output.sort_values('Freq', ascending= False)"
   ]
  }
 ],
 "metadata": {
  "kernelspec": {
   "display_name": "Python 3",
   "language": "python",
   "name": "python3"
  },
  "language_info": {
   "codemirror_mode": {
    "name": "ipython",
    "version": 3
   },
   "file_extension": ".py",
   "mimetype": "text/x-python",
   "name": "python",
   "nbconvert_exporter": "python",
   "pygments_lexer": "ipython3",
   "version": "3.5.5"
  }
 },
 "nbformat": 4,
 "nbformat_minor": 2
}
