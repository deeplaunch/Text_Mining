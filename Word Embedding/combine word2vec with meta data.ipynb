{
 "cells": [
  {
   "cell_type": "markdown",
   "metadata": {},
   "source": [
    "### Applies google w2v model to extracted phrases, save vector and meta data to tsv file for embedding projector"
   ]
  },
  {
   "cell_type": "code",
   "execution_count": 1,
   "metadata": {
    "collapsed": true
   },
   "outputs": [],
   "source": [
    "import pandas as pd\n",
    "import numpy as np\n",
    "import re\n",
    "import os\n",
    "from nltk.corpus import stopwords\n",
    "import gensim\n",
    "from gensim.test.utils import common_texts, get_tmpfile\n",
    "from gensim.models import Word2Vec"
   ]
  },
  {
   "cell_type": "markdown",
   "metadata": {},
   "source": [
    "#### load and clean keyphrase dataframe"
   ]
  },
  {
   "cell_type": "code",
   "execution_count": 2,
   "metadata": {
    "collapsed": true
   },
   "outputs": [],
   "source": [
    "output_path = '../Output'"
   ]
  },
  {
   "cell_type": "code",
   "execution_count": 3,
   "metadata": {
    "collapsed": true
   },
   "outputs": [],
   "source": [
    "raw_df = pd.read_csv('../Output/Submissions_with_Keyword_Extraction_Graphical.csv')"
   ]
  },
  {
   "cell_type": "code",
   "execution_count": 4,
   "metadata": {},
   "outputs": [
    {
     "name": "stdout",
     "output_type": "stream",
     "text": [
      "Index(['Unnamed: 0', 'Webstorm', 'Webstorm ID', 'Code', 'Category',\n",
      "       'Submitted', 'Submitter', 'Submitter email', 'Title', 'Description',\n",
      "       'Status', 'Stage', 'Step', 'Score', 'Count of Comments',\n",
      "       'Number of Views', 'Financial Outcomes', 'Projected Net Benefit',\n",
      "       'Comments', 'Associated Tags', 'Has Attachment?', 'Linked?', 'URL',\n",
      "       'Previous Status', 'Date Entered Status', 'Days In Current Status',\n",
      "       'Merged', 'Merged With', 'Screen Name', 'Email', 'First Name',\n",
      "       'Last Name', 'Job Title', 'Department', 'Address', 'Phone', 'Mobile',\n",
      "       'Location', 'Position', 'Work History', 'Expert Skills', 'Photo',\n",
      "       'Submitted From', 'External ID', 'Internal_External', 'Title_modified',\n",
      "       'Team_Submission', 'text rank'],\n",
      "      dtype='object')\n"
     ]
    },
    {
     "data": {
      "text/plain": [
       "array(['IMF Knowledge Sharing Challenge', 'Innovation Wall of Fame',\n",
       "       'Middle East Inclusive Growth Forum',\n",
       "       'SME Financial Inclusion Forum', 'Virtual Mentorship',\n",
       "       'AI & ML Challenge', 'Big Data',\n",
       "       'Box Knowledge Management Success Stories',\n",
       "       'Capacity Development Technology Challenge',\n",
       "       'Challenge Topic Discovery (March 2015)',\n",
       "       'CSF Continuous Improvement Challenge',\n",
       "       'Digital Advisory Marketplace', 'GFSR Analytic Chapter Topics',\n",
       "       'Health & Wellness Framework',\n",
       "       'Health and Wellness Event Challenge Feb 2015',\n",
       "       'Ideas@Work Challenge Template', 'iLab Accelerator Bootcamp',\n",
       "       'iLab Accelerator Projects', 'iLab Requests',\n",
       "       'IMF External Training Challenge', 'InnoFest Contest',\n",
       "       'Innovation Awards', 'Innovation Community Board',\n",
       "       'ITD Branding Challenge', 'Multi-Sports Day',\n",
       "       'Problem Solving Challenge', 'Recognition', 'Shark Tank',\n",
       "       'Template WebStorm', 'The Innovation Fund', 'Volunteer Challenge',\n",
       "       '~ IMF Initiative Template'], dtype=object)"
      ]
     },
     "execution_count": 4,
     "metadata": {},
     "output_type": "execute_result"
    }
   ],
   "source": [
    "# Some inspection\n",
    "print(raw_df.columns)\n",
    "raw_df.Webstorm.unique()"
   ]
  },
  {
   "cell_type": "code",
   "execution_count": 5,
   "metadata": {},
   "outputs": [
    {
     "data": {
      "text/plain": [
       "(4244, 7)"
      ]
     },
     "execution_count": 5,
     "metadata": {},
     "output_type": "execute_result"
    }
   ],
   "source": [
    "def clean(old_list):\n",
    "    \n",
    "    if( type(old_list) is not float):\n",
    "        extracted_list = old_list.split(',')\n",
    "        new_list = list(map(lambda element: re.sub('[^A-Za-z0-9]+', ' ', element).strip(' '), extracted_list))\n",
    "    else:\n",
    "        new_list = []\n",
    "        \n",
    "    return new_list\n",
    "\n",
    "new_df = raw_df['text rank'].apply(lambda x: clean(x))\n",
    "new_df = pd.DataFrame(new_df.tolist(), columns= ['p1','s1','p2','s2','p3','s3','p4','s4','p5','s5','extra'])\n",
    "new_df = new_df[[x for x in new_df.columns if x !='extra']]\n",
    "\n",
    "# select relevant meta data\n",
    "meta_data_columns = ['Webstorm','Department','Number of Views','Count of Comments','Internal_External']\n",
    "selected_df = raw_df[meta_data_columns]\n",
    "new_df = pd.concat([selected_df,new_df], axis = 1)\n",
    "\n",
    "new_df = pd.melt(new_df, value_vars=['p1','p2','p3','p4','p5'], id_vars= meta_data_columns)\n",
    "\n",
    "# remove empty phrasee\n",
    "new_df = new_df[~new_df.value.isnull()]\n",
    "new_df.shape"
   ]
  },
  {
   "cell_type": "markdown",
   "metadata": {},
   "source": [
    "#### remove stop words"
   ]
  },
  {
   "cell_type": "code",
   "execution_count": 6,
   "metadata": {
    "scrolled": false
   },
   "outputs": [
    {
     "name": "stderr",
     "output_type": "stream",
     "text": [
      "[nltk_data] Downloading package stopwords to /home/ubuntu/nltk_data...\n",
      "[nltk_data]   Package stopwords is already up-to-date!\n"
     ]
    }
   ],
   "source": [
    "import nltk\n",
    "nltk.download('stopwords')\n",
    "stop_words = stopwords.words('english')\n",
    "\n",
    "new_df['cleaned phrase'] = new_df.value.apply(lambda x: [w for w in x.split() if w not in (stop_words)])"
   ]
  },
  {
   "cell_type": "markdown",
   "metadata": {},
   "source": [
    "####  get vector from pre-trained google w2v model [downloaded manually]('https://drive.google.com/file/d/0B7XkCwpI5KDYNlNUTTlSS21pQmM/edit?usp=sharing')"
   ]
  },
  {
   "cell_type": "code",
   "execution_count": 7,
   "metadata": {
    "collapsed": true
   },
   "outputs": [],
   "source": [
    "model = gensim.models.KeyedVectors.load_word2vec_format('../Data/GoogleNews-vectors-negative300.bin.gz', binary=True)"
   ]
  },
  {
   "cell_type": "code",
   "execution_count": 8,
   "metadata": {},
   "outputs": [
    {
     "data": {
      "text/html": [
       "<div>\n",
       "<style>\n",
       "    .dataframe thead tr:only-child th {\n",
       "        text-align: right;\n",
       "    }\n",
       "\n",
       "    .dataframe thead th {\n",
       "        text-align: left;\n",
       "    }\n",
       "\n",
       "    .dataframe tbody tr th {\n",
       "        vertical-align: top;\n",
       "    }\n",
       "</style>\n",
       "<table border=\"1\" class=\"dataframe\">\n",
       "  <thead>\n",
       "    <tr style=\"text-align: right;\">\n",
       "      <th></th>\n",
       "      <th>Webstorm</th>\n",
       "      <th>Department</th>\n",
       "      <th>Number of Views</th>\n",
       "      <th>Count of Comments</th>\n",
       "      <th>Internal_External</th>\n",
       "      <th>variable</th>\n",
       "      <th>value</th>\n",
       "      <th>cleaned phrase</th>\n",
       "      <th>vector</th>\n",
       "    </tr>\n",
       "  </thead>\n",
       "  <tbody>\n",
       "    <tr>\n",
       "      <th>4359</th>\n",
       "      <td>Volunteer Challenge</td>\n",
       "      <td>CSFDF</td>\n",
       "      <td>25</td>\n",
       "      <td>3</td>\n",
       "      <td>Internal</td>\n",
       "      <td>p5</td>\n",
       "      <td>blood type</td>\n",
       "      <td>[blood, type]</td>\n",
       "      <td>[-0.1854248, 0.115478516, 0.08956909, 0.073974...</td>\n",
       "    </tr>\n",
       "    <tr>\n",
       "      <th>4360</th>\n",
       "      <td>Volunteer Challenge</td>\n",
       "      <td>CSFDFSP</td>\n",
       "      <td>17</td>\n",
       "      <td>0</td>\n",
       "      <td>Internal</td>\n",
       "      <td>p5</td>\n",
       "      <td>our volunteers</td>\n",
       "      <td>[volunteers]</td>\n",
       "      <td>[0.16015625, 0.021972656, -0.114746094, 0.2060...</td>\n",
       "    </tr>\n",
       "    <tr>\n",
       "      <th>4361</th>\n",
       "      <td>Volunteer Challenge</td>\n",
       "      <td>ITDIS</td>\n",
       "      <td>35</td>\n",
       "      <td>0</td>\n",
       "      <td>Internal</td>\n",
       "      <td>p5</td>\n",
       "      <td>create teams that</td>\n",
       "      <td>[create, teams]</td>\n",
       "      <td>[-0.16186523, 0.105529785, 0.03894043, 0.06335...</td>\n",
       "    </tr>\n",
       "    <tr>\n",
       "      <th>4362</th>\n",
       "      <td>Volunteer Challenge</td>\n",
       "      <td>ICDAIBU</td>\n",
       "      <td>28</td>\n",
       "      <td>1</td>\n",
       "      <td>Internal</td>\n",
       "      <td>p5</td>\n",
       "      <td>activity</td>\n",
       "      <td>[activity]</td>\n",
       "      <td>[0.068359375, -0.079589844, 0.12988281, 0.2832...</td>\n",
       "    </tr>\n",
       "    <tr>\n",
       "      <th>4363</th>\n",
       "      <td>Volunteer Challenge</td>\n",
       "      <td>ITDISCS</td>\n",
       "      <td>27</td>\n",
       "      <td>1</td>\n",
       "      <td>Internal</td>\n",
       "      <td>p5</td>\n",
       "      <td>free imf t</td>\n",
       "      <td>[free, imf]</td>\n",
       "      <td>[0.052856445, -0.060913086, 0.050598145, 0.194...</td>\n",
       "    </tr>\n",
       "  </tbody>\n",
       "</table>\n",
       "</div>"
      ],
      "text/plain": [
       "                 Webstorm Department  Number of Views  Count of Comments  \\\n",
       "4359  Volunteer Challenge      CSFDF               25                  3   \n",
       "4360  Volunteer Challenge    CSFDFSP               17                  0   \n",
       "4361  Volunteer Challenge      ITDIS               35                  0   \n",
       "4362  Volunteer Challenge    ICDAIBU               28                  1   \n",
       "4363  Volunteer Challenge    ITDISCS               27                  1   \n",
       "\n",
       "     Internal_External variable              value   cleaned phrase  \\\n",
       "4359          Internal       p5         blood type    [blood, type]   \n",
       "4360          Internal       p5     our volunteers     [volunteers]   \n",
       "4361          Internal       p5  create teams that  [create, teams]   \n",
       "4362          Internal       p5           activity       [activity]   \n",
       "4363          Internal       p5         free imf t      [free, imf]   \n",
       "\n",
       "                                                 vector  \n",
       "4359  [-0.1854248, 0.115478516, 0.08956909, 0.073974...  \n",
       "4360  [0.16015625, 0.021972656, -0.114746094, 0.2060...  \n",
       "4361  [-0.16186523, 0.105529785, 0.03894043, 0.06335...  \n",
       "4362  [0.068359375, -0.079589844, 0.12988281, 0.2832...  \n",
       "4363  [0.052856445, -0.060913086, 0.050598145, 0.194...  "
      ]
     },
     "execution_count": 8,
     "metadata": {},
     "output_type": "execute_result"
    }
   ],
   "source": [
    "def get_vector(phrase):\n",
    "    \n",
    "    #vector = np.zeros((300,1))\n",
    "    vector = [model[word] for word in phrase if word in model.vocab]\n",
    "    vector = np.array(vector)\n",
    "    \n",
    "    if(vector.shape[0]>0):\n",
    "        vector = np.mean(vector, axis = 0)\n",
    "    \n",
    "    return vector\n",
    "new_df['vector'] = new_df['cleaned phrase'].apply(lambda x : get_vector(x))\n",
    "\n",
    "new_df.tail()"
   ]
  },
  {
   "cell_type": "markdown",
   "metadata": {},
   "source": [
    "#### save meta data and vector data to tsv files for google embedding projector"
   ]
  },
  {
   "cell_type": "code",
   "execution_count": 9,
   "metadata": {},
   "outputs": [
    {
     "data": {
      "text/plain": [
       "(4218, 10)"
      ]
     },
     "execution_count": 9,
     "metadata": {},
     "output_type": "execute_result"
    }
   ],
   "source": [
    "new_df['Department_Short'] = new_df['Department'].apply(lambda x: x[0:3] if type(x) != float else x)\n",
    "\n",
    "# filter out non-matching phrases\n",
    "new_df = new_df[new_df.vector.apply(len) == 300]\n",
    "\n",
    "new_df.shape"
   ]
  },
  {
   "cell_type": "code",
   "execution_count": 10,
   "metadata": {
    "collapsed": true
   },
   "outputs": [],
   "source": [
    "def save_vector(v_list, output_path, vector_file = \"ilab_w2v_vectordata.tsv\"):\n",
    "\n",
    "    with open(os.path.join(output_path,vector_file), 'wb') as file_vector:\n",
    "        for v in v_list:\n",
    "            #file_metadata.write('{0}'.format(word).encode('utf-8') + '\\n'.encode('utf-8'))                \n",
    "            vector_row = '\\t'.join(map(str, v.tolist()))\n",
    "            file_vector.write(gensim.utils.to_utf8(vector_row) + '\\n'.encode('utf-8'))\n",
    "\n",
    "    return None\n",
    "\n",
    "save_vector(v_list = new_df['vector'].tolist(), output_path = output_path)"
   ]
  },
  {
   "cell_type": "code",
   "execution_count": 11,
   "metadata": {
    "collapsed": true
   },
   "outputs": [],
   "source": [
    "def save_meta(metadata, output_path, meta_file = \"ilab_w2v_metadata.tsv\"):\n",
    "\n",
    "    with open(os.path.join(output_path,meta_file), 'wb') as file_metadata:  \n",
    "        name_row = '\\t'.join(map(str, metadata.columns.tolist()))\n",
    "        file_metadata.write('{0}'.format(name_row).encode('utf-8') + '\\n'.encode('utf-8'))  \n",
    "        \n",
    "        for row in metadata.iterrows():\n",
    "            meta_row = '\\t'.join(map(str, row[1].tolist()))\n",
    "            file_metadata.write('{0}'.format(meta_row).encode('utf-8') + '\\n'.encode('utf-8'))                \n",
    "           \n",
    "    return None\n",
    "\n",
    "save_meta(metadata = new_df[['cleaned phrase','Department_Short','Webstorm']], output_path = output_path)"
   ]
  },
  {
   "cell_type": "code",
   "execution_count": 12,
   "metadata": {},
   "outputs": [
    {
     "data": {
      "text/plain": [
       "['cleaned phrase',\n",
       " 'Department_Short',\n",
       " 'Webstorm',\n",
       " 'Number of Views',\n",
       " 'Count of Comments',\n",
       " 'Internal_External']"
      ]
     },
     "execution_count": 12,
     "metadata": {},
     "output_type": "execute_result"
    }
   ],
   "source": [
    "new_df[['cleaned phrase','Department_Short','Webstorm','Number of Views','Count of Comments','Internal_External']].columns.tolist()"
   ]
  }
 ],
 "metadata": {
  "kernelspec": {
   "display_name": "Python 3",
   "language": "python",
   "name": "python3"
  },
  "language_info": {
   "codemirror_mode": {
    "name": "ipython",
    "version": 3
   },
   "file_extension": ".py",
   "mimetype": "text/x-python",
   "name": "python",
   "nbconvert_exporter": "python",
   "pygments_lexer": "ipython3",
   "version": "3.6.3"
  }
 },
 "nbformat": 4,
 "nbformat_minor": 2
}
