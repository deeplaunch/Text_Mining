{
 "cells": [
  {
   "cell_type": "code",
   "execution_count": 1,
   "metadata": {},
   "outputs": [
    {
     "name": "stderr",
     "output_type": "stream",
     "text": [
      "/usr/local/anaconda/lib/python3.6/site-packages/nltk/twitter/__init__.py:20: UserWarning: The twython library has not been installed. Some functionality from the twitter package will not be available.\n",
      "  warnings.warn(\"The twython library has not been installed. \"\n"
     ]
    }
   ],
   "source": [
    "import os \n",
    "import numpy as np\n",
    "import pandas as pd \n",
    "from nltk.sentiment.vader import SentimentIntensityAnalyzer\n",
    "from nltk.tokenize import sent_tokenize, word_tokenize\n"
   ]
  },
  {
   "cell_type": "code",
   "execution_count": 2,
   "metadata": {},
   "outputs": [
    {
     "name": "stdout",
     "output_type": "stream",
     "text": [
      "/mnt/notebook/poc\n",
      "../../data/raw/pos_neg_list.csv\n"
     ]
    }
   ],
   "source": [
    "dictionary_path = os.path.join('../../data/raw/pos_neg_list.csv')\n",
    "print(os.getcwd())\n",
    "print(dictionary_path)"
   ]
  },
  {
   "cell_type": "code",
   "execution_count": 46,
   "metadata": {},
   "outputs": [],
   "source": [
    "new_text ='''  4. The economic recovery is not beneficial pace (Figure 1) . In 2017Q1, GDP expanded by 0.5 percent y-o-y (0.3 percent y-o-y in 2016Q4), supported by an acceleration in consumption and investment. An improvement in credit demand from households, particularly for mortgage loans— benefitting from a combination of a government subsidy program and easing inflation—is supporting credit growth, which reached 2.5 percent y-o-y in March 2017. A negative output gap, ruble appreciation and declining food prices from a strong harvest, have contributed to decreasing inflation, which reached 4.1 percent in April, down from 7.2 percent a year before.  '''\n",
    "\n",
    "sent_text = sent_tokenize(new_text)\n",
    "new_tokens = word_tokenize(new_text)\n",
    "new_tokens =[x.lower() for x in new_tokens]"
   ]
  },
  {
   "cell_type": "markdown",
   "metadata": {},
   "source": [
    "### BoW approach\n",
    "\n",
    "[Reference: Correa, Ricardo, Keshav Garud, Juan M. Londono, and Nathan Mislang (2017). Sentiment in Central Banks’ Financial Stability Reports. International Finance Discussion Papers 1203.](https://www.federalreserve.gov/econres/notes/ifdp-notes/constructing-a-dictionary-for-financial-stability-20170623.htm)"
   ]
  },
  {
   "cell_type": "code",
   "execution_count": 14,
   "metadata": {
    "scrolled": true
   },
   "outputs": [],
   "source": [
    "## Load neg and pos dictionary and create pos and neg list\n",
    "word_dict = pd.read_csv(dictionary_path)\n",
    "pos_list = word_dict[word_dict['Positive']==1]['Word'].to_list()\n",
    "neg_list = word_dict[word_dict['Negative']==1]['Word'].to_list()\n",
    "\n",
    "# define negation word list\n",
    "negation_list = ['not','no','nobody','none','never','neither','cannot']"
   ]
  },
  {
   "cell_type": "code",
   "execution_count": 52,
   "metadata": {},
   "outputs": [
    {
     "data": {
      "text/plain": [
       "0.0"
      ]
     },
     "execution_count": 52,
     "metadata": {},
     "output_type": "execute_result"
    }
   ],
   "source": [
    "def count_words_in_paragraph(paragraph, pos_list, neg_list, negation_list):\n",
    "    \n",
    "    '''return sentiment score ss, \n",
    "       only negate positive words'''\n",
    "    \n",
    "    window = 3\n",
    "    \n",
    "    n_pos = sum([paragraph.count(x) for x in pos_list])\n",
    "    n_neg = sum([paragraph.count(x) for x in neg_list])\n",
    "    n_total = len(paragraph)\n",
    "    \n",
    "    ## calculate number of negation words in the window of +/-3 next to n_pos \n",
    "    \n",
    "    pos_index = [i for i, val in enumerate(paragraph) if val in pos_list]\n",
    "    pos_range_lower = np.array(pos_index) - window\n",
    "    pos_range_upper = np.array(pos_index) + window\n",
    "    \n",
    "    negation_index = [i for i, val in enumerate(paragraph) if val in negation_list]\n",
    "    \n",
    "    \n",
    "    pos_range_lower = np.repeat(pos_range_lower, len(negation_index))    \n",
    "    pos_range_upper = np.repeat(pos_range_upper, len(negation_index))\n",
    "    \n",
    "    negation_index = np.repeat(negation_index, n_pos)\n",
    "    \n",
    "    n_negation = np.sum( (pos_range_lower < negation_index) & (pos_range_upper > negation_index) )\n",
    "    \n",
    "    sentiment_score = (n_pos-n_negation - n_neg) / n_total\n",
    "    \n",
    "    return sentiment_score\n",
    "\n",
    "X = count_words_in_paragraph(paragraph=new_tokens, pos_list=pos_list, neg_list=neg_list, negation_list = negation_list)\n",
    "X"
   ]
  },
  {
   "cell_type": "markdown",
   "metadata": {},
   "source": [
    "### 2. Vader (trained on twitter)"
   ]
  },
  {
   "cell_type": "code",
   "execution_count": 5,
   "metadata": {},
   "outputs": [
    {
     "name": "stdout",
     "output_type": "stream",
     "text": [
      "  High NPLs and large volatility of deposits affected lending, and in 2017, private sector credit was flat.\n",
      "compound:0.25\n",
      "neg:0.083\n",
      "neu:0.781\n",
      "pos:0.135\n",
      "After the Halyk-KKB merger and NBK actions on smaller banks, there are signs that lending is picking up.\n",
      "compound:0.0\n",
      "neg:0.0\n",
      "neu:1.0\n",
      "pos:0.0\n",
      "While the May\n",
      "2018 stock of private sector credit was only slightly higher than a year ago, this reflected write-offs, loan portfolio restructuring, and banks whose licenses were revoked.\n",
      "compound:0.3818\n",
      "neg:0.0\n",
      "neu:0.912\n",
      "pos:0.088\n",
      "Taking these developments\n",
      "into account, credit growth stood at 11.5 percent, with the main driver being consumer loans to households.\n",
      "compound:0.6369\n",
      "neg:0.0\n",
      "neu:0.776\n",
      "pos:0.224\n",
      "Insufficient demand by creditworthy borrowers, along with limited availability of longterm funding, are key constraints to a faster corporate credit growth.\n",
      "compound:0.7351\n",
      "neg:0.126\n",
      "neu:0.556\n",
      "pos:0.319\n"
     ]
    }
   ],
   "source": [
    "sid = SentimentIntensityAnalyzer()\n",
    "for sentence in sent_text:\n",
    "    print(sentence)\n",
    "    ss = sid.polarity_scores(sentence)\n",
    "    for k in sorted(ss):\n",
    "        print('{0}:{1}'.format(k, ss[k]), end ='\\n')"
   ]
  },
  {
   "cell_type": "code",
   "execution_count": 6,
   "metadata": {
    "collapsed": true
   },
   "outputs": [],
   "source": [
    "sentences = [\"VADER is smart, handsome, and funny.\", # positive sentence example\n",
    "...    \"VADER is smart, handsome, and funny!\", # punctuation emphasis handled correctly (sentiment intensity adjusted)\n",
    "...    \"VADER is very smart, handsome, and funny.\",  # booster words handled correctly (sentiment intensity adjusted)\n",
    "...    \"VADER is VERY SMART, handsome, and FUNNY.\",  # emphasis for ALLCAPS handled\n",
    "...    \"VADER is VERY SMART, handsome, and FUNNY!!!\",# combination of signals - VADER appropriately adjusts intensity\n",
    "...    \"VADER is VERY SMART, really handsome, and INCREDIBLY FUNNY!!!\",# booster words & punctuation make this close to ceiling for score\n",
    "...    \"The book was good.\",         # positive sentence\n",
    "...    \"The book was kind of good.\", # qualified positive sentence is handled correctly (intensity adjusted)\n",
    "...    \"The plot was good, but the characters are uncompelling and the dialog is not great.\", # mixed negation sentence\n",
    "...    \"A really bad, horrible book.\",       # negative sentence with booster words\n",
    "...    \"At least it isn't a horrible book.\", # negated negative sentence with contraction\n",
    "...    \":) and :D\",     # emoticons handled\n",
    "...    \"\",              # an empty string is correctly handled\n",
    "...    \"Today sux\",     #  negative slang handled\n",
    "...    \"Today sux!\",    #  negative slang with punctuation emphasis handled\n",
    "...    \"Today SUX!\",    #  negative slang with capitalization emphasis\n",
    "...    \"Today kinda sux! But I'll get by, lol\" # mixed sentiment example with slang and constrastive conjunction \"but\"\n",
    "... ]"
   ]
  },
  {
   "cell_type": "code",
   "execution_count": 7,
   "metadata": {},
   "outputs": [
    {
     "name": "stdout",
     "output_type": "stream",
     "text": [
      "VADER is smart, handsome, and funny.\n",
      "compound:0.8316\n",
      "VADER is smart, handsome, and funny!\n",
      "compound:0.8439\n",
      "VADER is very smart, handsome, and funny.\n",
      "compound:0.8545\n",
      "VADER is VERY SMART, handsome, and FUNNY.\n",
      "compound:0.9227\n",
      "VADER is VERY SMART, handsome, and FUNNY!!!\n",
      "compound:0.9342\n",
      "VADER is VERY SMART, really handsome, and INCREDIBLY FUNNY!!!\n",
      "compound:0.9469\n",
      "The book was good.\n",
      "compound:0.4404\n",
      "The book was kind of good.\n",
      "compound:0.3832\n",
      "The plot was good, but the characters are uncompelling and the dialog is not great.\n",
      "compound:-0.7042\n",
      "A really bad, horrible book.\n",
      "compound:-0.8211\n",
      "At least it isn't a horrible book.\n",
      "compound:0.431\n",
      ":) and :D\n",
      "compound:0.7925\n",
      "\n",
      "compound:0.0\n",
      "Today sux\n",
      "compound:-0.3612\n",
      "Today sux!\n",
      "compound:-0.4199\n",
      "Today SUX!\n",
      "compound:-0.5461\n",
      "Today kinda sux! But I'll get by, lol\n",
      "compound:0.2228\n"
     ]
    }
   ],
   "source": [
    "for sentence in sentences:\n",
    "    print(sentence)\n",
    "    ss = sid.polarity_scores(sentence)\n",
    "    print('{0}:{1}'.format('compound', ss['compound']), end ='\\n')"
   ]
  },
  {
   "cell_type": "markdown",
   "metadata": {},
   "source": [
    "### 3. Liu Hu- simple word count without dealing with negation"
   ]
  },
  {
   "cell_type": "code",
   "execution_count": 9,
   "metadata": {
    "collapsed": true
   },
   "outputs": [],
   "source": [
    "from nltk.sentiment.util import demo_liu_hu_lexicon"
   ]
  },
  {
   "cell_type": "code",
   "execution_count": 13,
   "metadata": {
    "scrolled": true
   },
   "outputs": [
    {
     "name": "stdout",
     "output_type": "stream",
     "text": [
      "  High NPLs and large volatility of deposits affected lending, and in 2017, private sector credit was flat.\n",
      "Negative\n"
     ]
    },
    {
     "name": "stderr",
     "output_type": "stream",
     "text": [
      "/usr/local/anaconda/lib/python3.6/site-packages/matplotlib/cbook/deprecation.py:107: MatplotlibDeprecationWarning: Adding an axes using the same arguments as a previous axes currently reuses the earlier instance.  In a future version, a new instance will always be created and returned.  Meanwhile, this warning can be suppressed, and the future behavior ensured, by passing a unique label to each axes instance.\n",
      "  warnings.warn(message, mplDeprecation, stacklevel=1)\n"
     ]
    },
    {
     "data": {
      "image/png": "[encoded data removed]",
      "text/plain": [
       "<Figure size 432x288 with 1 Axes>"
      ]
     },
     "metadata": {},
     "output_type": "display_data"
    },
    {
     "name": "stdout",
     "output_type": "stream",
     "text": [
      "None\n",
      "After the Halyk-KKB merger and NBK actions on smaller banks, there are signs that lending is picking up.\n",
      "Neutral\n"
     ]
    },
    {
     "data": {
      "image/png": "[encoded data removed]",
      "text/plain": [
       "<Figure size 432x288 with 1 Axes>"
      ]
     },
     "metadata": {},
     "output_type": "display_data"
    },
    {
     "name": "stdout",
     "output_type": "stream",
     "text": [
      "None\n",
      "While the May\n",
      "2018 stock of private sector credit was only slightly higher than a year ago, this reflected write-offs, loan portfolio restructuring, and banks whose licenses were revoked.\n",
      "Positive\n"
     ]
    },
    {
     "data": {
      "image/png": "[encoded data removed]",
      "text/plain": [
       "<Figure size 432x288 with 1 Axes>"
      ]
     },
     "metadata": {},
     "output_type": "display_data"
    },
    {
     "name": "stdout",
     "output_type": "stream",
     "text": [
      "None\n",
      "Taking these developments\n",
      "into account, credit growth stood at 11.5 percent, with the main driver being consumer loans to households.\n",
      "Neutral\n"
     ]
    },
    {
     "data": {
      "image/png": "[encoded data removed]",
      "text/plain": [
       "<Figure size 432x288 with 1 Axes>"
      ]
     },
     "metadata": {},
     "output_type": "display_data"
    },
    {
     "name": "stdout",
     "output_type": "stream",
     "text": [
      "None\n",
      "Insufficient demand by creditworthy borrowers, along with limited availability of longterm funding, are key constraints to a faster corporate credit growth.\n",
      "Negative\n"
     ]
    },
    {
     "data": {
      "image/png": "[encoded data removed]",
      "text/plain": [
       "<Figure size 432x288 with 1 Axes>"
      ]
     },
     "metadata": {},
     "output_type": "display_data"
    },
    {
     "name": "stdout",
     "output_type": "stream",
     "text": [
      "None\n"
     ]
    }
   ],
   "source": [
    "for sentence in sent_text:\n",
    "    print(sentence)\n",
    "    ss = demo_liu_hu_lexicon(sentence, plot = True)\n",
    "    print(ss)"
   ]
  },
  {
   "cell_type": "code",
   "execution_count": 16,
   "metadata": {},
   "outputs": [
    {
     "name": "stdout",
     "output_type": "stream",
     "text": [
      "Positive\n"
     ]
    }
   ],
   "source": [
    "demo_liu_hu_lexicon('not good at all')"
   ]
  },
  {
   "cell_type": "code",
   "execution_count": null,
   "metadata": {
    "collapsed": true
   },
   "outputs": [],
   "source": []
  }
 ],
 "metadata": {
  "kernelspec": {
   "display_name": "Python 3",
   "language": "python",
   "name": "python3"
  },
  "language_info": {
   "codemirror_mode": {
    "name": "ipython",
    "version": 3
   },
   "file_extension": ".py",
   "mimetype": "text/x-python",
   "name": "python",
   "nbconvert_exporter": "python",
   "pygments_lexer": "ipython3",
   "version": "3.6.8"
  }
 },
 "nbformat": 4,
 "nbformat_minor": 2
}
