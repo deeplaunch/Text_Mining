{
 "cells": [
  {
   "cell_type": "code",
   "execution_count": 1,
   "metadata": {},
   "outputs": [],
   "source": [
    "import pickle\n",
    "#import gensim\n",
    "import numpy as np\n",
    "import nltk\n",
    "import re\n",
    "import os \n",
    "import pandas as pd\n",
    "# from nltk.stem import WordNetLemmatizer\n",
    "# from sklearn.feature_extraction.text import CountVectorizer\n",
    "# from nltk.tokenize import word_tokenize,sent_tokenize\n",
    "# import seaborn as sns\n",
    "# import matplotlib.pyplot as plt\n",
    "# import math"
   ]
  },
  {
   "cell_type": "markdown",
   "metadata": {},
   "source": [
    "Economic News Article Tone and Relevance: Contributors read snippets of news articles. They then noted if the article was relevant to the US economy and, if so, what the tone of the article was. Tone was judged on a 9 point scale (from 1 to 9, with 1 representing the most negativity). Dataset contains these judgments as well as the dates, source titles, and text. Dates range from 1951 to 2014."
   ]
  },
  {
   "cell_type": "code",
   "execution_count": 2,
   "metadata": {},
   "outputs": [
    {
     "name": "stdout",
     "output_type": "stream",
     "text": [
      "(8000, 15)\n",
      "(1420, 3)\n"
     ]
    }
   ],
   "source": [
    "raw_data_1 = pd.read_csv('https://d1p17r2m4rzlbo.cloudfront.net/wp-content/uploads/2016/03/Full-Economic-News-DFE-839861.csv',encoding = 'ISO-8859-1')\n",
    "sent_data_1 = raw_data_1[raw_data_1.relevance == 'yes']\n",
    "sent_data_1 = sent_data_1[['text','positivity','positivity:confidence']]\n",
    "print(raw_data_1.shape)\n",
    "print(sent_data_1.shape)"
   ]
  },
  {
   "cell_type": "markdown",
   "metadata": {},
   "source": [
    "U.S. economic performance based on news articles: Contributors viewed a new article headline and a short, bolded excerpt of a sentence or two from the attendant article. Next, they decided if the sentence in question provided an indication of the U.S. economy’s health, then rated the indication on a scale of 1-9, with 1 being negative and 9 being positive."
   ]
  },
  {
   "cell_type": "code",
   "execution_count": 3,
   "metadata": {},
   "outputs": [
    {
     "name": "stdout",
     "output_type": "stream",
     "text": [
      "(5015, 19)\n",
      "(2901, 3)\n"
     ]
    }
   ],
   "source": [
    "raw_data_2 = pd.read_csv('https://d1p17r2m4rzlbo.cloudfront.net/wp-content/uploads/2016/03/us-economic-newspaper.csv',encoding = 'ISO-8859-1')\n",
    "sent_data_2 = raw_data_2[raw_data_2.relevance == 'yes']\n",
    "sent_data_2 = sent_data_2[['text','positivity','positivity:confidence']]\n",
    "print(raw_data_2.shape)\n",
    "print(sent_data_2.shape)"
   ]
  },
  {
   "cell_type": "code",
   "execution_count": 4,
   "metadata": {},
   "outputs": [
    {
     "name": "stdout",
     "output_type": "stream",
     "text": [
      "(4321, 3)\n",
      "(4319, 3)\n"
     ]
    }
   ],
   "source": [
    "train_data = pd.concat([sent_data_1, sent_data_2])\n",
    "print(train_data.shape)\n",
    "\n",
    "# Drop missing values\n",
    "train_data.dropna(inplace=True)\n",
    "print (train_data.shape)"
   ]
  },
  {
   "cell_type": "code",
   "execution_count": 5,
   "metadata": {},
   "outputs": [
    {
     "data": {
      "text/plain": [
       "0.3888"
      ]
     },
     "execution_count": 5,
     "metadata": {},
     "output_type": "execute_result"
    }
   ],
   "source": [
    "# Remove any 'neutral' ratings equal to 5\n",
    "train_data = train_data[train_data['positivity'] != 5]\n",
    "\n",
    "# Encode 6-9s as 1 (rated positively)\n",
    "# Encode 1-4s as 0 (rated poorly)\n",
    "train_data['polarity'] = np.where(train_data['positivity'] > 5, 1, 0)\n",
    "\n",
    "#The numbers of positive rating and negative rating are quite balanced\n",
    "train_data['polarity'].mean()"
   ]
  },
  {
   "cell_type": "code",
   "execution_count": 6,
   "metadata": {},
   "outputs": [],
   "source": [
    "train_data.drop(columns=['positivity:confidence'], inplace= True)"
   ]
  },
  {
   "cell_type": "code",
   "execution_count": 7,
   "metadata": {},
   "outputs": [],
   "source": [
    "train_data.rename(columns ={'text':'sentence','positivity':'sentiment'}, inplace= True)"
   ]
  },
  {
   "cell_type": "code",
   "execution_count": 8,
   "metadata": {},
   "outputs": [],
   "source": [
    "train_data.to_csv('economic_sentiment_data.csv')"
   ]
  },
  {
   "cell_type": "code",
   "execution_count": 11,
   "metadata": {},
   "outputs": [],
   "source": [
    "from sklearn.model_selection import train_test_split\n",
    "\n",
    "# Split data into training and test sets\n",
    "X_train, X_test, y_train, y_test = train_test_split(train_data['sentence'], \n",
    "                                                    train_data['polarity'], \n",
    "                                                    random_state=4)"
   ]
  }
 ],
 "metadata": {
  "kernelspec": {
   "display_name": "Python 3",
   "language": "python",
   "name": "python3"
  },
  "language_info": {
   "codemirror_mode": {
    "name": "ipython",
    "version": 3
   },
   "file_extension": ".py",
   "mimetype": "text/x-python",
   "name": "python",
   "nbconvert_exporter": "python",
   "pygments_lexer": "ipython3",
   "version": "3.6.6"
  }
 },
 "nbformat": 4,
 "nbformat_minor": 2
}
