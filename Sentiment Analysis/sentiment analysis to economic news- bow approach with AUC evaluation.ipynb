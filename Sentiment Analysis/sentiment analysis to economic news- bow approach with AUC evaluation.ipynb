{
 "cells": [
  {
   "cell_type": "code",
   "execution_count": 1,
   "metadata": {},
   "outputs": [],
   "source": [
    "import pandas as pd\n",
    "import numpy as np\n",
    "from nltk.tokenize import word_tokenize\n",
    "from sklearn import metrics"
   ]
  },
  {
   "cell_type": "code",
   "execution_count": 2,
   "metadata": {},
   "outputs": [],
   "source": [
    "word_dict= pd.read_csv('pos_neg_list.csv')\n",
    "pos_list = word_dict[word_dict['Positive']==1]['Word'].tolist()\n",
    "neg_list = word_dict[word_dict['Negative']==1]['Word'].tolist()\n",
    "\n",
    "# define negation word list\n",
    "negation_list = ['not','no','nobody','none','never','neither','cannot']"
   ]
  },
  {
   "cell_type": "code",
   "execution_count": 3,
   "metadata": {},
   "outputs": [],
   "source": [
    "def get_sentiment_score(paragraph, pos_list, neg_list, negation_list):\n",
    "    \n",
    "    '''return sentiment score, only negate positive words'''\n",
    "    \n",
    "    new_tokens = word_tokenize(paragraph)\n",
    "    new_tokens =[x.lower() for x in new_tokens]\n",
    "    \n",
    "    window = 3\n",
    "    \n",
    "    n_pos = sum([new_tokens.count(x) for x in pos_list])\n",
    "    n_neg = sum([new_tokens.count(x) for x in neg_list])\n",
    "    n_total = len(new_tokens)\n",
    "    \n",
    "    ## calculate number of negation words in the window of +/-3 next to n_pos \n",
    "    \n",
    "    pos_index = [i for i, val in enumerate(new_tokens) if val in pos_list]\n",
    "    pos_range_lower = np.array(pos_index) - window\n",
    "    pos_range_upper = np.array(pos_index) + window\n",
    "    \n",
    "    negation_index = [i for i, val in enumerate(new_tokens) if val in negation_list]\n",
    "    \n",
    "    \n",
    "    pos_range_lower = np.repeat(pos_range_lower, len(negation_index))    \n",
    "    pos_range_upper = np.repeat(pos_range_upper, len(negation_index))\n",
    "    \n",
    "    negation_index = np.repeat(negation_index, n_pos)\n",
    "    \n",
    "    n_negation = np.sum( (pos_range_lower < negation_index) & (pos_range_upper > negation_index) )\n",
    "    \n",
    "    sentiment_score = (n_pos-n_negation - n_neg) / n_total\n",
    "    \n",
    "    return sentiment_score"
   ]
  },
  {
   "cell_type": "markdown",
   "metadata": {},
   "source": [
    "### Generate prediction and predict_lable using the above bow approach"
   ]
  },
  {
   "cell_type": "code",
   "execution_count": 4,
   "metadata": {},
   "outputs": [],
   "source": [
    "full_df = pd.read_csv( \"economic_sentiment_data.csv\")\n",
    "\n",
    "full_df = full_df[['sentence','sentiment','polarity']]\n",
    "\n",
    "full_df['prediciton'] = full_df.sentence.apply(lambda x: get_sentiment_score(paragraph=x, pos_list= pos_list, neg_list= neg_list, negation_list= negation_list))\n",
    "\n",
    "full_df['predict_label'] = full_df.prediciton.apply(lambda x: 1 if x>0 else 0)"
   ]
  },
  {
   "cell_type": "markdown",
   "metadata": {},
   "source": [
    "### Get accuracy for full sample and sub samples"
   ]
  },
  {
   "cell_type": "code",
   "execution_count": 5,
   "metadata": {},
   "outputs": [
    {
     "data": {
      "text/plain": [
       "0.6605333333333333"
      ]
     },
     "execution_count": 5,
     "metadata": {},
     "output_type": "execute_result"
    }
   ],
   "source": [
    "metrics.accuracy_score(full_df['polarity'], full_df['predict_label'])"
   ]
  },
  {
   "cell_type": "code",
   "execution_count": 6,
   "metadata": {},
   "outputs": [
    {
     "data": {
      "text/plain": [
       "0.663"
      ]
     },
     "execution_count": 6,
     "metadata": {},
     "output_type": "execute_result"
    }
   ],
   "source": [
    "metrics.accuracy_score(full_df.iloc[:3000]['polarity'], full_df.iloc[:3000]['predict_label'])"
   ]
  },
  {
   "cell_type": "code",
   "execution_count": 7,
   "metadata": {},
   "outputs": [
    {
     "data": {
      "text/plain": [
       "0.6506666666666666"
      ]
     },
     "execution_count": 7,
     "metadata": {},
     "output_type": "execute_result"
    }
   ],
   "source": [
    "metrics.accuracy_score(full_df.iloc[3000:]['polarity'], full_df.iloc[3000:]['predict_label'])"
   ]
  },
  {
   "cell_type": "markdown",
   "metadata": {},
   "source": [
    "### Several Examples"
   ]
  },
  {
   "cell_type": "code",
   "execution_count": 8,
   "metadata": {},
   "outputs": [],
   "source": [
    "pred_sentences = [\n",
    "  '''While the RMB in 2017 was broadly in line with\n",
    "economic fundamentals and desirable policies, the current account surplus was moderately\n",
    "stronger. This reflects structural distortions and policies that cause excessive savings, such as low\n",
    "social spending. Addressing these distortions and the resulting external imbalance would benefit\n",
    "both China and the global economy.''',\n",
    "  '''Favorable domestic and external conditions reduced capital outflows and exchange\n",
    "rate pressure. The RMB was broadly stable against the basket published by the China Foreign\n",
    "Exchange Trade System (CFETS) in 2017, but with more fluctuation versus the dollar, and it has\n",
    "appreciated by about 2 percent in real effective terms in the first half of 2018. The current account\n",
    "surplus continued to decline but, reflecting distortions and policy gaps that encourage excessive\n",
    "savings, the external position for 2017 is assessed as moderately stronger than the level consistent\n",
    "with medium-term fundamentals and desirable policies, with the exchange rate broadly in line\n",
    "(Appendix I).''',\n",
    "    '''Large outflows and pressure on\n",
    "the exchange rate could resume due to tighter\n",
    "and more volatile global financial conditions,\n",
    "especially a surging dollar. Investor sentiment\n",
    "towards emerging markets has recently\n",
    "weakened, and this could intensify, potentially\n",
    "spreading to China.''',\n",
    "  '''. Uncoordinated financial and local government regulatory action could have\n",
    "unintended consequences that trigger disorderly repricing of corporate/LGFV credit risks, losses\n",
    "for investors, and rollover risks for financial institutions''',\n",
    "  '''But a lack of decisive reforms in deleveraging and rebalancing would add to the\n",
    "Faster reform progress could pave the way for higher and\n",
    "more sustainable GDP growth, already-high stock of vulnerabilities and worsen resource allocation, leading to more rapidly\n",
    "diminishing returns over the medium term. This scenario also raises the probability of a disruptive\n",
    "adjustment to Chinese demand which would result in a contractionary impulse to the global\n",
    "economy, as well as spillovers through commodity prices and financial markets. '''\n",
    "]"
   ]
  },
  {
   "cell_type": "code",
   "execution_count": 13,
   "metadata": {},
   "outputs": [
    {
     "data": {
      "text/plain": [
       "[-0.05172413793103448,\n",
       " 0.008771929824561403,\n",
       " -0.045454545454545456,\n",
       " -0.06451612903225806,\n",
       " -0.047058823529411764]"
      ]
     },
     "execution_count": 13,
     "metadata": {},
     "output_type": "execute_result"
    }
   ],
   "source": [
    "[get_sentiment_score(x, pos_list= pos_list, neg_list= neg_list, negation_list= negation_list) for x in pred_sentences]"
   ]
  }
 ],
 "metadata": {
  "kernelspec": {
   "display_name": "Python 3",
   "language": "python",
   "name": "python3"
  },
  "language_info": {
   "codemirror_mode": {
    "name": "ipython",
    "version": 3
   },
   "file_extension": ".py",
   "mimetype": "text/x-python",
   "name": "python",
   "nbconvert_exporter": "python",
   "pygments_lexer": "ipython3",
   "version": "3.5.5"
  }
 },
 "nbformat": 4,
 "nbformat_minor": 2
}
